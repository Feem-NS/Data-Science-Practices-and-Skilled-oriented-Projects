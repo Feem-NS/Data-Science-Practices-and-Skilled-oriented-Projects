{
 "cells": [
  {
   "cell_type": "markdown",
   "id": "silent-corruption",
   "metadata": {},
   "source": [
    "# Julia: Data Basics + Anscombe plot V2"
   ]
  },
  {
   "cell_type": "markdown",
   "id": "explicit-soldier",
   "metadata": {},
   "source": [
    "## Reading CSV Files "
   ]
  },
  {
   "cell_type": "code",
   "execution_count": null,
   "id": "723940ad-0d49-4064-8df8-d64e36462f30",
   "metadata": {},
   "outputs": [],
   "source": [
    "import Pkg; Pkg.add(\"DataFrames\")"
   ]
  },
  {
   "cell_type": "code",
   "execution_count": null,
   "id": "04d06c5c-8741-4b13-bdb1-f7feaa0ddc7f",
   "metadata": {},
   "outputs": [],
   "source": [
    "import Pkg; Pkg.add(\"CSV\")"
   ]
  },
  {
   "cell_type": "code",
   "execution_count": 1,
   "id": "expanded-victor",
   "metadata": {},
   "outputs": [],
   "source": [
    "using DataFrames"
   ]
  },
  {
   "cell_type": "code",
   "execution_count": 2,
   "id": "elegant-inflation",
   "metadata": {},
   "outputs": [],
   "source": [
    "using CSV"
   ]
  },
  {
   "cell_type": "code",
   "execution_count": 3,
   "id": "violent-appointment",
   "metadata": {},
   "outputs": [
    {
     "data": {
      "text/html": [
       "<div><div style = \"float: left;\"><span>11×8 DataFrame</span></div><div style = \"clear: both;\"></div></div><div class = \"data-frame\" style = \"overflow-x: scroll;\"><table class = \"data-frame\" style = \"margin-bottom: 6px;\"><thead><tr class = \"header\"><th class = \"rowNumber\" style = \"font-weight: bold; text-align: right;\">Row</th><th style = \"text-align: left;\">x1</th><th style = \"text-align: left;\">x2</th><th style = \"text-align: left;\">x3</th><th style = \"text-align: left;\">x4</th><th style = \"text-align: left;\">y1</th><th style = \"text-align: left;\">y2</th><th style = \"text-align: left;\">y3</th><th style = \"text-align: left;\">y4</th></tr><tr class = \"subheader headerLastRow\"><th class = \"rowNumber\" style = \"font-weight: bold; text-align: right;\"></th><th title = \"Int64\" style = \"text-align: left;\">Int64</th><th title = \"Int64\" style = \"text-align: left;\">Int64</th><th title = \"Int64\" style = \"text-align: left;\">Int64</th><th title = \"Int64\" style = \"text-align: left;\">Int64</th><th title = \"Float64\" style = \"text-align: left;\">Float64</th><th title = \"Float64\" style = \"text-align: left;\">Float64</th><th title = \"Float64\" style = \"text-align: left;\">Float64</th><th title = \"Float64\" style = \"text-align: left;\">Float64</th></tr></thead><tbody><tr><td class = \"rowNumber\" style = \"font-weight: bold; text-align: right;\">1</td><td style = \"text-align: right;\">10</td><td style = \"text-align: right;\">10</td><td style = \"text-align: right;\">10</td><td style = \"text-align: right;\">8</td><td style = \"text-align: right;\">8.04</td><td style = \"text-align: right;\">9.14</td><td style = \"text-align: right;\">7.46</td><td style = \"text-align: right;\">6.58</td></tr><tr><td class = \"rowNumber\" style = \"font-weight: bold; text-align: right;\">2</td><td style = \"text-align: right;\">8</td><td style = \"text-align: right;\">8</td><td style = \"text-align: right;\">8</td><td style = \"text-align: right;\">8</td><td style = \"text-align: right;\">6.95</td><td style = \"text-align: right;\">8.14</td><td style = \"text-align: right;\">6.77</td><td style = \"text-align: right;\">5.76</td></tr><tr><td class = \"rowNumber\" style = \"font-weight: bold; text-align: right;\">3</td><td style = \"text-align: right;\">13</td><td style = \"text-align: right;\">13</td><td style = \"text-align: right;\">13</td><td style = \"text-align: right;\">8</td><td style = \"text-align: right;\">7.58</td><td style = \"text-align: right;\">8.74</td><td style = \"text-align: right;\">12.74</td><td style = \"text-align: right;\">7.71</td></tr><tr><td class = \"rowNumber\" style = \"font-weight: bold; text-align: right;\">4</td><td style = \"text-align: right;\">9</td><td style = \"text-align: right;\">9</td><td style = \"text-align: right;\">9</td><td style = \"text-align: right;\">8</td><td style = \"text-align: right;\">8.81</td><td style = \"text-align: right;\">8.77</td><td style = \"text-align: right;\">7.11</td><td style = \"text-align: right;\">8.84</td></tr><tr><td class = \"rowNumber\" style = \"font-weight: bold; text-align: right;\">5</td><td style = \"text-align: right;\">11</td><td style = \"text-align: right;\">11</td><td style = \"text-align: right;\">11</td><td style = \"text-align: right;\">8</td><td style = \"text-align: right;\">8.33</td><td style = \"text-align: right;\">9.26</td><td style = \"text-align: right;\">7.81</td><td style = \"text-align: right;\">8.47</td></tr><tr><td class = \"rowNumber\" style = \"font-weight: bold; text-align: right;\">6</td><td style = \"text-align: right;\">14</td><td style = \"text-align: right;\">14</td><td style = \"text-align: right;\">14</td><td style = \"text-align: right;\">8</td><td style = \"text-align: right;\">9.96</td><td style = \"text-align: right;\">8.1</td><td style = \"text-align: right;\">8.84</td><td style = \"text-align: right;\">7.04</td></tr><tr><td class = \"rowNumber\" style = \"font-weight: bold; text-align: right;\">7</td><td style = \"text-align: right;\">6</td><td style = \"text-align: right;\">6</td><td style = \"text-align: right;\">6</td><td style = \"text-align: right;\">8</td><td style = \"text-align: right;\">7.24</td><td style = \"text-align: right;\">6.13</td><td style = \"text-align: right;\">6.08</td><td style = \"text-align: right;\">5.25</td></tr><tr><td class = \"rowNumber\" style = \"font-weight: bold; text-align: right;\">8</td><td style = \"text-align: right;\">4</td><td style = \"text-align: right;\">4</td><td style = \"text-align: right;\">4</td><td style = \"text-align: right;\">19</td><td style = \"text-align: right;\">4.26</td><td style = \"text-align: right;\">3.1</td><td style = \"text-align: right;\">5.39</td><td style = \"text-align: right;\">12.5</td></tr><tr><td class = \"rowNumber\" style = \"font-weight: bold; text-align: right;\">9</td><td style = \"text-align: right;\">12</td><td style = \"text-align: right;\">12</td><td style = \"text-align: right;\">12</td><td style = \"text-align: right;\">8</td><td style = \"text-align: right;\">10.84</td><td style = \"text-align: right;\">9.13</td><td style = \"text-align: right;\">8.15</td><td style = \"text-align: right;\">5.56</td></tr><tr><td class = \"rowNumber\" style = \"font-weight: bold; text-align: right;\">10</td><td style = \"text-align: right;\">7</td><td style = \"text-align: right;\">7</td><td style = \"text-align: right;\">7</td><td style = \"text-align: right;\">8</td><td style = \"text-align: right;\">4.82</td><td style = \"text-align: right;\">7.26</td><td style = \"text-align: right;\">6.42</td><td style = \"text-align: right;\">7.91</td></tr><tr><td class = \"rowNumber\" style = \"font-weight: bold; text-align: right;\">11</td><td style = \"text-align: right;\">5</td><td style = \"text-align: right;\">5</td><td style = \"text-align: right;\">5</td><td style = \"text-align: right;\">8</td><td style = \"text-align: right;\">5.68</td><td style = \"text-align: right;\">4.74</td><td style = \"text-align: right;\">5.73</td><td style = \"text-align: right;\">6.89</td></tr></tbody></table></div>"
      ],
      "text/latex": [
       "\\begin{tabular}{r|cccccccc}\n",
       "\t& x1 & x2 & x3 & x4 & y1 & y2 & y3 & y4\\\\\n",
       "\t\\hline\n",
       "\t& Int64 & Int64 & Int64 & Int64 & Float64 & Float64 & Float64 & Float64\\\\\n",
       "\t\\hline\n",
       "\t1 & 10 & 10 & 10 & 8 & 8.04 & 9.14 & 7.46 & 6.58 \\\\\n",
       "\t2 & 8 & 8 & 8 & 8 & 6.95 & 8.14 & 6.77 & 5.76 \\\\\n",
       "\t3 & 13 & 13 & 13 & 8 & 7.58 & 8.74 & 12.74 & 7.71 \\\\\n",
       "\t4 & 9 & 9 & 9 & 8 & 8.81 & 8.77 & 7.11 & 8.84 \\\\\n",
       "\t5 & 11 & 11 & 11 & 8 & 8.33 & 9.26 & 7.81 & 8.47 \\\\\n",
       "\t6 & 14 & 14 & 14 & 8 & 9.96 & 8.1 & 8.84 & 7.04 \\\\\n",
       "\t7 & 6 & 6 & 6 & 8 & 7.24 & 6.13 & 6.08 & 5.25 \\\\\n",
       "\t8 & 4 & 4 & 4 & 19 & 4.26 & 3.1 & 5.39 & 12.5 \\\\\n",
       "\t9 & 12 & 12 & 12 & 8 & 10.84 & 9.13 & 8.15 & 5.56 \\\\\n",
       "\t10 & 7 & 7 & 7 & 8 & 4.82 & 7.26 & 6.42 & 7.91 \\\\\n",
       "\t11 & 5 & 5 & 5 & 8 & 5.68 & 4.74 & 5.73 & 6.89 \\\\\n",
       "\\end{tabular}\n"
      ],
      "text/plain": [
       "\u001b[1m11×8 DataFrame\u001b[0m\n",
       "\u001b[1m Row \u001b[0m│\u001b[1m x1    \u001b[0m\u001b[1m x2    \u001b[0m\u001b[1m x3    \u001b[0m\u001b[1m x4    \u001b[0m\u001b[1m y1      \u001b[0m\u001b[1m y2      \u001b[0m\u001b[1m y3      \u001b[0m\u001b[1m y4      \u001b[0m\n",
       "     │\u001b[90m Int64 \u001b[0m\u001b[90m Int64 \u001b[0m\u001b[90m Int64 \u001b[0m\u001b[90m Int64 \u001b[0m\u001b[90m Float64 \u001b[0m\u001b[90m Float64 \u001b[0m\u001b[90m Float64 \u001b[0m\u001b[90m Float64 \u001b[0m\n",
       "─────┼────────────────────────────────────────────────────────────────\n",
       "   1 │    10     10     10      8     8.04     9.14     7.46     6.58\n",
       "   2 │     8      8      8      8     6.95     8.14     6.77     5.76\n",
       "   3 │    13     13     13      8     7.58     8.74    12.74     7.71\n",
       "   4 │     9      9      9      8     8.81     8.77     7.11     8.84\n",
       "   5 │    11     11     11      8     8.33     9.26     7.81     8.47\n",
       "   6 │    14     14     14      8     9.96     8.1      8.84     7.04\n",
       "   7 │     6      6      6      8     7.24     6.13     6.08     5.25\n",
       "   8 │     4      4      4     19     4.26     3.1      5.39    12.5\n",
       "   9 │    12     12     12      8    10.84     9.13     8.15     5.56\n",
       "  10 │     7      7      7      8     4.82     7.26     6.42     7.91\n",
       "  11 │     5      5      5      8     5.68     4.74     5.73     6.89"
      ]
     },
     "execution_count": 3,
     "metadata": {},
     "output_type": "execute_result"
    }
   ],
   "source": [
    "df = CSV.File(\"data/anscombe.csv\") |> DataFrame"
   ]
  },
  {
   "cell_type": "code",
   "execution_count": null,
   "id": "everyday-cedar",
   "metadata": {},
   "outputs": [],
   "source": [
    "df.x1  # 1st column data (all rows)"
   ]
  },
  {
   "cell_type": "code",
   "execution_count": null,
   "id": "dedicated-dream",
   "metadata": {},
   "outputs": [],
   "source": [
    "df[1:5, :x1] # 1st column data (5 rows)"
   ]
  },
  {
   "cell_type": "code",
   "execution_count": null,
   "id": "subsequent-lebanon",
   "metadata": {},
   "outputs": [],
   "source": [
    "select(df, r\"y\")  #  make in-place selection using the bang variant of select "
   ]
  },
  {
   "cell_type": "markdown",
   "id": "fundamental-orbit",
   "metadata": {},
   "source": [
    "## Descriptive Study"
   ]
  },
  {
   "cell_type": "code",
   "execution_count": null,
   "id": "concrete-cooperative",
   "metadata": {},
   "outputs": [],
   "source": [
    "describe(df) # basic stat of the table"
   ]
  },
  {
   "cell_type": "code",
   "execution_count": null,
   "id": "stopped-recall",
   "metadata": {},
   "outputs": [],
   "source": [
    "describe(df, :mean, :std)  # Particular stat metrics"
   ]
  },
  {
   "cell_type": "code",
   "execution_count": null,
   "id": "living-rolling",
   "metadata": {},
   "outputs": [],
   "source": [
    "nrow(df), ncol(df)"
   ]
  },
  {
   "cell_type": "code",
   "execution_count": null,
   "id": "fourth-cradle",
   "metadata": {},
   "outputs": [],
   "source": [
    "size(df)"
   ]
  },
  {
   "cell_type": "code",
   "execution_count": null,
   "id": "neutral-devon",
   "metadata": {},
   "outputs": [],
   "source": [
    "df.id = 1:nrow(df)  # add new column"
   ]
  },
  {
   "cell_type": "code",
   "execution_count": null,
   "id": "designed-mexican",
   "metadata": {},
   "outputs": [],
   "source": [
    "df"
   ]
  },
  {
   "cell_type": "markdown",
   "id": "economic-dress",
   "metadata": {},
   "source": [
    "Find out global minimum and maximum for X and Y separately. "
   ]
  },
  {
   "cell_type": "code",
   "execution_count": null,
   "id": "recreational-shoulder",
   "metadata": {},
   "outputs": [],
   "source": [
    "extrema([ [13, 2, 5, 7] [2, 4, 5, 6]]) "
   ]
  },
  {
   "cell_type": "code",
   "execution_count": null,
   "id": "incoming-evolution",
   "metadata": {},
   "outputs": [],
   "source": [
    "select(df, r\"x\")"
   ]
  },
  {
   "cell_type": "code",
   "execution_count": null,
   "id": "former-promise",
   "metadata": {},
   "outputs": [],
   "source": [
    "Matrix(select(df, r\"x\"))"
   ]
  },
  {
   "cell_type": "code",
   "execution_count": null,
   "id": "serious-savage",
   "metadata": {},
   "outputs": [],
   "source": [
    "extrema(Matrix(select(df, r\"x\")))"
   ]
  },
  {
   "cell_type": "code",
   "execution_count": null,
   "id": "silver-horizon",
   "metadata": {},
   "outputs": [],
   "source": [
    "extrema(Matrix(select(df, r\"x\")))  .+ (-1, 1) # Min and Max X for plot"
   ]
  },
  {
   "cell_type": "code",
   "execution_count": 7,
   "id": "guided-julian",
   "metadata": {},
   "outputs": [
    {
     "data": {
      "text/plain": [
       "2-element Vector{Int64}:\n",
       "  3\n",
       " 20"
      ]
     },
     "execution_count": 7,
     "metadata": {},
     "output_type": "execute_result"
    }
   ],
   "source": [
    "xlim = collect(extrema(Matrix(select(df, r\"x\")))  .+ (-1, 1))\n",
    "# turn them to an Array{Int64}"
   ]
  },
  {
   "cell_type": "code",
   "execution_count": 8,
   "id": "inside-riverside",
   "metadata": {},
   "outputs": [
    {
     "data": {
      "text/plain": [
       "2-element Vector{Float64}:\n",
       "  2.1\n",
       " 13.74"
      ]
     },
     "execution_count": 8,
     "metadata": {},
     "output_type": "execute_result"
    }
   ],
   "source": [
    "ylim = collect(extrema(Matrix(select(df, r\"y\")))  .+ (-1, 1))"
   ]
  },
  {
   "cell_type": "code",
   "execution_count": null,
   "id": "large-small",
   "metadata": {},
   "outputs": [],
   "source": [
    "import Pkg; Pkg.add(\"PyPlot\")"
   ]
  },
  {
   "cell_type": "code",
   "execution_count": null,
   "id": "political-lawsuit",
   "metadata": {},
   "outputs": [],
   "source": [
    "import Pkg; Pkg.add(\"GLM\")"
   ]
  },
  {
   "cell_type": "code",
   "execution_count": null,
   "id": "local-breathing",
   "metadata": {},
   "outputs": [],
   "source": [
    "using PyPlot"
   ]
  },
  {
   "cell_type": "code",
   "execution_count": null,
   "id": "69976c89-1690-4c8e-9575-75c1d0be0f1a",
   "metadata": {},
   "outputs": [],
   "source": [
    "using GLM"
   ]
  },
  {
   "cell_type": "code",
   "execution_count": null,
   "id": "46da42a6-6927-4cad-a8ac-2a3c2668e8a2",
   "metadata": {},
   "outputs": [],
   "source": [
    "## Plot V1\n",
    "\n",
    "# fig, axs = plt.subplots(2, 2)\n",
    "# fig.tight_layout(pad=4.0)\n",
    "# for i in 1:4\n",
    "#     x = Symbol(\"x\", i)\n",
    "#     y = Symbol(\"y\", i)\n",
    "#     model = lm(term(y)~term(x), df) # use GLM to predict the regression line\n",
    "#     axs[i].plot(xlim, predict(model, DataFrame(x => xlim)), color=\"orange\")\n",
    "#     axs[i].scatter(df[:, x], df[:, y])\n",
    "#     axs[i].set_xlim(xlim)\n",
    "#     axs[i].set_ylim(ylim)\n",
    "#     axs[i].set_xlabel(\"x$i\")\n",
    "#     axs[i].set_ylabel(\"y$i\")\n",
    "#     a, b = round.(coef(model), digits=2)\n",
    "#     c = round(100 * r2(model), digits=2)\n",
    "#     axs[i].set_title(string(\"R²=$c%, $y=$a+$b$x\"))\n",
    "# end"
   ]
  },
  {
   "cell_type": "code",
   "execution_count": 10,
   "id": "37916fdf-3ee7-43b3-a9c6-974fbaf5a6c6",
   "metadata": {},
   "outputs": [
    {
     "name": "stderr",
     "output_type": "stream",
     "text": [
      "\u001b[32m\u001b[1m    Updating\u001b[22m\u001b[39m registry at `C:\\Users\\Natthapong\\.julia\\registries\\General.toml`\n",
      "\u001b[32m\u001b[1m   Resolving\u001b[22m\u001b[39m package versions...\n",
      "\u001b[32m\u001b[1m   Installed\u001b[22m\u001b[39m x265_jll ───────────────────── v3.5.0+0\n",
      "\u001b[32m\u001b[1m   Installed\u001b[22m\u001b[39m GR_jll ─────────────────────── v0.71.5+0\n",
      "\u001b[32m\u001b[1m   Installed\u001b[22m\u001b[39m LERC_jll ───────────────────── v3.0.0+1\n",
      "\u001b[32m\u001b[1m   Installed\u001b[22m\u001b[39m Opus_jll ───────────────────── v1.3.2+0\n",
      "\u001b[32m\u001b[1m   Installed\u001b[22m\u001b[39m libfdk_aac_jll ─────────────── v2.0.2+0\n",
      "\u001b[32m\u001b[1m   Installed\u001b[22m\u001b[39m JpegTurbo_jll ──────────────── v2.1.2+0\n",
      "\u001b[32m\u001b[1m   Installed\u001b[22m\u001b[39m Libmount_jll ───────────────── v2.35.0+0\n",
      "\u001b[32m\u001b[1m   Installed\u001b[22m\u001b[39m LoggingExtras ──────────────── v1.0.0\n",
      "\u001b[32m\u001b[1m   Installed\u001b[22m\u001b[39m Xorg_xkbcomp_jll ───────────── v1.4.2+4\n",
      "\u001b[32m\u001b[1m   Installed\u001b[22m\u001b[39m Measures ───────────────────── v0.3.2\n",
      "\u001b[32m\u001b[1m   Installed\u001b[22m\u001b[39m RelocatableFolders ─────────── v1.0.0\n",
      "\u001b[32m\u001b[1m   Installed\u001b[22m\u001b[39m Xorg_xcb_util_wm_jll ───────── v0.4.1+1\n",
      "\u001b[32m\u001b[1m   Installed\u001b[22m\u001b[39m Grisu ──────────────────────── v1.0.2\n",
      "\u001b[32m\u001b[1m   Installed\u001b[22m\u001b[39m Contour ────────────────────── v0.6.2\n",
      "\u001b[32m\u001b[1m   Installed\u001b[22m\u001b[39m Xorg_xcb_util_image_jll ────── v0.4.0+1\n",
      "\u001b[32m\u001b[1m   Installed\u001b[22m\u001b[39m Xorg_libpthread_stubs_jll ──── v0.1.0+3\n",
      "\u001b[32m\u001b[1m   Installed\u001b[22m\u001b[39m RecipesPipeline ────────────── v0.6.11\n",
      "\u001b[32m\u001b[1m   Installed\u001b[22m\u001b[39m PlotUtils ──────────────────── v1.3.4\n",
      "\u001b[32m\u001b[1m   Installed\u001b[22m\u001b[39m OpenSSL ────────────────────── v1.3.3\n",
      "\u001b[32m\u001b[1m   Installed\u001b[22m\u001b[39m HTTP ───────────────────────── v1.7.4\n",
      "\u001b[32m\u001b[1m   Installed\u001b[22m\u001b[39m Cairo_jll ──────────────────── v1.16.1+1\n",
      "\u001b[32m\u001b[1m   Installed\u001b[22m\u001b[39m Xorg_xcb_util_jll ──────────── v0.4.0+1\n",
      "\u001b[32m\u001b[1m   Installed\u001b[22m\u001b[39m Fontconfig_jll ─────────────── v2.13.93+0\n",
      "\u001b[32m\u001b[1m   Installed\u001b[22m\u001b[39m Xorg_libxkbfile_jll ────────── v1.1.0+4\n",
      "\u001b[32m\u001b[1m   Installed\u001b[22m\u001b[39m Libgpg_error_jll ───────────── v1.42.0+0\n",
      "\u001b[32m\u001b[1m   Installed\u001b[22m\u001b[39m Xorg_libXinerama_jll ───────── v1.1.4+4\n",
      "\u001b[32m\u001b[1m   Installed\u001b[22m\u001b[39m Xorg_libXau_jll ────────────── v1.0.9+4\n",
      "\u001b[32m\u001b[1m   Installed\u001b[22m\u001b[39m Qt5Base_jll ────────────────── v5.15.3+2\n",
      "\u001b[32m\u001b[1m   Installed\u001b[22m\u001b[39m Xorg_xcb_util_keysyms_jll ──── v0.4.0+1\n",
      "\u001b[32m\u001b[1m   Installed\u001b[22m\u001b[39m Showoff ────────────────────── v1.0.3\n",
      "\u001b[32m\u001b[1m   Installed\u001b[22m\u001b[39m FFMPEG ─────────────────────── v0.4.1\n",
      "\u001b[32m\u001b[1m   Installed\u001b[22m\u001b[39m xkbcommon_jll ──────────────── v1.4.1+0\n",
      "\u001b[32m\u001b[1m   Installed\u001b[22m\u001b[39m ColorSchemes ───────────────── v3.20.0\n",
      "\u001b[32m\u001b[1m   Installed\u001b[22m\u001b[39m Bzip2_jll ──────────────────── v1.0.8+0\n",
      "\u001b[32m\u001b[1m   Installed\u001b[22m\u001b[39m Pipe ───────────────────────── v1.3.0\n",
      "\u001b[32m\u001b[1m   Installed\u001b[22m\u001b[39m PlotThemes ─────────────────── v3.1.0\n",
      "\u001b[32m\u001b[1m   Installed\u001b[22m\u001b[39m HarfBuzz_jll ───────────────── v2.8.1+1\n",
      "\u001b[32m\u001b[1m   Installed\u001b[22m\u001b[39m SimpleBufferStream ─────────── v1.1.0\n",
      "\u001b[32m\u001b[1m   Installed\u001b[22m\u001b[39m LZO_jll ────────────────────── v2.10.1+0\n",
      "\u001b[32m\u001b[1m   Installed\u001b[22m\u001b[39m fzf_jll ────────────────────── v0.29.0+0\n",
      "\u001b[32m\u001b[1m   Installed\u001b[22m\u001b[39m GR ─────────────────────────── v0.71.5\n",
      "\u001b[32m\u001b[1m   Installed\u001b[22m\u001b[39m GLFW_jll ───────────────────── v3.3.8+0\n",
      "\u001b[32m\u001b[1m   Installed\u001b[22m\u001b[39m FriBidi_jll ────────────────── v1.0.10+0\n",
      "\u001b[32m\u001b[1m   Installed\u001b[22m\u001b[39m x264_jll ───────────────────── v2021.5.5+0\n",
      "\u001b[32m\u001b[1m   Installed\u001b[22m\u001b[39m FreeType2_jll ──────────────── v2.10.4+0\n",
      "\u001b[32m\u001b[1m   Installed\u001b[22m\u001b[39m UnicodeFun ─────────────────── v0.4.1\n",
      "\u001b[32m\u001b[1m   Installed\u001b[22m\u001b[39m Xorg_libxcb_jll ────────────── v1.13.0+3\n",
      "\u001b[32m\u001b[1m   Installed\u001b[22m\u001b[39m JLFzf ──────────────────────── v0.1.5\n",
      "\u001b[32m\u001b[1m   Installed\u001b[22m\u001b[39m libpng_jll ─────────────────── v1.6.38+0\n",
      "\u001b[32m\u001b[1m   Installed\u001b[22m\u001b[39m Zstd_jll ───────────────────── v1.5.2+0\n",
      "\u001b[32m\u001b[1m   Installed\u001b[22m\u001b[39m Xorg_libXext_jll ───────────── v1.3.4+4\n",
      "\u001b[32m\u001b[1m   Installed\u001b[22m\u001b[39m TensorCore ─────────────────── v0.1.1\n",
      "\u001b[32m\u001b[1m   Installed\u001b[22m\u001b[39m Expat_jll ──────────────────── v2.4.8+0\n",
      "\u001b[32m\u001b[1m   Installed\u001b[22m\u001b[39m Scratch ────────────────────── v1.1.1\n",
      "\u001b[32m\u001b[1m   Installed\u001b[22m\u001b[39m libaom_jll ─────────────────── v3.4.0+0\n",
      "\u001b[32m\u001b[1m   Installed\u001b[22m\u001b[39m Libtiff_jll ────────────────── v4.4.0+0\n",
      "\u001b[32m\u001b[1m   Installed\u001b[22m\u001b[39m Ogg_jll ────────────────────── v1.3.5+1\n",
      "\u001b[32m\u001b[1m   Installed\u001b[22m\u001b[39m Libffi_jll ─────────────────── v3.2.2+1\n",
      "\u001b[32m\u001b[1m   Installed\u001b[22m\u001b[39m Xorg_libXrender_jll ────────── v0.9.10+4\n",
      "\u001b[32m\u001b[1m   Installed\u001b[22m\u001b[39m XSLT_jll ───────────────────── v1.1.34+0\n",
      "\u001b[32m\u001b[1m   Installed\u001b[22m\u001b[39m Xorg_libXi_jll ─────────────── v1.7.10+4\n",
      "\u001b[32m\u001b[1m   Installed\u001b[22m\u001b[39m ColorVectorSpace ───────────── v0.9.10\n",
      "\u001b[32m\u001b[1m   Installed\u001b[22m\u001b[39m Plots ──────────────────────── v1.38.4\n",
      "\u001b[32m\u001b[1m   Installed\u001b[22m\u001b[39m Xorg_libXcursor_jll ────────── v1.2.0+4\n",
      "\u001b[32m\u001b[1m   Installed\u001b[22m\u001b[39m Graphite2_jll ──────────────── v1.3.14+0\n",
      "\u001b[32m\u001b[1m   Installed\u001b[22m\u001b[39m Libuuid_jll ────────────────── v2.36.0+0\n",
      "\u001b[32m\u001b[1m   Installed\u001b[22m\u001b[39m libass_jll ─────────────────── v0.15.1+0\n",
      "\u001b[32m\u001b[1m   Installed\u001b[22m\u001b[39m Wayland_protocols_jll ──────── v1.25.0+0\n",
      "\u001b[32m\u001b[1m   Installed\u001b[22m\u001b[39m Xorg_xcb_util_renderutil_jll ─ v0.3.9+1\n",
      "\u001b[32m\u001b[1m   Installed\u001b[22m\u001b[39m Pixman_jll ─────────────────── v0.40.1+0\n",
      "\u001b[32m\u001b[1m   Installed\u001b[22m\u001b[39m XML2_jll ───────────────────── v2.10.3+0\n",
      "\u001b[32m\u001b[1m   Installed\u001b[22m\u001b[39m Xorg_xtrans_jll ────────────── v1.4.0+3\n",
      "\u001b[32m\u001b[1m   Installed\u001b[22m\u001b[39m OpenSSL_jll ────────────────── v1.1.19+0\n",
      "\u001b[32m\u001b[1m   Installed\u001b[22m\u001b[39m FFMPEG_jll ─────────────────── v4.4.2+2\n",
      "\u001b[32m\u001b[1m   Installed\u001b[22m\u001b[39m Wayland_jll ────────────────── v1.21.0+0\n",
      "\u001b[32m\u001b[1m   Installed\u001b[22m\u001b[39m BitFlags ───────────────────── v0.1.7\n",
      "\u001b[32m\u001b[1m   Installed\u001b[22m\u001b[39m Gettext_jll ────────────────── v0.21.0+0\n",
      "\u001b[32m\u001b[1m   Installed\u001b[22m\u001b[39m Latexify ───────────────────── v0.15.18\n",
      "\u001b[32m\u001b[1m   Installed\u001b[22m\u001b[39m Libgcrypt_jll ──────────────── v1.8.7+0\n",
      "\u001b[32m\u001b[1m   Installed\u001b[22m\u001b[39m Xorg_xkeyboard_config_jll ──── v2.27.0+4\n",
      "\u001b[32m\u001b[1m   Installed\u001b[22m\u001b[39m Xorg_libXfixes_jll ─────────── v5.0.3+4\n",
      "\u001b[32m\u001b[1m   Installed\u001b[22m\u001b[39m LAME_jll ───────────────────── v3.100.1+0\n",
      "\u001b[32m\u001b[1m   Installed\u001b[22m\u001b[39m Xorg_libXrandr_jll ─────────── v1.5.2+4\n",
      "\u001b[32m\u001b[1m   Installed\u001b[22m\u001b[39m RecipesBase ────────────────── v1.3.3\n",
      "\u001b[32m\u001b[1m   Installed\u001b[22m\u001b[39m Libiconv_jll ───────────────── v1.16.1+2\n",
      "\u001b[32m\u001b[1m   Installed\u001b[22m\u001b[39m IniFile ────────────────────── v0.5.1\n",
      "\u001b[32m\u001b[1m   Installed\u001b[22m\u001b[39m Glib_jll ───────────────────── v2.74.0+2\n",
      "\u001b[32m\u001b[1m   Installed\u001b[22m\u001b[39m Xorg_libX11_jll ────────────── v1.6.9+4\n",
      "\u001b[32m\u001b[1m   Installed\u001b[22m\u001b[39m libvorbis_jll ──────────────── v1.3.7+1\n",
      "\u001b[32m\u001b[1m   Installed\u001b[22m\u001b[39m Xorg_libXdmcp_jll ──────────── v1.1.3+4\n",
      "\u001b[32m\u001b[1m   Installed\u001b[22m\u001b[39m Libglvnd_jll ───────────────── v1.6.0+0\n",
      "\u001b[32m\u001b[1m   Installed\u001b[22m\u001b[39m Unzip ──────────────────────── v0.2.0\n",
      "\u001b[32m\u001b[1m   Installed\u001b[22m\u001b[39m URIs ───────────────────────── v1.4.1\n",
      "\u001b[32m\u001b[1m   Installed\u001b[22m\u001b[39m Requires ───────────────────── v1.3.0\n",
      "\u001b[32m\u001b[1m    Updating\u001b[22m\u001b[39m `C:\\Users\\Natthapong\\.julia\\environments\\v1.8\\Project.toml`\n",
      " \u001b[90m [91a5bcdd] \u001b[39m\u001b[92m+ Plots v1.38.4\u001b[39m\n",
      "\u001b[32m\u001b[1m    Updating\u001b[22m\u001b[39m `C:\\Users\\Natthapong\\.julia\\environments\\v1.8\\Manifest.toml`\n",
      " \u001b[90m [d1d4a3ce] \u001b[39m\u001b[92m+ BitFlags v0.1.7\u001b[39m\n",
      " \u001b[90m [35d6a980] \u001b[39m\u001b[92m+ ColorSchemes v3.20.0\u001b[39m\n",
      " \u001b[90m [c3611d14] \u001b[39m\u001b[92m+ ColorVectorSpace v0.9.10\u001b[39m\n",
      " \u001b[90m [d38c429a] \u001b[39m\u001b[92m+ Contour v0.6.2\u001b[39m\n",
      " \u001b[90m [c87230d0] \u001b[39m\u001b[92m+ FFMPEG v0.4.1\u001b[39m\n",
      " \u001b[90m [28b8d3ca] \u001b[39m\u001b[92m+ GR v0.71.5\u001b[39m\n",
      " \u001b[90m [42e2da0e] \u001b[39m\u001b[92m+ Grisu v1.0.2\u001b[39m\n",
      " \u001b[90m [cd3eb016] \u001b[39m\u001b[92m+ HTTP v1.7.4\u001b[39m\n",
      " \u001b[90m [83e8ac13] \u001b[39m\u001b[92m+ IniFile v0.5.1\u001b[39m\n",
      " \u001b[90m [1019f520] \u001b[39m\u001b[92m+ JLFzf v0.1.5\u001b[39m\n",
      " \u001b[90m [23fbe1c1] \u001b[39m\u001b[92m+ Latexify v0.15.18\u001b[39m\n",
      " \u001b[90m [e6f89c97] \u001b[39m\u001b[92m+ LoggingExtras v1.0.0\u001b[39m\n",
      " \u001b[90m [442fdcdd] \u001b[39m\u001b[92m+ Measures v0.3.2\u001b[39m\n",
      " \u001b[90m [4d8831e6] \u001b[39m\u001b[92m+ OpenSSL v1.3.3\u001b[39m\n",
      " \u001b[90m [b98c9c47] \u001b[39m\u001b[92m+ Pipe v1.3.0\u001b[39m\n",
      " \u001b[90m [ccf2f8ad] \u001b[39m\u001b[92m+ PlotThemes v3.1.0\u001b[39m\n",
      " \u001b[90m [995b91a9] \u001b[39m\u001b[92m+ PlotUtils v1.3.4\u001b[39m\n",
      " \u001b[90m [91a5bcdd] \u001b[39m\u001b[92m+ Plots v1.38.4\u001b[39m\n",
      " \u001b[90m [3cdcf5f2] \u001b[39m\u001b[92m+ RecipesBase v1.3.3\u001b[39m\n",
      " \u001b[90m [01d81517] \u001b[39m\u001b[92m+ RecipesPipeline v0.6.11\u001b[39m\n",
      " \u001b[90m [05181044] \u001b[39m\u001b[92m+ RelocatableFolders v1.0.0\u001b[39m\n",
      " \u001b[90m [ae029012] \u001b[39m\u001b[92m+ Requires v1.3.0\u001b[39m\n",
      " \u001b[90m [6c6a2e73] \u001b[39m\u001b[92m+ Scratch v1.1.1\u001b[39m\n",
      " \u001b[90m [992d4aef] \u001b[39m\u001b[92m+ Showoff v1.0.3\u001b[39m\n",
      " \u001b[90m [777ac1f9] \u001b[39m\u001b[92m+ SimpleBufferStream v1.1.0\u001b[39m\n",
      " \u001b[90m [62fd8b95] \u001b[39m\u001b[92m+ TensorCore v0.1.1\u001b[39m\n",
      " \u001b[90m [5c2747f8] \u001b[39m\u001b[92m+ URIs v1.4.1\u001b[39m\n",
      " \u001b[90m [1cfade01] \u001b[39m\u001b[92m+ UnicodeFun v0.4.1\u001b[39m\n",
      " \u001b[90m [41fe7b60] \u001b[39m\u001b[92m+ Unzip v0.2.0\u001b[39m\n",
      " \u001b[90m [6e34b625] \u001b[39m\u001b[92m+ Bzip2_jll v1.0.8+0\u001b[39m\n",
      " \u001b[90m [83423d85] \u001b[39m\u001b[92m+ Cairo_jll v1.16.1+1\u001b[39m\n",
      " \u001b[90m [2e619515] \u001b[39m\u001b[92m+ Expat_jll v2.4.8+0\u001b[39m\n",
      " \u001b[90m [b22a6f82] \u001b[39m\u001b[92m+ FFMPEG_jll v4.4.2+2\u001b[39m\n",
      " \u001b[90m [a3f928ae] \u001b[39m\u001b[92m+ Fontconfig_jll v2.13.93+0\u001b[39m\n",
      " \u001b[90m [d7e528f0] \u001b[39m\u001b[92m+ FreeType2_jll v2.10.4+0\u001b[39m\n",
      " \u001b[90m [559328eb] \u001b[39m\u001b[92m+ FriBidi_jll v1.0.10+0\u001b[39m\n",
      " \u001b[90m [0656b61e] \u001b[39m\u001b[92m+ GLFW_jll v3.3.8+0\u001b[39m\n",
      " \u001b[90m [d2c73de3] \u001b[39m\u001b[92m+ GR_jll v0.71.5+0\u001b[39m\n",
      " \u001b[90m [78b55507] \u001b[39m\u001b[92m+ Gettext_jll v0.21.0+0\u001b[39m\n",
      " \u001b[90m [7746bdde] \u001b[39m\u001b[92m+ Glib_jll v2.74.0+2\u001b[39m\n",
      " \u001b[90m [3b182d85] \u001b[39m\u001b[92m+ Graphite2_jll v1.3.14+0\u001b[39m\n",
      " \u001b[90m [2e76f6c2] \u001b[39m\u001b[92m+ HarfBuzz_jll v2.8.1+1\u001b[39m\n",
      " \u001b[90m [aacddb02] \u001b[39m\u001b[92m+ JpegTurbo_jll v2.1.2+0\u001b[39m\n",
      " \u001b[90m [c1c5ebd0] \u001b[39m\u001b[92m+ LAME_jll v3.100.1+0\u001b[39m\n",
      " \u001b[90m [88015f11] \u001b[39m\u001b[92m+ LERC_jll v3.0.0+1\u001b[39m\n",
      " \u001b[90m [dd4b983a] \u001b[39m\u001b[92m+ LZO_jll v2.10.1+0\u001b[39m\n",
      "\u001b[33m⌅\u001b[39m\u001b[90m [e9f186c6] \u001b[39m\u001b[92m+ Libffi_jll v3.2.2+1\u001b[39m\n",
      " \u001b[90m [d4300ac3] \u001b[39m\u001b[92m+ Libgcrypt_jll v1.8.7+0\u001b[39m\n",
      " \u001b[90m [7e76a0d4] \u001b[39m\u001b[92m+ Libglvnd_jll v1.6.0+0\u001b[39m\n",
      " \u001b[90m [7add5ba3] \u001b[39m\u001b[92m+ Libgpg_error_jll v1.42.0+0\u001b[39m\n",
      " \u001b[90m [94ce4f54] \u001b[39m\u001b[92m+ Libiconv_jll v1.16.1+2\u001b[39m\n",
      " \u001b[90m [4b2f31a3] \u001b[39m\u001b[92m+ Libmount_jll v2.35.0+0\u001b[39m\n",
      " \u001b[90m [89763e89] \u001b[39m\u001b[92m+ Libtiff_jll v4.4.0+0\u001b[39m\n",
      " \u001b[90m [38a345b3] \u001b[39m\u001b[92m+ Libuuid_jll v2.36.0+0\u001b[39m\n",
      " \u001b[90m [e7412a2a] \u001b[39m\u001b[92m+ Ogg_jll v1.3.5+1\u001b[39m\n",
      " \u001b[90m [458c3c95] \u001b[39m\u001b[92m+ OpenSSL_jll v1.1.19+0\u001b[39m\n",
      " \u001b[90m [91d4177d] \u001b[39m\u001b[92m+ Opus_jll v1.3.2+0\u001b[39m\n",
      " \u001b[90m [30392449] \u001b[39m\u001b[92m+ Pixman_jll v0.40.1+0\u001b[39m\n",
      " \u001b[90m [ea2cea3b] \u001b[39m\u001b[92m+ Qt5Base_jll v5.15.3+2\u001b[39m\n",
      " \u001b[90m [a2964d1f] \u001b[39m\u001b[92m+ Wayland_jll v1.21.0+0\u001b[39m\n",
      " \u001b[90m [2381bf8a] \u001b[39m\u001b[92m+ Wayland_protocols_jll v1.25.0+0\u001b[39m\n",
      " \u001b[90m [02c8fc9c] \u001b[39m\u001b[92m+ XML2_jll v2.10.3+0\u001b[39m\n",
      " \u001b[90m [aed1982a] \u001b[39m\u001b[92m+ XSLT_jll v1.1.34+0\u001b[39m\n",
      " \u001b[90m [4f6342f7] \u001b[39m\u001b[92m+ Xorg_libX11_jll v1.6.9+4\u001b[39m\n",
      " \u001b[90m [0c0b7dd1] \u001b[39m\u001b[92m+ Xorg_libXau_jll v1.0.9+4\u001b[39m\n",
      " \u001b[90m [935fb764] \u001b[39m\u001b[92m+ Xorg_libXcursor_jll v1.2.0+4\u001b[39m\n",
      " \u001b[90m [a3789734] \u001b[39m\u001b[92m+ Xorg_libXdmcp_jll v1.1.3+4\u001b[39m\n",
      " \u001b[90m [1082639a] \u001b[39m\u001b[92m+ Xorg_libXext_jll v1.3.4+4\u001b[39m\n",
      " \u001b[90m [d091e8ba] \u001b[39m\u001b[92m+ Xorg_libXfixes_jll v5.0.3+4\u001b[39m\n",
      " \u001b[90m [a51aa0fd] \u001b[39m\u001b[92m+ Xorg_libXi_jll v1.7.10+4\u001b[39m\n",
      " \u001b[90m [d1454406] \u001b[39m\u001b[92m+ Xorg_libXinerama_jll v1.1.4+4\u001b[39m\n",
      " \u001b[90m [ec84b674] \u001b[39m\u001b[92m+ Xorg_libXrandr_jll v1.5.2+4\u001b[39m\n",
      " \u001b[90m [ea2f1a96] \u001b[39m\u001b[92m+ Xorg_libXrender_jll v0.9.10+4\u001b[39m\n",
      " \u001b[90m [14d82f49] \u001b[39m\u001b[92m+ Xorg_libpthread_stubs_jll v0.1.0+3\u001b[39m\n",
      " \u001b[90m [c7cfdc94] \u001b[39m\u001b[92m+ Xorg_libxcb_jll v1.13.0+3\u001b[39m\n",
      " \u001b[90m [cc61e674] \u001b[39m\u001b[92m+ Xorg_libxkbfile_jll v1.1.0+4\u001b[39m\n",
      " \u001b[90m [12413925] \u001b[39m\u001b[92m+ Xorg_xcb_util_image_jll v0.4.0+1\u001b[39m\n",
      " \u001b[90m [2def613f] \u001b[39m\u001b[92m+ Xorg_xcb_util_jll v0.4.0+1\u001b[39m\n",
      " \u001b[90m [975044d2] \u001b[39m\u001b[92m+ Xorg_xcb_util_keysyms_jll v0.4.0+1\u001b[39m\n",
      " \u001b[90m [0d47668e] \u001b[39m\u001b[92m+ Xorg_xcb_util_renderutil_jll v0.3.9+1\u001b[39m\n",
      " \u001b[90m [c22f9ab0] \u001b[39m\u001b[92m+ Xorg_xcb_util_wm_jll v0.4.1+1\u001b[39m\n",
      " \u001b[90m [35661453] \u001b[39m\u001b[92m+ Xorg_xkbcomp_jll v1.4.2+4\u001b[39m\n",
      " \u001b[90m [33bec58e] \u001b[39m\u001b[92m+ Xorg_xkeyboard_config_jll v2.27.0+4\u001b[39m\n",
      " \u001b[90m [c5fb5394] \u001b[39m\u001b[92m+ Xorg_xtrans_jll v1.4.0+3\u001b[39m\n",
      " \u001b[90m [3161d3a3] \u001b[39m\u001b[92m+ Zstd_jll v1.5.2+0\u001b[39m\n",
      "\u001b[33m⌅\u001b[39m\u001b[90m [214eeab7] \u001b[39m\u001b[92m+ fzf_jll v0.29.0+0\u001b[39m\n",
      " \u001b[90m [a4ae2306] \u001b[39m\u001b[92m+ libaom_jll v3.4.0+0\u001b[39m\n",
      " \u001b[90m [0ac62f75] \u001b[39m\u001b[92m+ libass_jll v0.15.1+0\u001b[39m\n",
      " \u001b[90m [f638f0a6] \u001b[39m\u001b[92m+ libfdk_aac_jll v2.0.2+0\u001b[39m\n",
      " \u001b[90m [b53b4c65] \u001b[39m\u001b[92m+ libpng_jll v1.6.38+0\u001b[39m\n",
      " \u001b[90m [f27f6e37] \u001b[39m\u001b[92m+ libvorbis_jll v1.3.7+1\u001b[39m\n",
      " \u001b[90m [1270edf5] \u001b[39m\u001b[92m+ x264_jll v2021.5.5+0\u001b[39m\n",
      " \u001b[90m [dfaa095f] \u001b[39m\u001b[92m+ x265_jll v3.5.0+0\u001b[39m\n",
      " \u001b[90m [d8fb68d0] \u001b[39m\u001b[92m+ xkbcommon_jll v1.4.1+0\u001b[39m\n",
      " \u001b[90m [8bb1440f] \u001b[39m\u001b[92m+ DelimitedFiles\u001b[39m\n",
      " \u001b[90m [efcefdf7] \u001b[39m\u001b[92m+ PCRE2_jll v10.40.0+0\u001b[39m\n",
      "\u001b[36m\u001b[1m        Info\u001b[22m\u001b[39m Packages marked with \u001b[33m⌅\u001b[39m have new versions available but compatibility constraints restrict them from upgrading. To see why use `status --outdated -m`\n",
      "\u001b[32m\u001b[1mPrecompiling\u001b[22m\u001b[39m project...\n",
      "\u001b[32m  ✓ \u001b[39m\u001b[90mPipe\u001b[39m\n",
      "\u001b[32m  ✓ \u001b[39m\u001b[90mTensorCore\u001b[39m\n",
      "\u001b[32m  ✓ \u001b[39m\u001b[90mContour\u001b[39m\n",
      "\u001b[32m  ✓ \u001b[39m\u001b[90mMeasures\u001b[39m\n",
      "\u001b[32m  ✓ \u001b[39m\u001b[90mGrisu\u001b[39m\n",
      "\u001b[32m  ✓ \u001b[39m\u001b[90mIniFile\u001b[39m\n",
      "\u001b[32m  ✓ \u001b[39m\u001b[90mUnzip\u001b[39m\n",
      "\u001b[32m  ✓ \u001b[39m\u001b[90mSimpleBufferStream\u001b[39m\n",
      "\u001b[32m  ✓ \u001b[39m\u001b[90mURIs\u001b[39m\n",
      "\u001b[32m  ✓ \u001b[39m\u001b[90mRequires\u001b[39m\n",
      "\u001b[32m  ✓ \u001b[39m\u001b[90mPCRE2_jll\u001b[39m\n",
      "\u001b[32m  ✓ \u001b[39m\u001b[90mBitFlags\u001b[39m\n",
      "\u001b[32m  ✓ \u001b[39m\u001b[90mScratch\u001b[39m\n",
      "\u001b[32m  ✓ \u001b[39m\u001b[90mLoggingExtras\u001b[39m\n",
      "\u001b[32m  ✓ \u001b[39m\u001b[90mUnicodeFun\u001b[39m\n",
      "\u001b[32m  ✓ \u001b[39m\u001b[90mGraphite2_jll\u001b[39m\n",
      "\u001b[32m  ✓ \u001b[39m\u001b[90mOpenSSL_jll\u001b[39m\n",
      "\u001b[32m  ✓ \u001b[39m\u001b[90mLibmount_jll\u001b[39m\n",
      "\u001b[32m  ✓ \u001b[39m\u001b[90mBzip2_jll\u001b[39m\n",
      "\u001b[32m  ✓ \u001b[39m\u001b[90mRecipesBase\u001b[39m\n",
      "\u001b[32m  ✓ \u001b[39m\u001b[90mXorg_libXau_jll\u001b[39m\n",
      "\u001b[32m  ✓ \u001b[39m\u001b[90mlibpng_jll\u001b[39m\n",
      "\u001b[32m  ✓ \u001b[39m\u001b[90mLAME_jll\u001b[39m\n",
      "\u001b[32m  ✓ \u001b[39m\u001b[90mlibfdk_aac_jll\u001b[39m\n",
      "\u001b[32m  ✓ \u001b[39m\u001b[90mPixman_jll\u001b[39m\n",
      "\u001b[32m  ✓ \u001b[39m\u001b[90mLERC_jll\u001b[39m\n",
      "\u001b[32m  ✓ \u001b[39m\u001b[90mfzf_jll\u001b[39m\n",
      "\u001b[32m  ✓ \u001b[39m\u001b[90mXorg_libXdmcp_jll\u001b[39m\n",
      "\u001b[32m  ✓ \u001b[39m\u001b[90mOgg_jll\u001b[39m\n",
      "\u001b[32m  ✓ \u001b[39m\u001b[90mJpegTurbo_jll\u001b[39m\n",
      "\u001b[32m  ✓ \u001b[39m\u001b[90mx265_jll\u001b[39m\n",
      "\u001b[32m  ✓ \u001b[39m\u001b[90mx264_jll\u001b[39m\n",
      "\u001b[32m  ✓ \u001b[39m\u001b[90mlibaom_jll\u001b[39m\n",
      "\u001b[32m  ✓ \u001b[39m\u001b[90mExpat_jll\u001b[39m\n",
      "\u001b[32m  ✓ \u001b[39m\u001b[90mZstd_jll\u001b[39m\n",
      "\u001b[32m  ✓ \u001b[39m\u001b[90mLZO_jll\u001b[39m\n",
      "\u001b[32m  ✓ \u001b[39m\u001b[90mOpus_jll\u001b[39m\n",
      "\u001b[32m  ✓ \u001b[39m\u001b[90mXorg_xtrans_jll\u001b[39m\n",
      "\u001b[32m  ✓ \u001b[39m\u001b[90mLibiconv_jll\u001b[39m\n",
      "\u001b[32m  ✓ \u001b[39m\u001b[90mLibffi_jll\u001b[39m\n",
      "\u001b[32m  ✓ \u001b[39m\u001b[90mLibgpg_error_jll\u001b[39m\n",
      "\u001b[32m  ✓ \u001b[39m\u001b[90mWayland_protocols_jll\u001b[39m\n",
      "\u001b[32m  ✓ \u001b[39m\u001b[90mXorg_libpthread_stubs_jll\u001b[39m\n",
      "\u001b[32m  ✓ \u001b[39m\u001b[90mShowoff\u001b[39m\n",
      "\u001b[32m  ✓ \u001b[39m\u001b[90mLibuuid_jll\u001b[39m\n",
      "\u001b[32m  ✓ \u001b[39m\u001b[90mFriBidi_jll\u001b[39m\n",
      "\u001b[32m  ✓ \u001b[39m\u001b[90mRelocatableFolders\u001b[39m\n",
      "\u001b[32m  ✓ \u001b[39m\u001b[90mFreeType2_jll\u001b[39m\n",
      "\u001b[32m  ✓ \u001b[39m\u001b[90mJLFzf\u001b[39m\n",
      "\u001b[32m  ✓ \u001b[39m\u001b[90mOpenSSL\u001b[39m\n",
      "\u001b[32m  ✓ \u001b[39m\u001b[90mlibvorbis_jll\u001b[39m\n",
      "\u001b[32m  ✓ \u001b[39m\u001b[90mLibtiff_jll\u001b[39m\n",
      "\u001b[32m  ✓ \u001b[39m\u001b[90mLatexify\u001b[39m\n",
      "\u001b[32m  ✓ \u001b[39m\u001b[90mXML2_jll\u001b[39m\n",
      "\u001b[32m  ✓ \u001b[39m\u001b[90mColorVectorSpace\u001b[39m\n",
      "\u001b[32m  ✓ \u001b[39m\u001b[90mLibgcrypt_jll\u001b[39m\n",
      "\u001b[32m  ✓ \u001b[39m\u001b[90mFontconfig_jll\u001b[39m\n",
      "\u001b[32m  ✓ \u001b[39m\u001b[90mGettext_jll\u001b[39m\n",
      "\u001b[32m  ✓ \u001b[39m\u001b[90mWayland_jll\u001b[39m\n",
      "\u001b[32m  ✓ \u001b[39m\u001b[90mXSLT_jll\u001b[39m\n",
      "\u001b[32m  ✓ \u001b[39m\u001b[90mGlib_jll\u001b[39m\n",
      "\u001b[32m  ✓ \u001b[39m\u001b[90mXorg_libxcb_jll\u001b[39m\n",
      "\u001b[32m  ✓ \u001b[39m\u001b[90mXorg_libX11_jll\u001b[39m\n",
      "\u001b[32m  ✓ \u001b[39m\u001b[90mXorg_xcb_util_jll\u001b[39m\n",
      "\u001b[32m  ✓ \u001b[39m\u001b[90mHTTP\u001b[39m\n",
      "\u001b[32m  ✓ \u001b[39m\u001b[90mXorg_libXrender_jll\u001b[39m\n",
      "\u001b[32m  ✓ \u001b[39m\u001b[90mXorg_libXext_jll\u001b[39m\n",
      "\u001b[32m  ✓ \u001b[39m\u001b[90mXorg_libXfixes_jll\u001b[39m\n",
      "\u001b[32m  ✓ \u001b[39m\u001b[90mXorg_libxkbfile_jll\u001b[39m\n",
      "\u001b[32m  ✓ \u001b[39m\u001b[90mXorg_xcb_util_image_jll\u001b[39m\n",
      "\u001b[32m  ✓ \u001b[39m\u001b[90mXorg_xcb_util_renderutil_jll\u001b[39m\n",
      "\u001b[32m  ✓ \u001b[39m\u001b[90mXorg_xcb_util_keysyms_jll\u001b[39m\n",
      "\u001b[32m  ✓ \u001b[39m\u001b[90mXorg_xcb_util_wm_jll\u001b[39m\n",
      "\u001b[32m  ✓ \u001b[39m\u001b[90mLibglvnd_jll\u001b[39m\n",
      "\u001b[32m  ✓ \u001b[39m\u001b[90mXorg_libXinerama_jll\u001b[39m\n",
      "\u001b[32m  ✓ \u001b[39m\u001b[90mXorg_libXrandr_jll\u001b[39m\n",
      "\u001b[32m  ✓ \u001b[39m\u001b[90mCairo_jll\u001b[39m\n",
      "\u001b[32m  ✓ \u001b[39m\u001b[90mColorSchemes\u001b[39m\n",
      "\u001b[32m  ✓ \u001b[39m\u001b[90mXorg_libXcursor_jll\u001b[39m\n",
      "\u001b[32m  ✓ \u001b[39m\u001b[90mXorg_libXi_jll\u001b[39m\n",
      "\u001b[32m  ✓ \u001b[39m\u001b[90mXorg_xkbcomp_jll\u001b[39m\n",
      "\u001b[32m  ✓ \u001b[39m\u001b[90mHarfBuzz_jll\u001b[39m\n",
      "\u001b[32m  ✓ \u001b[39m\u001b[90mXorg_xkeyboard_config_jll\u001b[39m\n",
      "\u001b[32m  ✓ \u001b[39m\u001b[90mGLFW_jll\u001b[39m\n",
      "\u001b[32m  ✓ \u001b[39m\u001b[90mlibass_jll\u001b[39m\n",
      "\u001b[32m  ✓ \u001b[39m\u001b[90mxkbcommon_jll\u001b[39m\n",
      "\u001b[32m  ✓ \u001b[39m\u001b[90mFFMPEG_jll\u001b[39m\n",
      "\u001b[32m  ✓ \u001b[39m\u001b[90mQt5Base_jll\u001b[39m\n",
      "\u001b[32m  ✓ \u001b[39m\u001b[90mFFMPEG\u001b[39m\n",
      "\u001b[32m  ✓ \u001b[39m\u001b[90mGR_jll\u001b[39m\n",
      "\u001b[32m  ✓ \u001b[39m\u001b[90mGR\u001b[39m\n",
      "\u001b[32m  ✓ \u001b[39m\u001b[90mPlotUtils\u001b[39m\n",
      "\u001b[32m  ✓ \u001b[39m\u001b[90mRecipesPipeline\u001b[39m\n",
      "\u001b[32m  ✓ \u001b[39m\u001b[90mPlotThemes\u001b[39m\n",
      "\u001b[32m  ✓ \u001b[39mPlots\n",
      "  95 dependencies successfully precompiled in 272 seconds. 78 already precompiled.\n"
     ]
    }
   ],
   "source": [
    "import Pkg; Pkg.add(\"Plots\")"
   ]
  },
  {
   "cell_type": "code",
   "execution_count": 11,
   "id": "sudden-return",
   "metadata": {},
   "outputs": [],
   "source": [
    "using Plots"
   ]
  },
  {
   "cell_type": "code",
   "execution_count": 13,
   "id": "tired-attack",
   "metadata": {},
   "outputs": [
    {
     "data": {
      "image/svg+xml": [
       "<?xml version=\"1.0\" encoding=\"utf-8\"?>\n",
       "<svg xmlns=\"http://www.w3.org/2000/svg\" xmlns:xlink=\"http://www.w3.org/1999/xlink\" width=\"800\" height=\"400\" viewBox=\"0 0 3200 1600\">\n",
       "<defs>\n",
       "  <clipPath id=\"clip130\">\n",
       "    <rect x=\"0\" y=\"0\" width=\"3200\" height=\"1600\"/>\n",
       "  </clipPath>\n",
       "</defs>\n",
       "<path clip-path=\"url(#clip130)\" d=\"M0 1600 L3200 1600 L3200 0 L0 0  Z\" fill=\"#ffffff\" fill-rule=\"evenodd\" fill-opacity=\"1\"/>\n",
       "<defs>\n",
       "  <clipPath id=\"clip131\">\n",
       "    <rect x=\"640\" y=\"0\" width=\"2241\" height=\"1600\"/>\n",
       "  </clipPath>\n",
       "</defs>\n",
       "<path clip-path=\"url(#clip130)\" d=\"M198.347 643.7 L1552.76 643.7 L1552.76 47.2441 L198.347 47.2441  Z\" fill=\"#ffffff\" fill-rule=\"evenodd\" fill-opacity=\"1\"/>\n",
       "<defs>\n",
       "  <clipPath id=\"clip132\">\n",
       "    <rect x=\"198\" y=\"47\" width=\"1355\" height=\"597\"/>\n",
       "  </clipPath>\n",
       "</defs>\n",
       "<polyline clip-path=\"url(#clip132)\" style=\"stroke:#000000; stroke-linecap:round; stroke-linejoin:round; stroke-width:2; stroke-opacity:0.1; fill:none\" points=\"357.69,643.7 357.69,47.2441 \"/>\n",
       "<polyline clip-path=\"url(#clip132)\" style=\"stroke:#000000; stroke-linecap:round; stroke-linejoin:round; stroke-width:2; stroke-opacity:0.1; fill:none\" points=\"756.045,643.7 756.045,47.2441 \"/>\n",
       "<polyline clip-path=\"url(#clip132)\" style=\"stroke:#000000; stroke-linecap:round; stroke-linejoin:round; stroke-width:2; stroke-opacity:0.1; fill:none\" points=\"1154.4,643.7 1154.4,47.2441 \"/>\n",
       "<polyline clip-path=\"url(#clip132)\" style=\"stroke:#000000; stroke-linecap:round; stroke-linejoin:round; stroke-width:2; stroke-opacity:0.1; fill:none\" points=\"1552.76,643.7 1552.76,47.2441 \"/>\n",
       "<polyline clip-path=\"url(#clip130)\" style=\"stroke:#000000; stroke-linecap:round; stroke-linejoin:round; stroke-width:4; stroke-opacity:1; fill:none\" points=\"198.347,643.7 1552.76,643.7 \"/>\n",
       "<polyline clip-path=\"url(#clip130)\" style=\"stroke:#000000; stroke-linecap:round; stroke-linejoin:round; stroke-width:4; stroke-opacity:1; fill:none\" points=\"357.69,643.7 357.69,624.802 \"/>\n",
       "<polyline clip-path=\"url(#clip130)\" style=\"stroke:#000000; stroke-linecap:round; stroke-linejoin:round; stroke-width:4; stroke-opacity:1; fill:none\" points=\"756.045,643.7 756.045,624.802 \"/>\n",
       "<polyline clip-path=\"url(#clip130)\" style=\"stroke:#000000; stroke-linecap:round; stroke-linejoin:round; stroke-width:4; stroke-opacity:1; fill:none\" points=\"1154.4,643.7 1154.4,624.802 \"/>\n",
       "<polyline clip-path=\"url(#clip130)\" style=\"stroke:#000000; stroke-linecap:round; stroke-linejoin:round; stroke-width:4; stroke-opacity:1; fill:none\" points=\"1552.76,643.7 1552.76,624.802 \"/>\n",
       "<path clip-path=\"url(#clip130)\" d=\"M347.967 677.94 L366.324 677.94 L366.324 681.875 L352.25 681.875 L352.25 690.347 Q353.268 690 354.287 689.838 Q355.305 689.653 356.324 689.653 Q362.111 689.653 365.491 692.824 Q368.87 695.995 368.87 701.412 Q368.87 706.991 365.398 710.092 Q361.926 713.171 355.606 713.171 Q353.43 713.171 351.162 712.801 Q348.917 712.43 346.509 711.69 L346.509 706.991 Q348.592 708.125 350.815 708.68 Q353.037 709.236 355.514 709.236 Q359.518 709.236 361.856 707.13 Q364.194 705.023 364.194 701.412 Q364.194 697.801 361.856 695.694 Q359.518 693.588 355.514 693.588 Q353.639 693.588 351.764 694.005 Q349.912 694.421 347.967 695.301 L347.967 677.94 Z\" fill=\"#000000\" fill-rule=\"evenodd\" fill-opacity=\"1\" /><path clip-path=\"url(#clip130)\" d=\"M730.733 708.565 L738.372 708.565 L738.372 682.199 L730.061 683.866 L730.061 679.607 L738.325 677.94 L743.001 677.94 L743.001 708.565 L750.64 708.565 L750.64 712.5 L730.733 712.5 L730.733 708.565 Z\" fill=\"#000000\" fill-rule=\"evenodd\" fill-opacity=\"1\" /><path clip-path=\"url(#clip130)\" d=\"M770.084 681.019 Q766.473 681.019 764.645 684.583 Q762.839 688.125 762.839 695.255 Q762.839 702.361 764.645 705.926 Q766.473 709.467 770.084 709.467 Q773.719 709.467 775.524 705.926 Q777.353 702.361 777.353 695.255 Q777.353 688.125 775.524 684.583 Q773.719 681.019 770.084 681.019 M770.084 677.315 Q775.894 677.315 778.95 681.921 Q782.029 686.505 782.029 695.255 Q782.029 703.981 778.95 708.588 Q775.894 713.171 770.084 713.171 Q764.274 713.171 761.195 708.588 Q758.14 703.981 758.14 695.255 Q758.14 686.505 761.195 681.921 Q764.274 677.315 770.084 677.315 Z\" fill=\"#000000\" fill-rule=\"evenodd\" fill-opacity=\"1\" /><path clip-path=\"url(#clip130)\" d=\"M1129.59 708.565 L1137.22 708.565 L1137.22 682.199 L1128.91 683.866 L1128.91 679.607 L1137.18 677.94 L1141.85 677.94 L1141.85 708.565 L1149.49 708.565 L1149.49 712.5 L1129.59 712.5 L1129.59 708.565 Z\" fill=\"#000000\" fill-rule=\"evenodd\" fill-opacity=\"1\" /><path clip-path=\"url(#clip130)\" d=\"M1158.98 677.94 L1177.34 677.94 L1177.34 681.875 L1163.27 681.875 L1163.27 690.347 Q1164.28 690 1165.3 689.838 Q1166.32 689.653 1167.34 689.653 Q1173.13 689.653 1176.51 692.824 Q1179.89 695.995 1179.89 701.412 Q1179.89 706.991 1176.41 710.092 Q1172.94 713.171 1166.62 713.171 Q1164.45 713.171 1162.18 712.801 Q1159.93 712.43 1157.53 711.69 L1157.53 706.991 Q1159.61 708.125 1161.83 708.68 Q1164.05 709.236 1166.53 709.236 Q1170.53 709.236 1172.87 707.13 Q1175.21 705.023 1175.21 701.412 Q1175.21 697.801 1172.87 695.694 Q1170.53 693.588 1166.53 693.588 Q1164.66 693.588 1162.78 694.005 Q1160.93 694.421 1158.98 695.301 L1158.98 677.94 Z\" fill=\"#000000\" fill-rule=\"evenodd\" fill-opacity=\"1\" /><path clip-path=\"url(#clip130)\" d=\"M1531.53 708.565 L1547.85 708.565 L1547.85 712.5 L1525.9 712.5 L1525.9 708.565 Q1528.57 705.81 1533.15 701.18 Q1537.76 696.528 1538.94 695.185 Q1541.18 692.662 1542.06 690.926 Q1542.96 689.167 1542.96 687.477 Q1542.96 684.722 1541.02 682.986 Q1539.1 681.25 1536 681.25 Q1533.8 681.25 1531.34 682.014 Q1528.91 682.778 1526.14 684.329 L1526.14 679.607 Q1528.96 678.472 1531.41 677.894 Q1533.87 677.315 1535.9 677.315 Q1541.27 677.315 1544.47 680 Q1547.66 682.685 1547.66 687.176 Q1547.66 689.306 1546.85 691.227 Q1546.07 693.125 1543.96 695.718 Q1543.38 696.389 1540.28 699.606 Q1537.18 702.801 1531.53 708.565 Z\" fill=\"#000000\" fill-rule=\"evenodd\" fill-opacity=\"1\" /><path clip-path=\"url(#clip130)\" d=\"M1567.66 681.019 Q1564.05 681.019 1562.22 684.583 Q1560.42 688.125 1560.42 695.255 Q1560.42 702.361 1562.22 705.926 Q1564.05 709.467 1567.66 709.467 Q1571.3 709.467 1573.1 705.926 Q1574.93 702.361 1574.93 695.255 Q1574.93 688.125 1573.1 684.583 Q1571.3 681.019 1567.66 681.019 M1567.66 677.315 Q1573.47 677.315 1576.53 681.921 Q1579.61 686.505 1579.61 695.255 Q1579.61 703.981 1576.53 708.588 Q1573.47 713.171 1567.66 713.171 Q1561.85 713.171 1558.77 708.588 Q1555.72 703.981 1555.72 695.255 Q1555.72 686.505 1558.77 681.921 Q1561.85 677.315 1567.66 677.315 Z\" fill=\"#000000\" fill-rule=\"evenodd\" fill-opacity=\"1\" /><path clip-path=\"url(#clip130)\" d=\"M873.371 764.916 L860.481 782.262 L874.04 800.564 L867.133 800.564 L856.757 786.559 L846.381 800.564 L839.474 800.564 L853.319 781.912 L840.652 764.916 L847.558 764.916 L857.012 777.615 L866.465 764.916 L873.371 764.916 Z\" fill=\"#000000\" fill-rule=\"evenodd\" fill-opacity=\"1\" /><path clip-path=\"url(#clip130)\" d=\"M884.257 795.153 L894.76 795.153 L894.76 758.9 L883.334 761.192 L883.334 755.335 L894.697 753.044 L901.126 753.044 L901.126 795.153 L911.629 795.153 L911.629 800.564 L884.257 800.564 L884.257 795.153 Z\" fill=\"#000000\" fill-rule=\"evenodd\" fill-opacity=\"1\" /><polyline clip-path=\"url(#clip132)\" style=\"stroke:#000000; stroke-linecap:round; stroke-linejoin:round; stroke-width:2; stroke-opacity:0.1; fill:none\" points=\"198.347,546.34 1552.76,546.34 \"/>\n",
       "<polyline clip-path=\"url(#clip132)\" style=\"stroke:#000000; stroke-linecap:round; stroke-linejoin:round; stroke-width:2; stroke-opacity:0.1; fill:none\" points=\"198.347,443.856 1552.76,443.856 \"/>\n",
       "<polyline clip-path=\"url(#clip132)\" style=\"stroke:#000000; stroke-linecap:round; stroke-linejoin:round; stroke-width:2; stroke-opacity:0.1; fill:none\" points=\"198.347,341.373 1552.76,341.373 \"/>\n",
       "<polyline clip-path=\"url(#clip132)\" style=\"stroke:#000000; stroke-linecap:round; stroke-linejoin:round; stroke-width:2; stroke-opacity:0.1; fill:none\" points=\"198.347,238.889 1552.76,238.889 \"/>\n",
       "<polyline clip-path=\"url(#clip132)\" style=\"stroke:#000000; stroke-linecap:round; stroke-linejoin:round; stroke-width:2; stroke-opacity:0.1; fill:none\" points=\"198.347,136.405 1552.76,136.405 \"/>\n",
       "<polyline clip-path=\"url(#clip130)\" style=\"stroke:#000000; stroke-linecap:round; stroke-linejoin:round; stroke-width:4; stroke-opacity:1; fill:none\" points=\"198.347,643.7 198.347,47.2441 \"/>\n",
       "<polyline clip-path=\"url(#clip130)\" style=\"stroke:#000000; stroke-linecap:round; stroke-linejoin:round; stroke-width:4; stroke-opacity:1; fill:none\" points=\"198.347,546.34 217.245,546.34 \"/>\n",
       "<polyline clip-path=\"url(#clip130)\" style=\"stroke:#000000; stroke-linecap:round; stroke-linejoin:round; stroke-width:4; stroke-opacity:1; fill:none\" points=\"198.347,443.856 217.245,443.856 \"/>\n",
       "<polyline clip-path=\"url(#clip130)\" style=\"stroke:#000000; stroke-linecap:round; stroke-linejoin:round; stroke-width:4; stroke-opacity:1; fill:none\" points=\"198.347,341.373 217.245,341.373 \"/>\n",
       "<polyline clip-path=\"url(#clip130)\" style=\"stroke:#000000; stroke-linecap:round; stroke-linejoin:round; stroke-width:4; stroke-opacity:1; fill:none\" points=\"198.347,238.889 217.245,238.889 \"/>\n",
       "<polyline clip-path=\"url(#clip130)\" style=\"stroke:#000000; stroke-linecap:round; stroke-linejoin:round; stroke-width:4; stroke-opacity:1; fill:none\" points=\"198.347,136.405 217.245,136.405 \"/>\n",
       "<path clip-path=\"url(#clip130)\" d=\"M140.764 533.134 L128.959 551.583 L140.764 551.583 L140.764 533.134 M139.537 529.06 L145.417 529.06 L145.417 551.583 L150.347 551.583 L150.347 555.472 L145.417 555.472 L145.417 563.62 L140.764 563.62 L140.764 555.472 L125.162 555.472 L125.162 550.958 L139.537 529.06 Z\" fill=\"#000000\" fill-rule=\"evenodd\" fill-opacity=\"1\" /><path clip-path=\"url(#clip130)\" d=\"M138.82 441.993 Q135.672 441.993 133.82 444.146 Q131.991 446.299 131.991 450.049 Q131.991 453.775 133.82 455.951 Q135.672 458.104 138.82 458.104 Q141.968 458.104 143.797 455.951 Q145.648 453.775 145.648 450.049 Q145.648 446.299 143.797 444.146 Q141.968 441.993 138.82 441.993 M148.102 427.34 L148.102 431.6 Q146.343 430.766 144.537 430.326 Q142.755 429.887 140.996 429.887 Q136.366 429.887 133.912 433.012 Q131.482 436.137 131.135 442.456 Q132.5 440.442 134.561 439.377 Q136.621 438.289 139.098 438.289 Q144.306 438.289 147.315 441.461 Q150.347 444.609 150.347 450.049 Q150.347 455.373 147.199 458.59 Q144.051 461.808 138.82 461.808 Q132.824 461.808 129.653 457.224 Q126.482 452.618 126.482 443.891 Q126.482 435.697 130.371 430.836 Q134.26 425.951 140.81 425.951 Q142.57 425.951 144.352 426.299 Q146.158 426.646 148.102 427.34 Z\" fill=\"#000000\" fill-rule=\"evenodd\" fill-opacity=\"1\" /><path clip-path=\"url(#clip130)\" d=\"M138.496 342.241 Q135.162 342.241 133.241 344.023 Q131.343 345.805 131.343 348.93 Q131.343 352.055 133.241 353.838 Q135.162 355.62 138.496 355.62 Q141.829 355.62 143.75 353.838 Q145.672 352.032 145.672 348.93 Q145.672 345.805 143.75 344.023 Q141.852 342.241 138.496 342.241 M133.82 340.25 Q130.811 339.509 129.121 337.449 Q127.454 335.389 127.454 332.426 Q127.454 328.282 130.394 325.875 Q133.357 323.468 138.496 323.468 Q143.658 323.468 146.597 325.875 Q149.537 328.282 149.537 332.426 Q149.537 335.389 147.847 337.449 Q146.181 339.509 143.195 340.25 Q146.574 341.037 148.449 343.329 Q150.347 345.62 150.347 348.93 Q150.347 353.954 147.269 356.639 Q144.213 359.324 138.496 359.324 Q132.778 359.324 129.699 356.639 Q126.644 353.954 126.644 348.93 Q126.644 345.62 128.542 343.329 Q130.44 341.037 133.82 340.25 M132.107 332.866 Q132.107 335.551 133.773 337.056 Q135.463 338.56 138.496 338.56 Q141.505 338.56 143.195 337.056 Q144.908 335.551 144.908 332.866 Q144.908 330.181 143.195 328.676 Q141.505 327.171 138.496 327.171 Q135.463 327.171 133.773 328.676 Q132.107 330.181 132.107 332.866 Z\" fill=\"#000000\" fill-rule=\"evenodd\" fill-opacity=\"1\" /><path clip-path=\"url(#clip130)\" d=\"M99.0515 252.234 L106.69 252.234 L106.69 225.868 L98.3802 227.535 L98.3802 223.275 L106.644 221.609 L111.32 221.609 L111.32 252.234 L118.959 252.234 L118.959 256.169 L99.0515 256.169 L99.0515 252.234 Z\" fill=\"#000000\" fill-rule=\"evenodd\" fill-opacity=\"1\" /><path clip-path=\"url(#clip130)\" d=\"M138.403 224.687 Q134.792 224.687 132.963 228.252 Q131.158 231.794 131.158 238.924 Q131.158 246.03 132.963 249.595 Q134.792 253.136 138.403 253.136 Q142.037 253.136 143.843 249.595 Q145.672 246.03 145.672 238.924 Q145.672 231.794 143.843 228.252 Q142.037 224.687 138.403 224.687 M138.403 220.984 Q144.213 220.984 147.269 225.59 Q150.347 230.174 150.347 238.924 Q150.347 247.65 147.269 252.257 Q144.213 256.84 138.403 256.84 Q132.593 256.84 129.514 252.257 Q126.459 247.65 126.459 238.924 Q126.459 230.174 129.514 225.59 Q132.593 220.984 138.403 220.984 Z\" fill=\"#000000\" fill-rule=\"evenodd\" fill-opacity=\"1\" /><path clip-path=\"url(#clip130)\" d=\"M100.649 149.75 L108.288 149.75 L108.288 123.384 L99.9774 125.051 L99.9774 120.792 L108.241 119.125 L112.917 119.125 L112.917 149.75 L120.556 149.75 L120.556 153.685 L100.649 153.685 L100.649 149.75 Z\" fill=\"#000000\" fill-rule=\"evenodd\" fill-opacity=\"1\" /><path clip-path=\"url(#clip130)\" d=\"M134.028 149.75 L150.347 149.75 L150.347 153.685 L128.403 153.685 L128.403 149.75 Q131.065 146.995 135.648 142.366 Q140.255 137.713 141.435 136.37 Q143.681 133.847 144.56 132.111 Q145.463 130.352 145.463 128.662 Q145.463 125.907 143.519 124.171 Q141.598 122.435 138.496 122.435 Q136.297 122.435 133.843 123.199 Q131.412 123.963 128.635 125.514 L128.635 120.792 Q131.459 119.657 133.912 119.079 Q136.366 118.5 138.403 118.5 Q143.773 118.5 146.968 121.185 Q150.162 123.87 150.162 128.361 Q150.162 130.491 149.352 132.412 Q148.565 134.31 146.459 136.903 Q145.88 137.574 142.778 140.792 Q139.676 143.986 134.028 149.75 Z\" fill=\"#000000\" fill-rule=\"evenodd\" fill-opacity=\"1\" /><path clip-path=\"url(#clip130)\" d=\"M39.4343 362.484 Q45.8 364.967 47.7416 367.322 Q49.6831 369.678 49.6831 373.624 L49.6831 378.303 L44.7815 378.303 L44.7815 374.866 Q44.7815 372.447 43.6357 371.11 Q42.4899 369.773 38.2248 368.15 L35.5512 367.099 L0.4762 381.518 L0.4762 375.311 L28.358 364.171 L0.4762 353.031 L0.4762 346.825 L39.4343 362.484 Z\" fill=\"#000000\" fill-rule=\"evenodd\" fill-opacity=\"1\" /><path clip-path=\"url(#clip130)\" d=\"M30.7133 336.799 L30.7133 326.295 L-5.53939 326.295 L-3.24774 337.722 L-9.10419 337.722 L-11.3958 326.359 L-11.3958 319.93 L30.7133 319.93 L30.7133 309.426 L36.1242 309.426 L36.1242 336.799 L30.7133 336.799 Z\" fill=\"#000000\" fill-rule=\"evenodd\" fill-opacity=\"1\" /><circle clip-path=\"url(#clip132)\" cx=\"756.045\" cy=\"339.323\" r=\"14.4\" fill=\"#1b9e77\" fill-rule=\"evenodd\" fill-opacity=\"0.8\" stroke=\"#000000\" stroke-opacity=\"0.8\" stroke-width=\"3.2\"/>\n",
       "<circle clip-path=\"url(#clip132)\" cx=\"596.703\" cy=\"395.177\" r=\"14.4\" fill=\"#1b9e77\" fill-rule=\"evenodd\" fill-opacity=\"0.8\" stroke=\"#000000\" stroke-opacity=\"0.8\" stroke-width=\"3.2\"/>\n",
       "<circle clip-path=\"url(#clip132)\" cx=\"995.058\" cy=\"362.894\" r=\"14.4\" fill=\"#1b9e77\" fill-rule=\"evenodd\" fill-opacity=\"0.8\" stroke=\"#000000\" stroke-opacity=\"0.8\" stroke-width=\"3.2\"/>\n",
       "<circle clip-path=\"url(#clip132)\" cx=\"676.374\" cy=\"299.867\" r=\"14.4\" fill=\"#1b9e77\" fill-rule=\"evenodd\" fill-opacity=\"0.8\" stroke=\"#000000\" stroke-opacity=\"0.8\" stroke-width=\"3.2\"/>\n",
       "<circle clip-path=\"url(#clip132)\" cx=\"835.716\" cy=\"324.463\" r=\"14.4\" fill=\"#1b9e77\" fill-rule=\"evenodd\" fill-opacity=\"0.8\" stroke=\"#000000\" stroke-opacity=\"0.8\" stroke-width=\"3.2\"/>\n",
       "<circle clip-path=\"url(#clip132)\" cx=\"1074.73\" cy=\"240.938\" r=\"14.4\" fill=\"#1b9e77\" fill-rule=\"evenodd\" fill-opacity=\"0.8\" stroke=\"#000000\" stroke-opacity=\"0.8\" stroke-width=\"3.2\"/>\n",
       "<circle clip-path=\"url(#clip132)\" cx=\"437.361\" cy=\"380.316\" r=\"14.4\" fill=\"#1b9e77\" fill-rule=\"evenodd\" fill-opacity=\"0.8\" stroke=\"#000000\" stroke-opacity=\"0.8\" stroke-width=\"3.2\"/>\n",
       "<circle clip-path=\"url(#clip132)\" cx=\"278.019\" cy=\"533.017\" r=\"14.4\" fill=\"#1b9e77\" fill-rule=\"evenodd\" fill-opacity=\"0.8\" stroke=\"#000000\" stroke-opacity=\"0.8\" stroke-width=\"3.2\"/>\n",
       "<circle clip-path=\"url(#clip132)\" cx=\"915.387\" cy=\"195.846\" r=\"14.4\" fill=\"#1b9e77\" fill-rule=\"evenodd\" fill-opacity=\"0.8\" stroke=\"#000000\" stroke-opacity=\"0.8\" stroke-width=\"3.2\"/>\n",
       "<circle clip-path=\"url(#clip132)\" cx=\"517.032\" cy=\"504.322\" r=\"14.4\" fill=\"#1b9e77\" fill-rule=\"evenodd\" fill-opacity=\"0.8\" stroke=\"#000000\" stroke-opacity=\"0.8\" stroke-width=\"3.2\"/>\n",
       "<circle clip-path=\"url(#clip132)\" cx=\"357.69\" cy=\"460.254\" r=\"14.4\" fill=\"#1b9e77\" fill-rule=\"evenodd\" fill-opacity=\"0.8\" stroke=\"#000000\" stroke-opacity=\"0.8\" stroke-width=\"3.2\"/>\n",
       "<polyline clip-path=\"url(#clip132)\" style=\"stroke:#1b9e77; stroke-linecap:round; stroke-linejoin:round; stroke-width:4; stroke-opacity:0.8; fill:none\" points=\"278.019,495.075 1074.73,238.819 \"/>\n",
       "<path clip-path=\"url(#clip130)\" d=\"M1798.35 643.7 L3152.76 643.7 L3152.76 47.2441 L1798.35 47.2441  Z\" fill=\"#ffffff\" fill-rule=\"evenodd\" fill-opacity=\"1\"/>\n",
       "<defs>\n",
       "  <clipPath id=\"clip133\">\n",
       "    <rect x=\"1798\" y=\"47\" width=\"1355\" height=\"597\"/>\n",
       "  </clipPath>\n",
       "</defs>\n",
       "<polyline clip-path=\"url(#clip133)\" style=\"stroke:#000000; stroke-linecap:round; stroke-linejoin:round; stroke-width:2; stroke-opacity:0.1; fill:none\" points=\"1957.69,643.7 1957.69,47.2441 \"/>\n",
       "<polyline clip-path=\"url(#clip133)\" style=\"stroke:#000000; stroke-linecap:round; stroke-linejoin:round; stroke-width:2; stroke-opacity:0.1; fill:none\" points=\"2356.05,643.7 2356.05,47.2441 \"/>\n",
       "<polyline clip-path=\"url(#clip133)\" style=\"stroke:#000000; stroke-linecap:round; stroke-linejoin:round; stroke-width:2; stroke-opacity:0.1; fill:none\" points=\"2754.4,643.7 2754.4,47.2441 \"/>\n",
       "<polyline clip-path=\"url(#clip133)\" style=\"stroke:#000000; stroke-linecap:round; stroke-linejoin:round; stroke-width:2; stroke-opacity:0.1; fill:none\" points=\"3152.76,643.7 3152.76,47.2441 \"/>\n",
       "<polyline clip-path=\"url(#clip130)\" style=\"stroke:#000000; stroke-linecap:round; stroke-linejoin:round; stroke-width:4; stroke-opacity:1; fill:none\" points=\"1798.35,643.7 3152.76,643.7 \"/>\n",
       "<polyline clip-path=\"url(#clip130)\" style=\"stroke:#000000; stroke-linecap:round; stroke-linejoin:round; stroke-width:4; stroke-opacity:1; fill:none\" points=\"1957.69,643.7 1957.69,624.802 \"/>\n",
       "<polyline clip-path=\"url(#clip130)\" style=\"stroke:#000000; stroke-linecap:round; stroke-linejoin:round; stroke-width:4; stroke-opacity:1; fill:none\" points=\"2356.05,643.7 2356.05,624.802 \"/>\n",
       "<polyline clip-path=\"url(#clip130)\" style=\"stroke:#000000; stroke-linecap:round; stroke-linejoin:round; stroke-width:4; stroke-opacity:1; fill:none\" points=\"2754.4,643.7 2754.4,624.802 \"/>\n",
       "<polyline clip-path=\"url(#clip130)\" style=\"stroke:#000000; stroke-linecap:round; stroke-linejoin:round; stroke-width:4; stroke-opacity:1; fill:none\" points=\"3152.76,643.7 3152.76,624.802 \"/>\n",
       "<path clip-path=\"url(#clip130)\" d=\"M1947.97 677.94 L1966.32 677.94 L1966.32 681.875 L1952.25 681.875 L1952.25 690.347 Q1953.27 690 1954.29 689.838 Q1955.31 689.653 1956.32 689.653 Q1962.11 689.653 1965.49 692.824 Q1968.87 695.995 1968.87 701.412 Q1968.87 706.991 1965.4 710.092 Q1961.93 713.171 1955.61 713.171 Q1953.43 713.171 1951.16 712.801 Q1948.92 712.43 1946.51 711.69 L1946.51 706.991 Q1948.59 708.125 1950.81 708.68 Q1953.04 709.236 1955.51 709.236 Q1959.52 709.236 1961.86 707.13 Q1964.19 705.023 1964.19 701.412 Q1964.19 697.801 1961.86 695.694 Q1959.52 693.588 1955.51 693.588 Q1953.64 693.588 1951.76 694.005 Q1949.91 694.421 1947.97 695.301 L1947.97 677.94 Z\" fill=\"#000000\" fill-rule=\"evenodd\" fill-opacity=\"1\" /><path clip-path=\"url(#clip130)\" d=\"M2330.73 708.565 L2338.37 708.565 L2338.37 682.199 L2330.06 683.866 L2330.06 679.607 L2338.33 677.94 L2343 677.94 L2343 708.565 L2350.64 708.565 L2350.64 712.5 L2330.73 712.5 L2330.73 708.565 Z\" fill=\"#000000\" fill-rule=\"evenodd\" fill-opacity=\"1\" /><path clip-path=\"url(#clip130)\" d=\"M2370.08 681.019 Q2366.47 681.019 2364.64 684.583 Q2362.84 688.125 2362.84 695.255 Q2362.84 702.361 2364.64 705.926 Q2366.47 709.467 2370.08 709.467 Q2373.72 709.467 2375.52 705.926 Q2377.35 702.361 2377.35 695.255 Q2377.35 688.125 2375.52 684.583 Q2373.72 681.019 2370.08 681.019 M2370.08 677.315 Q2375.89 677.315 2378.95 681.921 Q2382.03 686.505 2382.03 695.255 Q2382.03 703.981 2378.95 708.588 Q2375.89 713.171 2370.08 713.171 Q2364.27 713.171 2361.2 708.588 Q2358.14 703.981 2358.14 695.255 Q2358.14 686.505 2361.2 681.921 Q2364.27 677.315 2370.08 677.315 Z\" fill=\"#000000\" fill-rule=\"evenodd\" fill-opacity=\"1\" /><path clip-path=\"url(#clip130)\" d=\"M2729.59 708.565 L2737.22 708.565 L2737.22 682.199 L2728.91 683.866 L2728.91 679.607 L2737.18 677.94 L2741.85 677.94 L2741.85 708.565 L2749.49 708.565 L2749.49 712.5 L2729.59 712.5 L2729.59 708.565 Z\" fill=\"#000000\" fill-rule=\"evenodd\" fill-opacity=\"1\" /><path clip-path=\"url(#clip130)\" d=\"M2758.98 677.94 L2777.34 677.94 L2777.34 681.875 L2763.27 681.875 L2763.27 690.347 Q2764.28 690 2765.3 689.838 Q2766.32 689.653 2767.34 689.653 Q2773.13 689.653 2776.51 692.824 Q2779.89 695.995 2779.89 701.412 Q2779.89 706.991 2776.41 710.092 Q2772.94 713.171 2766.62 713.171 Q2764.45 713.171 2762.18 712.801 Q2759.93 712.43 2757.53 711.69 L2757.53 706.991 Q2759.61 708.125 2761.83 708.68 Q2764.05 709.236 2766.53 709.236 Q2770.53 709.236 2772.87 707.13 Q2775.21 705.023 2775.21 701.412 Q2775.21 697.801 2772.87 695.694 Q2770.53 693.588 2766.53 693.588 Q2764.66 693.588 2762.78 694.005 Q2760.93 694.421 2758.98 695.301 L2758.98 677.94 Z\" fill=\"#000000\" fill-rule=\"evenodd\" fill-opacity=\"1\" /><path clip-path=\"url(#clip130)\" d=\"M3131.53 708.565 L3147.85 708.565 L3147.85 712.5 L3125.9 712.5 L3125.9 708.565 Q3128.57 705.81 3133.15 701.18 Q3137.76 696.528 3138.94 695.185 Q3141.18 692.662 3142.06 690.926 Q3142.96 689.167 3142.96 687.477 Q3142.96 684.722 3141.02 682.986 Q3139.1 681.25 3136 681.25 Q3133.8 681.25 3131.34 682.014 Q3128.91 682.778 3126.14 684.329 L3126.14 679.607 Q3128.96 678.472 3131.41 677.894 Q3133.87 677.315 3135.9 677.315 Q3141.27 677.315 3144.47 680 Q3147.66 682.685 3147.66 687.176 Q3147.66 689.306 3146.85 691.227 Q3146.07 693.125 3143.96 695.718 Q3143.38 696.389 3140.28 699.606 Q3137.18 702.801 3131.53 708.565 Z\" fill=\"#000000\" fill-rule=\"evenodd\" fill-opacity=\"1\" /><path clip-path=\"url(#clip130)\" d=\"M3167.66 681.019 Q3164.05 681.019 3162.22 684.583 Q3160.42 688.125 3160.42 695.255 Q3160.42 702.361 3162.22 705.926 Q3164.05 709.467 3167.66 709.467 Q3171.3 709.467 3173.1 705.926 Q3174.93 702.361 3174.93 695.255 Q3174.93 688.125 3173.1 684.583 Q3171.3 681.019 3167.66 681.019 M3167.66 677.315 Q3173.47 677.315 3176.53 681.921 Q3179.61 686.505 3179.61 695.255 Q3179.61 703.981 3176.53 708.588 Q3173.47 713.171 3167.66 713.171 Q3161.85 713.171 3158.77 708.588 Q3155.72 703.981 3155.72 695.255 Q3155.72 686.505 3158.77 681.921 Q3161.85 677.315 3167.66 677.315 Z\" fill=\"#000000\" fill-rule=\"evenodd\" fill-opacity=\"1\" /><path clip-path=\"url(#clip130)\" d=\"M2473.63 764.916 L2460.74 782.262 L2474.29 800.564 L2467.39 800.564 L2457.01 786.559 L2446.64 800.564 L2439.73 800.564 L2453.57 781.912 L2440.91 764.916 L2447.81 764.916 L2457.27 777.615 L2466.72 764.916 L2473.63 764.916 Z\" fill=\"#000000\" fill-rule=\"evenodd\" fill-opacity=\"1\" /><path clip-path=\"url(#clip130)\" d=\"M2488.94 795.153 L2511.37 795.153 L2511.37 800.564 L2481.2 800.564 L2481.2 795.153 Q2484.86 791.365 2491.16 785 Q2497.5 778.602 2499.12 776.756 Q2502.21 773.287 2503.42 770.9 Q2504.66 768.481 2504.66 766.157 Q2504.66 762.37 2501.99 759.982 Q2499.34 757.595 2495.08 757.595 Q2492.05 757.595 2488.68 758.646 Q2485.34 759.696 2481.52 761.829 L2481.52 755.335 Q2485.4 753.776 2488.78 752.98 Q2492.15 752.184 2494.95 752.184 Q2502.34 752.184 2506.73 755.877 Q2511.12 759.569 2511.12 765.743 Q2511.12 768.672 2510.01 771.313 Q2508.92 773.923 2506.03 777.488 Q2505.23 778.411 2500.97 782.835 Q2496.7 787.228 2488.94 795.153 Z\" fill=\"#000000\" fill-rule=\"evenodd\" fill-opacity=\"1\" /><polyline clip-path=\"url(#clip133)\" style=\"stroke:#000000; stroke-linecap:round; stroke-linejoin:round; stroke-width:2; stroke-opacity:0.1; fill:none\" points=\"1798.35,546.34 3152.76,546.34 \"/>\n",
       "<polyline clip-path=\"url(#clip133)\" style=\"stroke:#000000; stroke-linecap:round; stroke-linejoin:round; stroke-width:2; stroke-opacity:0.1; fill:none\" points=\"1798.35,443.856 3152.76,443.856 \"/>\n",
       "<polyline clip-path=\"url(#clip133)\" style=\"stroke:#000000; stroke-linecap:round; stroke-linejoin:round; stroke-width:2; stroke-opacity:0.1; fill:none\" points=\"1798.35,341.373 3152.76,341.373 \"/>\n",
       "<polyline clip-path=\"url(#clip133)\" style=\"stroke:#000000; stroke-linecap:round; stroke-linejoin:round; stroke-width:2; stroke-opacity:0.1; fill:none\" points=\"1798.35,238.889 3152.76,238.889 \"/>\n",
       "<polyline clip-path=\"url(#clip133)\" style=\"stroke:#000000; stroke-linecap:round; stroke-linejoin:round; stroke-width:2; stroke-opacity:0.1; fill:none\" points=\"1798.35,136.405 3152.76,136.405 \"/>\n",
       "<polyline clip-path=\"url(#clip130)\" style=\"stroke:#000000; stroke-linecap:round; stroke-linejoin:round; stroke-width:4; stroke-opacity:1; fill:none\" points=\"1798.35,643.7 1798.35,47.2441 \"/>\n",
       "<polyline clip-path=\"url(#clip130)\" style=\"stroke:#000000; stroke-linecap:round; stroke-linejoin:round; stroke-width:4; stroke-opacity:1; fill:none\" points=\"1798.35,546.34 1817.25,546.34 \"/>\n",
       "<polyline clip-path=\"url(#clip130)\" style=\"stroke:#000000; stroke-linecap:round; stroke-linejoin:round; stroke-width:4; stroke-opacity:1; fill:none\" points=\"1798.35,443.856 1817.25,443.856 \"/>\n",
       "<polyline clip-path=\"url(#clip130)\" style=\"stroke:#000000; stroke-linecap:round; stroke-linejoin:round; stroke-width:4; stroke-opacity:1; fill:none\" points=\"1798.35,341.373 1817.25,341.373 \"/>\n",
       "<polyline clip-path=\"url(#clip130)\" style=\"stroke:#000000; stroke-linecap:round; stroke-linejoin:round; stroke-width:4; stroke-opacity:1; fill:none\" points=\"1798.35,238.889 1817.25,238.889 \"/>\n",
       "<polyline clip-path=\"url(#clip130)\" style=\"stroke:#000000; stroke-linecap:round; stroke-linejoin:round; stroke-width:4; stroke-opacity:1; fill:none\" points=\"1798.35,136.405 1817.25,136.405 \"/>\n",
       "<path clip-path=\"url(#clip130)\" d=\"M1740.76 533.134 L1728.96 551.583 L1740.76 551.583 L1740.76 533.134 M1739.54 529.06 L1745.42 529.06 L1745.42 551.583 L1750.35 551.583 L1750.35 555.472 L1745.42 555.472 L1745.42 563.62 L1740.76 563.62 L1740.76 555.472 L1725.16 555.472 L1725.16 550.958 L1739.54 529.06 Z\" fill=\"#000000\" fill-rule=\"evenodd\" fill-opacity=\"1\" /><path clip-path=\"url(#clip130)\" d=\"M1738.82 441.993 Q1735.67 441.993 1733.82 444.146 Q1731.99 446.299 1731.99 450.049 Q1731.99 453.775 1733.82 455.951 Q1735.67 458.104 1738.82 458.104 Q1741.97 458.104 1743.8 455.951 Q1745.65 453.775 1745.65 450.049 Q1745.65 446.299 1743.8 444.146 Q1741.97 441.993 1738.82 441.993 M1748.1 427.34 L1748.1 431.6 Q1746.34 430.766 1744.54 430.326 Q1742.75 429.887 1741 429.887 Q1736.37 429.887 1733.91 433.012 Q1731.48 436.137 1731.13 442.456 Q1732.5 440.442 1734.56 439.377 Q1736.62 438.289 1739.1 438.289 Q1744.31 438.289 1747.32 441.461 Q1750.35 444.609 1750.35 450.049 Q1750.35 455.373 1747.2 458.59 Q1744.05 461.808 1738.82 461.808 Q1732.82 461.808 1729.65 457.224 Q1726.48 452.618 1726.48 443.891 Q1726.48 435.697 1730.37 430.836 Q1734.26 425.951 1740.81 425.951 Q1742.57 425.951 1744.35 426.299 Q1746.16 426.646 1748.1 427.34 Z\" fill=\"#000000\" fill-rule=\"evenodd\" fill-opacity=\"1\" /><path clip-path=\"url(#clip130)\" d=\"M1738.5 342.241 Q1735.16 342.241 1733.24 344.023 Q1731.34 345.805 1731.34 348.93 Q1731.34 352.055 1733.24 353.838 Q1735.16 355.62 1738.5 355.62 Q1741.83 355.62 1743.75 353.838 Q1745.67 352.032 1745.67 348.93 Q1745.67 345.805 1743.75 344.023 Q1741.85 342.241 1738.5 342.241 M1733.82 340.25 Q1730.81 339.509 1729.12 337.449 Q1727.45 335.389 1727.45 332.426 Q1727.45 328.282 1730.39 325.875 Q1733.36 323.468 1738.5 323.468 Q1743.66 323.468 1746.6 325.875 Q1749.54 328.282 1749.54 332.426 Q1749.54 335.389 1747.85 337.449 Q1746.18 339.509 1743.19 340.25 Q1746.57 341.037 1748.45 343.329 Q1750.35 345.62 1750.35 348.93 Q1750.35 353.954 1747.27 356.639 Q1744.21 359.324 1738.5 359.324 Q1732.78 359.324 1729.7 356.639 Q1726.64 353.954 1726.64 348.93 Q1726.64 345.62 1728.54 343.329 Q1730.44 341.037 1733.82 340.25 M1732.11 332.866 Q1732.11 335.551 1733.77 337.056 Q1735.46 338.56 1738.5 338.56 Q1741.5 338.56 1743.19 337.056 Q1744.91 335.551 1744.91 332.866 Q1744.91 330.181 1743.19 328.676 Q1741.5 327.171 1738.5 327.171 Q1735.46 327.171 1733.77 328.676 Q1732.11 330.181 1732.11 332.866 Z\" fill=\"#000000\" fill-rule=\"evenodd\" fill-opacity=\"1\" /><path clip-path=\"url(#clip130)\" d=\"M1699.05 252.234 L1706.69 252.234 L1706.69 225.868 L1698.38 227.535 L1698.38 223.275 L1706.64 221.609 L1711.32 221.609 L1711.32 252.234 L1718.96 252.234 L1718.96 256.169 L1699.05 256.169 L1699.05 252.234 Z\" fill=\"#000000\" fill-rule=\"evenodd\" fill-opacity=\"1\" /><path clip-path=\"url(#clip130)\" d=\"M1738.4 224.687 Q1734.79 224.687 1732.96 228.252 Q1731.16 231.794 1731.16 238.924 Q1731.16 246.03 1732.96 249.595 Q1734.79 253.136 1738.4 253.136 Q1742.04 253.136 1743.84 249.595 Q1745.67 246.03 1745.67 238.924 Q1745.67 231.794 1743.84 228.252 Q1742.04 224.687 1738.4 224.687 M1738.4 220.984 Q1744.21 220.984 1747.27 225.59 Q1750.35 230.174 1750.35 238.924 Q1750.35 247.65 1747.27 252.257 Q1744.21 256.84 1738.4 256.84 Q1732.59 256.84 1729.51 252.257 Q1726.46 247.65 1726.46 238.924 Q1726.46 230.174 1729.51 225.59 Q1732.59 220.984 1738.4 220.984 Z\" fill=\"#000000\" fill-rule=\"evenodd\" fill-opacity=\"1\" /><path clip-path=\"url(#clip130)\" d=\"M1700.65 149.75 L1708.29 149.75 L1708.29 123.384 L1699.98 125.051 L1699.98 120.792 L1708.24 119.125 L1712.92 119.125 L1712.92 149.75 L1720.56 149.75 L1720.56 153.685 L1700.65 153.685 L1700.65 149.75 Z\" fill=\"#000000\" fill-rule=\"evenodd\" fill-opacity=\"1\" /><path clip-path=\"url(#clip130)\" d=\"M1734.03 149.75 L1750.35 149.75 L1750.35 153.685 L1728.4 153.685 L1728.4 149.75 Q1731.07 146.995 1735.65 142.366 Q1740.25 137.713 1741.44 136.37 Q1743.68 133.847 1744.56 132.111 Q1745.46 130.352 1745.46 128.662 Q1745.46 125.907 1743.52 124.171 Q1741.6 122.435 1738.5 122.435 Q1736.3 122.435 1733.84 123.199 Q1731.41 123.963 1728.63 125.514 L1728.63 120.792 Q1731.46 119.657 1733.91 119.079 Q1736.37 118.5 1738.4 118.5 Q1743.77 118.5 1746.97 121.185 Q1750.16 123.87 1750.16 128.361 Q1750.16 130.491 1749.35 132.412 Q1748.57 134.31 1746.46 136.903 Q1745.88 137.574 1742.78 140.792 Q1739.68 143.986 1734.03 149.75 Z\" fill=\"#000000\" fill-rule=\"evenodd\" fill-opacity=\"1\" /><path clip-path=\"url(#clip130)\" d=\"M1639.43 362.23 Q1645.8 364.712 1647.74 367.068 Q1649.68 369.423 1649.68 373.37 L1649.68 378.048 L1644.78 378.048 L1644.78 374.611 Q1644.78 372.192 1643.64 370.855 Q1642.49 369.518 1638.22 367.895 L1635.55 366.845 L1600.48 381.263 L1600.48 375.057 L1628.36 363.917 L1600.48 352.777 L1600.48 346.57 L1639.43 362.23 Z\" fill=\"#000000\" fill-rule=\"evenodd\" fill-opacity=\"1\" /><path clip-path=\"url(#clip130)\" d=\"M1630.71 332.12 L1630.71 309.681 L1636.12 309.681 L1636.12 339.854 L1630.71 339.854 Q1626.93 336.194 1620.56 329.892 Q1614.16 323.558 1612.32 321.935 Q1608.85 318.847 1606.46 317.638 Q1604.04 316.397 1601.72 316.397 Q1597.93 316.397 1595.54 319.07 Q1593.16 321.712 1593.16 325.977 Q1593.16 329.001 1594.21 332.375 Q1595.26 335.717 1597.39 339.536 L1590.9 339.536 Q1589.34 335.653 1588.54 332.279 Q1587.74 328.905 1587.74 326.104 Q1587.74 318.72 1591.44 314.328 Q1595.13 309.935 1601.3 309.935 Q1604.23 309.935 1606.87 311.049 Q1609.48 312.132 1613.05 315.028 Q1613.97 315.824 1618.4 320.089 Q1622.79 324.354 1630.71 332.12 Z\" fill=\"#000000\" fill-rule=\"evenodd\" fill-opacity=\"1\" /><circle clip-path=\"url(#clip133)\" cx=\"2356.05\" cy=\"282.957\" r=\"14.4\" fill=\"#1b9e77\" fill-rule=\"evenodd\" fill-opacity=\"0.8\" stroke=\"#000000\" stroke-opacity=\"0.8\" stroke-width=\"3.2\"/>\n",
       "<circle clip-path=\"url(#clip133)\" cx=\"2196.7\" cy=\"334.199\" r=\"14.4\" fill=\"#1b9e77\" fill-rule=\"evenodd\" fill-opacity=\"0.8\" stroke=\"#000000\" stroke-opacity=\"0.8\" stroke-width=\"3.2\"/>\n",
       "<circle clip-path=\"url(#clip133)\" cx=\"2595.06\" cy=\"303.454\" r=\"14.4\" fill=\"#1b9e77\" fill-rule=\"evenodd\" fill-opacity=\"0.8\" stroke=\"#000000\" stroke-opacity=\"0.8\" stroke-width=\"3.2\"/>\n",
       "<circle clip-path=\"url(#clip133)\" cx=\"2276.37\" cy=\"301.916\" r=\"14.4\" fill=\"#1b9e77\" fill-rule=\"evenodd\" fill-opacity=\"0.8\" stroke=\"#000000\" stroke-opacity=\"0.8\" stroke-width=\"3.2\"/>\n",
       "<circle clip-path=\"url(#clip133)\" cx=\"2435.72\" cy=\"276.808\" r=\"14.4\" fill=\"#1b9e77\" fill-rule=\"evenodd\" fill-opacity=\"0.8\" stroke=\"#000000\" stroke-opacity=\"0.8\" stroke-width=\"3.2\"/>\n",
       "<circle clip-path=\"url(#clip133)\" cx=\"2674.73\" cy=\"336.248\" r=\"14.4\" fill=\"#1b9e77\" fill-rule=\"evenodd\" fill-opacity=\"0.8\" stroke=\"#000000\" stroke-opacity=\"0.8\" stroke-width=\"3.2\"/>\n",
       "<circle clip-path=\"url(#clip133)\" cx=\"2037.36\" cy=\"437.195\" r=\"14.4\" fill=\"#1b9e77\" fill-rule=\"evenodd\" fill-opacity=\"0.8\" stroke=\"#000000\" stroke-opacity=\"0.8\" stroke-width=\"3.2\"/>\n",
       "<circle clip-path=\"url(#clip133)\" cx=\"1878.02\" cy=\"592.458\" r=\"14.4\" fill=\"#1b9e77\" fill-rule=\"evenodd\" fill-opacity=\"0.8\" stroke=\"#000000\" stroke-opacity=\"0.8\" stroke-width=\"3.2\"/>\n",
       "<circle clip-path=\"url(#clip133)\" cx=\"2515.39\" cy=\"283.469\" r=\"14.4\" fill=\"#1b9e77\" fill-rule=\"evenodd\" fill-opacity=\"0.8\" stroke=\"#000000\" stroke-opacity=\"0.8\" stroke-width=\"3.2\"/>\n",
       "<circle clip-path=\"url(#clip133)\" cx=\"2117.03\" cy=\"379.292\" r=\"14.4\" fill=\"#1b9e77\" fill-rule=\"evenodd\" fill-opacity=\"0.8\" stroke=\"#000000\" stroke-opacity=\"0.8\" stroke-width=\"3.2\"/>\n",
       "<circle clip-path=\"url(#clip133)\" cx=\"1957.69\" cy=\"508.421\" r=\"14.4\" fill=\"#1b9e77\" fill-rule=\"evenodd\" fill-opacity=\"0.8\" stroke=\"#000000\" stroke-opacity=\"0.8\" stroke-width=\"3.2\"/>\n",
       "<polyline clip-path=\"url(#clip133)\" style=\"stroke:#1b9e77; stroke-linecap:round; stroke-linejoin:round; stroke-width:4; stroke-opacity:0.8; fill:none\" points=\"1878.02,495.052 2674.73,238.842 \"/>\n",
       "<path clip-path=\"url(#clip130)\" d=\"M198.347 1443.7 L1552.76 1443.7 L1552.76 847.244 L198.347 847.244  Z\" fill=\"#ffffff\" fill-rule=\"evenodd\" fill-opacity=\"1\"/>\n",
       "<defs>\n",
       "  <clipPath id=\"clip134\">\n",
       "    <rect x=\"198\" y=\"847\" width=\"1355\" height=\"597\"/>\n",
       "  </clipPath>\n",
       "</defs>\n",
       "<polyline clip-path=\"url(#clip134)\" style=\"stroke:#000000; stroke-linecap:round; stroke-linejoin:round; stroke-width:2; stroke-opacity:0.1; fill:none\" points=\"357.69,1443.7 357.69,847.244 \"/>\n",
       "<polyline clip-path=\"url(#clip134)\" style=\"stroke:#000000; stroke-linecap:round; stroke-linejoin:round; stroke-width:2; stroke-opacity:0.1; fill:none\" points=\"756.045,1443.7 756.045,847.244 \"/>\n",
       "<polyline clip-path=\"url(#clip134)\" style=\"stroke:#000000; stroke-linecap:round; stroke-linejoin:round; stroke-width:2; stroke-opacity:0.1; fill:none\" points=\"1154.4,1443.7 1154.4,847.244 \"/>\n",
       "<polyline clip-path=\"url(#clip134)\" style=\"stroke:#000000; stroke-linecap:round; stroke-linejoin:round; stroke-width:2; stroke-opacity:0.1; fill:none\" points=\"1552.76,1443.7 1552.76,847.244 \"/>\n",
       "<polyline clip-path=\"url(#clip130)\" style=\"stroke:#000000; stroke-linecap:round; stroke-linejoin:round; stroke-width:4; stroke-opacity:1; fill:none\" points=\"198.347,1443.7 1552.76,1443.7 \"/>\n",
       "<polyline clip-path=\"url(#clip130)\" style=\"stroke:#000000; stroke-linecap:round; stroke-linejoin:round; stroke-width:4; stroke-opacity:1; fill:none\" points=\"357.69,1443.7 357.69,1424.8 \"/>\n",
       "<polyline clip-path=\"url(#clip130)\" style=\"stroke:#000000; stroke-linecap:round; stroke-linejoin:round; stroke-width:4; stroke-opacity:1; fill:none\" points=\"756.045,1443.7 756.045,1424.8 \"/>\n",
       "<polyline clip-path=\"url(#clip130)\" style=\"stroke:#000000; stroke-linecap:round; stroke-linejoin:round; stroke-width:4; stroke-opacity:1; fill:none\" points=\"1154.4,1443.7 1154.4,1424.8 \"/>\n",
       "<polyline clip-path=\"url(#clip130)\" style=\"stroke:#000000; stroke-linecap:round; stroke-linejoin:round; stroke-width:4; stroke-opacity:1; fill:none\" points=\"1552.76,1443.7 1552.76,1424.8 \"/>\n",
       "<path clip-path=\"url(#clip130)\" d=\"M347.967 1477.94 L366.324 1477.94 L366.324 1481.88 L352.25 1481.88 L352.25 1490.35 Q353.268 1490 354.287 1489.84 Q355.305 1489.65 356.324 1489.65 Q362.111 1489.65 365.491 1492.82 Q368.87 1496 368.87 1501.41 Q368.87 1506.99 365.398 1510.09 Q361.926 1513.17 355.606 1513.17 Q353.43 1513.17 351.162 1512.8 Q348.917 1512.43 346.509 1511.69 L346.509 1506.99 Q348.592 1508.12 350.815 1508.68 Q353.037 1509.24 355.514 1509.24 Q359.518 1509.24 361.856 1507.13 Q364.194 1505.02 364.194 1501.41 Q364.194 1497.8 361.856 1495.69 Q359.518 1493.59 355.514 1493.59 Q353.639 1493.59 351.764 1494 Q349.912 1494.42 347.967 1495.3 L347.967 1477.94 Z\" fill=\"#000000\" fill-rule=\"evenodd\" fill-opacity=\"1\" /><path clip-path=\"url(#clip130)\" d=\"M730.733 1508.56 L738.372 1508.56 L738.372 1482.2 L730.061 1483.87 L730.061 1479.61 L738.325 1477.94 L743.001 1477.94 L743.001 1508.56 L750.64 1508.56 L750.64 1512.5 L730.733 1512.5 L730.733 1508.56 Z\" fill=\"#000000\" fill-rule=\"evenodd\" fill-opacity=\"1\" /><path clip-path=\"url(#clip130)\" d=\"M770.084 1481.02 Q766.473 1481.02 764.645 1484.58 Q762.839 1488.12 762.839 1495.25 Q762.839 1502.36 764.645 1505.93 Q766.473 1509.47 770.084 1509.47 Q773.719 1509.47 775.524 1505.93 Q777.353 1502.36 777.353 1495.25 Q777.353 1488.12 775.524 1484.58 Q773.719 1481.02 770.084 1481.02 M770.084 1477.31 Q775.894 1477.31 778.95 1481.92 Q782.029 1486.5 782.029 1495.25 Q782.029 1503.98 778.95 1508.59 Q775.894 1513.17 770.084 1513.17 Q764.274 1513.17 761.195 1508.59 Q758.14 1503.98 758.14 1495.25 Q758.14 1486.5 761.195 1481.92 Q764.274 1477.31 770.084 1477.31 Z\" fill=\"#000000\" fill-rule=\"evenodd\" fill-opacity=\"1\" /><path clip-path=\"url(#clip130)\" d=\"M1129.59 1508.56 L1137.22 1508.56 L1137.22 1482.2 L1128.91 1483.87 L1128.91 1479.61 L1137.18 1477.94 L1141.85 1477.94 L1141.85 1508.56 L1149.49 1508.56 L1149.49 1512.5 L1129.59 1512.5 L1129.59 1508.56 Z\" fill=\"#000000\" fill-rule=\"evenodd\" fill-opacity=\"1\" /><path clip-path=\"url(#clip130)\" d=\"M1158.98 1477.94 L1177.34 1477.94 L1177.34 1481.88 L1163.27 1481.88 L1163.27 1490.35 Q1164.28 1490 1165.3 1489.84 Q1166.32 1489.65 1167.34 1489.65 Q1173.13 1489.65 1176.51 1492.82 Q1179.89 1496 1179.89 1501.41 Q1179.89 1506.99 1176.41 1510.09 Q1172.94 1513.17 1166.62 1513.17 Q1164.45 1513.17 1162.18 1512.8 Q1159.93 1512.43 1157.53 1511.69 L1157.53 1506.99 Q1159.61 1508.12 1161.83 1508.68 Q1164.05 1509.24 1166.53 1509.24 Q1170.53 1509.24 1172.87 1507.13 Q1175.21 1505.02 1175.21 1501.41 Q1175.21 1497.8 1172.87 1495.69 Q1170.53 1493.59 1166.53 1493.59 Q1164.66 1493.59 1162.78 1494 Q1160.93 1494.42 1158.98 1495.3 L1158.98 1477.94 Z\" fill=\"#000000\" fill-rule=\"evenodd\" fill-opacity=\"1\" /><path clip-path=\"url(#clip130)\" d=\"M1531.53 1508.56 L1547.85 1508.56 L1547.85 1512.5 L1525.9 1512.5 L1525.9 1508.56 Q1528.57 1505.81 1533.15 1501.18 Q1537.76 1496.53 1538.94 1495.19 Q1541.18 1492.66 1542.06 1490.93 Q1542.96 1489.17 1542.96 1487.48 Q1542.96 1484.72 1541.02 1482.99 Q1539.1 1481.25 1536 1481.25 Q1533.8 1481.25 1531.34 1482.01 Q1528.91 1482.78 1526.14 1484.33 L1526.14 1479.61 Q1528.96 1478.47 1531.41 1477.89 Q1533.87 1477.31 1535.9 1477.31 Q1541.27 1477.31 1544.47 1480 Q1547.66 1482.69 1547.66 1487.18 Q1547.66 1489.31 1546.85 1491.23 Q1546.07 1493.12 1543.96 1495.72 Q1543.38 1496.39 1540.28 1499.61 Q1537.18 1502.8 1531.53 1508.56 Z\" fill=\"#000000\" fill-rule=\"evenodd\" fill-opacity=\"1\" /><path clip-path=\"url(#clip130)\" d=\"M1567.66 1481.02 Q1564.05 1481.02 1562.22 1484.58 Q1560.42 1488.12 1560.42 1495.25 Q1560.42 1502.36 1562.22 1505.93 Q1564.05 1509.47 1567.66 1509.47 Q1571.3 1509.47 1573.1 1505.93 Q1574.93 1502.36 1574.93 1495.25 Q1574.93 1488.12 1573.1 1484.58 Q1571.3 1481.02 1567.66 1481.02 M1567.66 1477.31 Q1573.47 1477.31 1576.53 1481.92 Q1579.61 1486.5 1579.61 1495.25 Q1579.61 1503.98 1576.53 1508.59 Q1573.47 1513.17 1567.66 1513.17 Q1561.85 1513.17 1558.77 1508.59 Q1555.72 1503.98 1555.72 1495.25 Q1555.72 1486.5 1558.77 1481.92 Q1561.85 1477.31 1567.66 1477.31 Z\" fill=\"#000000\" fill-rule=\"evenodd\" fill-opacity=\"1\" /><path clip-path=\"url(#clip130)\" d=\"M872.974 1564.92 L860.083 1582.26 L873.642 1600.56 L866.735 1600.56 L856.359 1586.56 L845.983 1600.56 L839.076 1600.56 L852.922 1581.91 L840.254 1564.92 L847.161 1564.92 L856.614 1577.62 L866.067 1564.92 L872.974 1564.92 Z\" fill=\"#000000\" fill-rule=\"evenodd\" fill-opacity=\"1\" /><path clip-path=\"url(#clip130)\" d=\"M902.224 1574.94 Q906.839 1575.93 909.417 1579.05 Q912.027 1582.17 912.027 1586.75 Q912.027 1593.78 907.189 1597.64 Q902.351 1601.49 893.439 1601.49 Q890.447 1601.49 887.265 1600.88 Q884.114 1600.31 880.74 1599.13 L880.74 1592.92 Q883.413 1594.48 886.596 1595.28 Q889.779 1596.08 893.248 1596.08 Q899.296 1596.08 902.447 1593.69 Q905.63 1591.3 905.63 1586.75 Q905.63 1582.55 902.67 1580.19 Q899.741 1577.81 894.49 1577.81 L888.952 1577.81 L888.952 1572.52 L894.744 1572.52 Q899.487 1572.52 902.001 1570.65 Q904.516 1568.74 904.516 1565.17 Q904.516 1561.51 901.906 1559.57 Q899.328 1557.6 894.49 1557.6 Q891.848 1557.6 888.824 1558.17 Q885.8 1558.74 882.172 1559.95 L882.172 1554.22 Q885.832 1553.2 889.015 1552.69 Q892.23 1552.18 895.063 1552.18 Q902.383 1552.18 906.648 1555.53 Q910.913 1558.84 910.913 1564.5 Q910.913 1568.45 908.653 1571.19 Q906.394 1573.89 902.224 1574.94 Z\" fill=\"#000000\" fill-rule=\"evenodd\" fill-opacity=\"1\" /><polyline clip-path=\"url(#clip134)\" style=\"stroke:#000000; stroke-linecap:round; stroke-linejoin:round; stroke-width:2; stroke-opacity:0.1; fill:none\" points=\"198.347,1346.34 1552.76,1346.34 \"/>\n",
       "<polyline clip-path=\"url(#clip134)\" style=\"stroke:#000000; stroke-linecap:round; stroke-linejoin:round; stroke-width:2; stroke-opacity:0.1; fill:none\" points=\"198.347,1243.86 1552.76,1243.86 \"/>\n",
       "<polyline clip-path=\"url(#clip134)\" style=\"stroke:#000000; stroke-linecap:round; stroke-linejoin:round; stroke-width:2; stroke-opacity:0.1; fill:none\" points=\"198.347,1141.37 1552.76,1141.37 \"/>\n",
       "<polyline clip-path=\"url(#clip134)\" style=\"stroke:#000000; stroke-linecap:round; stroke-linejoin:round; stroke-width:2; stroke-opacity:0.1; fill:none\" points=\"198.347,1038.89 1552.76,1038.89 \"/>\n",
       "<polyline clip-path=\"url(#clip134)\" style=\"stroke:#000000; stroke-linecap:round; stroke-linejoin:round; stroke-width:2; stroke-opacity:0.1; fill:none\" points=\"198.347,936.405 1552.76,936.405 \"/>\n",
       "<polyline clip-path=\"url(#clip130)\" style=\"stroke:#000000; stroke-linecap:round; stroke-linejoin:round; stroke-width:4; stroke-opacity:1; fill:none\" points=\"198.347,1443.7 198.347,847.244 \"/>\n",
       "<polyline clip-path=\"url(#clip130)\" style=\"stroke:#000000; stroke-linecap:round; stroke-linejoin:round; stroke-width:4; stroke-opacity:1; fill:none\" points=\"198.347,1346.34 217.245,1346.34 \"/>\n",
       "<polyline clip-path=\"url(#clip130)\" style=\"stroke:#000000; stroke-linecap:round; stroke-linejoin:round; stroke-width:4; stroke-opacity:1; fill:none\" points=\"198.347,1243.86 217.245,1243.86 \"/>\n",
       "<polyline clip-path=\"url(#clip130)\" style=\"stroke:#000000; stroke-linecap:round; stroke-linejoin:round; stroke-width:4; stroke-opacity:1; fill:none\" points=\"198.347,1141.37 217.245,1141.37 \"/>\n",
       "<polyline clip-path=\"url(#clip130)\" style=\"stroke:#000000; stroke-linecap:round; stroke-linejoin:round; stroke-width:4; stroke-opacity:1; fill:none\" points=\"198.347,1038.89 217.245,1038.89 \"/>\n",
       "<polyline clip-path=\"url(#clip130)\" style=\"stroke:#000000; stroke-linecap:round; stroke-linejoin:round; stroke-width:4; stroke-opacity:1; fill:none\" points=\"198.347,936.405 217.245,936.405 \"/>\n",
       "<path clip-path=\"url(#clip130)\" d=\"M140.764 1333.13 L128.959 1351.58 L140.764 1351.58 L140.764 1333.13 M139.537 1329.06 L145.417 1329.06 L145.417 1351.58 L150.347 1351.58 L150.347 1355.47 L145.417 1355.47 L145.417 1363.62 L140.764 1363.62 L140.764 1355.47 L125.162 1355.47 L125.162 1350.96 L139.537 1329.06 Z\" fill=\"#000000\" fill-rule=\"evenodd\" fill-opacity=\"1\" /><path clip-path=\"url(#clip130)\" d=\"M138.82 1241.99 Q135.672 1241.99 133.82 1244.15 Q131.991 1246.3 131.991 1250.05 Q131.991 1253.78 133.82 1255.95 Q135.672 1258.1 138.82 1258.1 Q141.968 1258.1 143.797 1255.95 Q145.648 1253.78 145.648 1250.05 Q145.648 1246.3 143.797 1244.15 Q141.968 1241.99 138.82 1241.99 M148.102 1227.34 L148.102 1231.6 Q146.343 1230.77 144.537 1230.33 Q142.755 1229.89 140.996 1229.89 Q136.366 1229.89 133.912 1233.01 Q131.482 1236.14 131.135 1242.46 Q132.5 1240.44 134.561 1239.38 Q136.621 1238.29 139.098 1238.29 Q144.306 1238.29 147.315 1241.46 Q150.347 1244.61 150.347 1250.05 Q150.347 1255.37 147.199 1258.59 Q144.051 1261.81 138.82 1261.81 Q132.824 1261.81 129.653 1257.22 Q126.482 1252.62 126.482 1243.89 Q126.482 1235.7 130.371 1230.84 Q134.26 1225.95 140.81 1225.95 Q142.57 1225.95 144.352 1226.3 Q146.158 1226.65 148.102 1227.34 Z\" fill=\"#000000\" fill-rule=\"evenodd\" fill-opacity=\"1\" /><path clip-path=\"url(#clip130)\" d=\"M138.496 1142.24 Q135.162 1142.24 133.241 1144.02 Q131.343 1145.81 131.343 1148.93 Q131.343 1152.06 133.241 1153.84 Q135.162 1155.62 138.496 1155.62 Q141.829 1155.62 143.75 1153.84 Q145.672 1152.03 145.672 1148.93 Q145.672 1145.81 143.75 1144.02 Q141.852 1142.24 138.496 1142.24 M133.82 1140.25 Q130.811 1139.51 129.121 1137.45 Q127.454 1135.39 127.454 1132.43 Q127.454 1128.28 130.394 1125.88 Q133.357 1123.47 138.496 1123.47 Q143.658 1123.47 146.597 1125.88 Q149.537 1128.28 149.537 1132.43 Q149.537 1135.39 147.847 1137.45 Q146.181 1139.51 143.195 1140.25 Q146.574 1141.04 148.449 1143.33 Q150.347 1145.62 150.347 1148.93 Q150.347 1153.95 147.269 1156.64 Q144.213 1159.32 138.496 1159.32 Q132.778 1159.32 129.699 1156.64 Q126.644 1153.95 126.644 1148.93 Q126.644 1145.62 128.542 1143.33 Q130.44 1141.04 133.82 1140.25 M132.107 1132.87 Q132.107 1135.55 133.773 1137.06 Q135.463 1138.56 138.496 1138.56 Q141.505 1138.56 143.195 1137.06 Q144.908 1135.55 144.908 1132.87 Q144.908 1130.18 143.195 1128.68 Q141.505 1127.17 138.496 1127.17 Q135.463 1127.17 133.773 1128.68 Q132.107 1130.18 132.107 1132.87 Z\" fill=\"#000000\" fill-rule=\"evenodd\" fill-opacity=\"1\" /><path clip-path=\"url(#clip130)\" d=\"M99.0515 1052.23 L106.69 1052.23 L106.69 1025.87 L98.3802 1027.53 L98.3802 1023.28 L106.644 1021.61 L111.32 1021.61 L111.32 1052.23 L118.959 1052.23 L118.959 1056.17 L99.0515 1056.17 L99.0515 1052.23 Z\" fill=\"#000000\" fill-rule=\"evenodd\" fill-opacity=\"1\" /><path clip-path=\"url(#clip130)\" d=\"M138.403 1024.69 Q134.792 1024.69 132.963 1028.25 Q131.158 1031.79 131.158 1038.92 Q131.158 1046.03 132.963 1049.59 Q134.792 1053.14 138.403 1053.14 Q142.037 1053.14 143.843 1049.59 Q145.672 1046.03 145.672 1038.92 Q145.672 1031.79 143.843 1028.25 Q142.037 1024.69 138.403 1024.69 M138.403 1020.98 Q144.213 1020.98 147.269 1025.59 Q150.347 1030.17 150.347 1038.92 Q150.347 1047.65 147.269 1052.26 Q144.213 1056.84 138.403 1056.84 Q132.593 1056.84 129.514 1052.26 Q126.459 1047.65 126.459 1038.92 Q126.459 1030.17 129.514 1025.59 Q132.593 1020.98 138.403 1020.98 Z\" fill=\"#000000\" fill-rule=\"evenodd\" fill-opacity=\"1\" /><path clip-path=\"url(#clip130)\" d=\"M100.649 949.75 L108.288 949.75 L108.288 923.384 L99.9774 925.051 L99.9774 920.792 L108.241 919.125 L112.917 919.125 L112.917 949.75 L120.556 949.75 L120.556 953.685 L100.649 953.685 L100.649 949.75 Z\" fill=\"#000000\" fill-rule=\"evenodd\" fill-opacity=\"1\" /><path clip-path=\"url(#clip130)\" d=\"M134.028 949.75 L150.347 949.75 L150.347 953.685 L128.403 953.685 L128.403 949.75 Q131.065 946.995 135.648 942.366 Q140.255 937.713 141.435 936.37 Q143.681 933.847 144.56 932.111 Q145.463 930.352 145.463 928.662 Q145.463 925.907 143.519 924.171 Q141.598 922.435 138.496 922.435 Q136.297 922.435 133.843 923.199 Q131.412 923.963 128.635 925.514 L128.635 920.792 Q131.459 919.657 133.912 919.079 Q136.366 918.5 138.403 918.5 Q143.773 918.5 146.968 921.185 Q150.162 923.87 150.162 928.361 Q150.162 930.491 149.352 932.412 Q148.565 934.31 146.459 936.903 Q145.88 937.574 142.778 940.792 Q139.676 943.986 134.028 949.75 Z\" fill=\"#000000\" fill-rule=\"evenodd\" fill-opacity=\"1\" /><path clip-path=\"url(#clip130)\" d=\"M39.4343 1162.88 Q45.8 1165.36 47.7416 1167.72 Q49.6831 1170.08 49.6831 1174.02 L49.6831 1178.7 L44.7815 1178.7 L44.7815 1175.26 Q44.7815 1172.84 43.6357 1171.51 Q42.4899 1170.17 38.2248 1168.55 L35.5512 1167.5 L0.4762 1181.92 L0.4762 1175.71 L28.358 1164.57 L0.4762 1153.43 L0.4762 1147.22 L39.4343 1162.88 Z\" fill=\"#000000\" fill-rule=\"evenodd\" fill-opacity=\"1\" /><path clip-path=\"url(#clip130)\" d=\"M10.5022 1118.83 Q11.4889 1114.22 14.6081 1111.64 Q17.7273 1109.03 22.3106 1109.03 Q29.3447 1109.03 33.1959 1113.87 Q37.0472 1118.7 37.0472 1127.62 Q37.0472 1130.61 36.4424 1133.79 Q35.8695 1136.94 34.6919 1140.32 L28.4853 1140.32 Q30.0449 1137.64 30.8406 1134.46 Q31.6363 1131.28 31.6363 1127.81 Q31.6363 1121.76 29.2492 1118.61 Q26.8621 1115.43 22.3106 1115.43 Q18.1092 1115.43 15.7539 1118.39 Q13.3668 1121.31 13.3668 1126.57 L13.3668 1132.1 L8.08322 1132.1 L8.08322 1126.31 Q8.08322 1121.57 6.20534 1119.05 Q4.29562 1116.54 0.730829 1116.54 Q-2.92945 1116.54 -4.87099 1119.15 Q-6.84436 1121.73 -6.84436 1126.57 Q-6.84436 1129.21 -6.27145 1132.23 Q-5.69854 1135.26 -4.48905 1138.88 L-10.2182 1138.88 Q-11.2367 1135.22 -11.746 1132.04 Q-12.2552 1128.83 -12.2552 1125.99 Q-12.2552 1118.67 -8.91322 1114.41 Q-5.60305 1110.14 0.0624294 1110.14 Q4.00917 1110.14 6.74642 1112.4 Q9.45185 1114.66 10.5022 1118.83 Z\" fill=\"#000000\" fill-rule=\"evenodd\" fill-opacity=\"1\" /><circle clip-path=\"url(#clip134)\" cx=\"756.045\" cy=\"1169.04\" r=\"14.4\" fill=\"#1b9e77\" fill-rule=\"evenodd\" fill-opacity=\"0.8\" stroke=\"#000000\" stroke-opacity=\"0.8\" stroke-width=\"3.2\"/>\n",
       "<circle clip-path=\"url(#clip134)\" cx=\"596.703\" cy=\"1204.4\" r=\"14.4\" fill=\"#1b9e77\" fill-rule=\"evenodd\" fill-opacity=\"0.8\" stroke=\"#000000\" stroke-opacity=\"0.8\" stroke-width=\"3.2\"/>\n",
       "<circle clip-path=\"url(#clip134)\" cx=\"995.058\" cy=\"898.486\" r=\"14.4\" fill=\"#1b9e77\" fill-rule=\"evenodd\" fill-opacity=\"0.8\" stroke=\"#000000\" stroke-opacity=\"0.8\" stroke-width=\"3.2\"/>\n",
       "<circle clip-path=\"url(#clip134)\" cx=\"676.374\" cy=\"1186.98\" r=\"14.4\" fill=\"#1b9e77\" fill-rule=\"evenodd\" fill-opacity=\"0.8\" stroke=\"#000000\" stroke-opacity=\"0.8\" stroke-width=\"3.2\"/>\n",
       "<circle clip-path=\"url(#clip134)\" cx=\"835.716\" cy=\"1151.11\" r=\"14.4\" fill=\"#1b9e77\" fill-rule=\"evenodd\" fill-opacity=\"0.8\" stroke=\"#000000\" stroke-opacity=\"0.8\" stroke-width=\"3.2\"/>\n",
       "<circle clip-path=\"url(#clip134)\" cx=\"1074.73\" cy=\"1098.33\" r=\"14.4\" fill=\"#1b9e77\" fill-rule=\"evenodd\" fill-opacity=\"0.8\" stroke=\"#000000\" stroke-opacity=\"0.8\" stroke-width=\"3.2\"/>\n",
       "<circle clip-path=\"url(#clip134)\" cx=\"437.361\" cy=\"1239.76\" r=\"14.4\" fill=\"#1b9e77\" fill-rule=\"evenodd\" fill-opacity=\"0.8\" stroke=\"#000000\" stroke-opacity=\"0.8\" stroke-width=\"3.2\"/>\n",
       "<circle clip-path=\"url(#clip134)\" cx=\"278.019\" cy=\"1275.11\" r=\"14.4\" fill=\"#1b9e77\" fill-rule=\"evenodd\" fill-opacity=\"0.8\" stroke=\"#000000\" stroke-opacity=\"0.8\" stroke-width=\"3.2\"/>\n",
       "<circle clip-path=\"url(#clip134)\" cx=\"915.387\" cy=\"1133.69\" r=\"14.4\" fill=\"#1b9e77\" fill-rule=\"evenodd\" fill-opacity=\"0.8\" stroke=\"#000000\" stroke-opacity=\"0.8\" stroke-width=\"3.2\"/>\n",
       "<circle clip-path=\"url(#clip134)\" cx=\"517.032\" cy=\"1222.33\" r=\"14.4\" fill=\"#1b9e77\" fill-rule=\"evenodd\" fill-opacity=\"0.8\" stroke=\"#000000\" stroke-opacity=\"0.8\" stroke-width=\"3.2\"/>\n",
       "<circle clip-path=\"url(#clip134)\" cx=\"357.69\" cy=\"1257.69\" r=\"14.4\" fill=\"#1b9e77\" fill-rule=\"evenodd\" fill-opacity=\"0.8\" stroke=\"#000000\" stroke-opacity=\"0.8\" stroke-width=\"3.2\"/>\n",
       "<polyline clip-path=\"url(#clip134)\" style=\"stroke:#1b9e77; stroke-linecap:round; stroke-linejoin:round; stroke-width:4; stroke-opacity:0.8; fill:none\" points=\"278.019,1295.03 1074.73,1038.96 \"/>\n",
       "<path clip-path=\"url(#clip130)\" d=\"M1798.35 1443.7 L3152.76 1443.7 L3152.76 847.244 L1798.35 847.244  Z\" fill=\"#ffffff\" fill-rule=\"evenodd\" fill-opacity=\"1\"/>\n",
       "<defs>\n",
       "  <clipPath id=\"clip135\">\n",
       "    <rect x=\"1798\" y=\"847\" width=\"1355\" height=\"597\"/>\n",
       "  </clipPath>\n",
       "</defs>\n",
       "<polyline clip-path=\"url(#clip135)\" style=\"stroke:#000000; stroke-linecap:round; stroke-linejoin:round; stroke-width:2; stroke-opacity:0.1; fill:none\" points=\"1957.69,1443.7 1957.69,847.244 \"/>\n",
       "<polyline clip-path=\"url(#clip135)\" style=\"stroke:#000000; stroke-linecap:round; stroke-linejoin:round; stroke-width:2; stroke-opacity:0.1; fill:none\" points=\"2356.05,1443.7 2356.05,847.244 \"/>\n",
       "<polyline clip-path=\"url(#clip135)\" style=\"stroke:#000000; stroke-linecap:round; stroke-linejoin:round; stroke-width:2; stroke-opacity:0.1; fill:none\" points=\"2754.4,1443.7 2754.4,847.244 \"/>\n",
       "<polyline clip-path=\"url(#clip135)\" style=\"stroke:#000000; stroke-linecap:round; stroke-linejoin:round; stroke-width:2; stroke-opacity:0.1; fill:none\" points=\"3152.76,1443.7 3152.76,847.244 \"/>\n",
       "<polyline clip-path=\"url(#clip130)\" style=\"stroke:#000000; stroke-linecap:round; stroke-linejoin:round; stroke-width:4; stroke-opacity:1; fill:none\" points=\"1798.35,1443.7 3152.76,1443.7 \"/>\n",
       "<polyline clip-path=\"url(#clip130)\" style=\"stroke:#000000; stroke-linecap:round; stroke-linejoin:round; stroke-width:4; stroke-opacity:1; fill:none\" points=\"1957.69,1443.7 1957.69,1424.8 \"/>\n",
       "<polyline clip-path=\"url(#clip130)\" style=\"stroke:#000000; stroke-linecap:round; stroke-linejoin:round; stroke-width:4; stroke-opacity:1; fill:none\" points=\"2356.05,1443.7 2356.05,1424.8 \"/>\n",
       "<polyline clip-path=\"url(#clip130)\" style=\"stroke:#000000; stroke-linecap:round; stroke-linejoin:round; stroke-width:4; stroke-opacity:1; fill:none\" points=\"2754.4,1443.7 2754.4,1424.8 \"/>\n",
       "<polyline clip-path=\"url(#clip130)\" style=\"stroke:#000000; stroke-linecap:round; stroke-linejoin:round; stroke-width:4; stroke-opacity:1; fill:none\" points=\"3152.76,1443.7 3152.76,1424.8 \"/>\n",
       "<path clip-path=\"url(#clip130)\" d=\"M1947.97 1477.94 L1966.32 1477.94 L1966.32 1481.88 L1952.25 1481.88 L1952.25 1490.35 Q1953.27 1490 1954.29 1489.84 Q1955.31 1489.65 1956.32 1489.65 Q1962.11 1489.65 1965.49 1492.82 Q1968.87 1496 1968.87 1501.41 Q1968.87 1506.99 1965.4 1510.09 Q1961.93 1513.17 1955.61 1513.17 Q1953.43 1513.17 1951.16 1512.8 Q1948.92 1512.43 1946.51 1511.69 L1946.51 1506.99 Q1948.59 1508.12 1950.81 1508.68 Q1953.04 1509.24 1955.51 1509.24 Q1959.52 1509.24 1961.86 1507.13 Q1964.19 1505.02 1964.19 1501.41 Q1964.19 1497.8 1961.86 1495.69 Q1959.52 1493.59 1955.51 1493.59 Q1953.64 1493.59 1951.76 1494 Q1949.91 1494.42 1947.97 1495.3 L1947.97 1477.94 Z\" fill=\"#000000\" fill-rule=\"evenodd\" fill-opacity=\"1\" /><path clip-path=\"url(#clip130)\" d=\"M2330.73 1508.56 L2338.37 1508.56 L2338.37 1482.2 L2330.06 1483.87 L2330.06 1479.61 L2338.33 1477.94 L2343 1477.94 L2343 1508.56 L2350.64 1508.56 L2350.64 1512.5 L2330.73 1512.5 L2330.73 1508.56 Z\" fill=\"#000000\" fill-rule=\"evenodd\" fill-opacity=\"1\" /><path clip-path=\"url(#clip130)\" d=\"M2370.08 1481.02 Q2366.47 1481.02 2364.64 1484.58 Q2362.84 1488.12 2362.84 1495.25 Q2362.84 1502.36 2364.64 1505.93 Q2366.47 1509.47 2370.08 1509.47 Q2373.72 1509.47 2375.52 1505.93 Q2377.35 1502.36 2377.35 1495.25 Q2377.35 1488.12 2375.52 1484.58 Q2373.72 1481.02 2370.08 1481.02 M2370.08 1477.31 Q2375.89 1477.31 2378.95 1481.92 Q2382.03 1486.5 2382.03 1495.25 Q2382.03 1503.98 2378.95 1508.59 Q2375.89 1513.17 2370.08 1513.17 Q2364.27 1513.17 2361.2 1508.59 Q2358.14 1503.98 2358.14 1495.25 Q2358.14 1486.5 2361.2 1481.92 Q2364.27 1477.31 2370.08 1477.31 Z\" fill=\"#000000\" fill-rule=\"evenodd\" fill-opacity=\"1\" /><path clip-path=\"url(#clip130)\" d=\"M2729.59 1508.56 L2737.22 1508.56 L2737.22 1482.2 L2728.91 1483.87 L2728.91 1479.61 L2737.18 1477.94 L2741.85 1477.94 L2741.85 1508.56 L2749.49 1508.56 L2749.49 1512.5 L2729.59 1512.5 L2729.59 1508.56 Z\" fill=\"#000000\" fill-rule=\"evenodd\" fill-opacity=\"1\" /><path clip-path=\"url(#clip130)\" d=\"M2758.98 1477.94 L2777.34 1477.94 L2777.34 1481.88 L2763.27 1481.88 L2763.27 1490.35 Q2764.28 1490 2765.3 1489.84 Q2766.32 1489.65 2767.34 1489.65 Q2773.13 1489.65 2776.51 1492.82 Q2779.89 1496 2779.89 1501.41 Q2779.89 1506.99 2776.41 1510.09 Q2772.94 1513.17 2766.62 1513.17 Q2764.45 1513.17 2762.18 1512.8 Q2759.93 1512.43 2757.53 1511.69 L2757.53 1506.99 Q2759.61 1508.12 2761.83 1508.68 Q2764.05 1509.24 2766.53 1509.24 Q2770.53 1509.24 2772.87 1507.13 Q2775.21 1505.02 2775.21 1501.41 Q2775.21 1497.8 2772.87 1495.69 Q2770.53 1493.59 2766.53 1493.59 Q2764.66 1493.59 2762.78 1494 Q2760.93 1494.42 2758.98 1495.3 L2758.98 1477.94 Z\" fill=\"#000000\" fill-rule=\"evenodd\" fill-opacity=\"1\" /><path clip-path=\"url(#clip130)\" d=\"M3131.53 1508.56 L3147.85 1508.56 L3147.85 1512.5 L3125.9 1512.5 L3125.9 1508.56 Q3128.57 1505.81 3133.15 1501.18 Q3137.76 1496.53 3138.94 1495.19 Q3141.18 1492.66 3142.06 1490.93 Q3142.96 1489.17 3142.96 1487.48 Q3142.96 1484.72 3141.02 1482.99 Q3139.1 1481.25 3136 1481.25 Q3133.8 1481.25 3131.34 1482.01 Q3128.91 1482.78 3126.14 1484.33 L3126.14 1479.61 Q3128.96 1478.47 3131.41 1477.89 Q3133.87 1477.31 3135.9 1477.31 Q3141.27 1477.31 3144.47 1480 Q3147.66 1482.69 3147.66 1487.18 Q3147.66 1489.31 3146.85 1491.23 Q3146.07 1493.12 3143.96 1495.72 Q3143.38 1496.39 3140.28 1499.61 Q3137.18 1502.8 3131.53 1508.56 Z\" fill=\"#000000\" fill-rule=\"evenodd\" fill-opacity=\"1\" /><path clip-path=\"url(#clip130)\" d=\"M3167.66 1481.02 Q3164.05 1481.02 3162.22 1484.58 Q3160.42 1488.12 3160.42 1495.25 Q3160.42 1502.36 3162.22 1505.93 Q3164.05 1509.47 3167.66 1509.47 Q3171.3 1509.47 3173.1 1505.93 Q3174.93 1502.36 3174.93 1495.25 Q3174.93 1488.12 3173.1 1484.58 Q3171.3 1481.02 3167.66 1481.02 M3167.66 1477.31 Q3173.47 1477.31 3176.53 1481.92 Q3179.61 1486.5 3179.61 1495.25 Q3179.61 1503.98 3176.53 1508.59 Q3173.47 1513.17 3167.66 1513.17 Q3161.85 1513.17 3158.77 1508.59 Q3155.72 1503.98 3155.72 1495.25 Q3155.72 1486.5 3158.77 1481.92 Q3161.85 1477.31 3167.66 1477.31 Z\" fill=\"#000000\" fill-rule=\"evenodd\" fill-opacity=\"1\" /><path clip-path=\"url(#clip130)\" d=\"M2472.19 1564.92 L2459.3 1582.26 L2472.86 1600.56 L2465.96 1600.56 L2455.58 1586.56 L2445.2 1600.56 L2438.3 1600.56 L2452.14 1581.91 L2439.47 1564.92 L2446.38 1564.92 L2455.83 1577.62 L2465.29 1564.92 L2472.19 1564.92 Z\" fill=\"#000000\" fill-rule=\"evenodd\" fill-opacity=\"1\" /><path clip-path=\"url(#clip130)\" d=\"M2499.63 1558.65 L2483.4 1584.01 L2499.63 1584.01 L2499.63 1558.65 M2497.94 1553.04 L2506.03 1553.04 L2506.03 1584.01 L2512.81 1584.01 L2512.81 1589.36 L2506.03 1589.36 L2506.03 1600.56 L2499.63 1600.56 L2499.63 1589.36 L2478.18 1589.36 L2478.18 1583.15 L2497.94 1553.04 Z\" fill=\"#000000\" fill-rule=\"evenodd\" fill-opacity=\"1\" /><polyline clip-path=\"url(#clip135)\" style=\"stroke:#000000; stroke-linecap:round; stroke-linejoin:round; stroke-width:2; stroke-opacity:0.1; fill:none\" points=\"1798.35,1346.34 3152.76,1346.34 \"/>\n",
       "<polyline clip-path=\"url(#clip135)\" style=\"stroke:#000000; stroke-linecap:round; stroke-linejoin:round; stroke-width:2; stroke-opacity:0.1; fill:none\" points=\"1798.35,1243.86 3152.76,1243.86 \"/>\n",
       "<polyline clip-path=\"url(#clip135)\" style=\"stroke:#000000; stroke-linecap:round; stroke-linejoin:round; stroke-width:2; stroke-opacity:0.1; fill:none\" points=\"1798.35,1141.37 3152.76,1141.37 \"/>\n",
       "<polyline clip-path=\"url(#clip135)\" style=\"stroke:#000000; stroke-linecap:round; stroke-linejoin:round; stroke-width:2; stroke-opacity:0.1; fill:none\" points=\"1798.35,1038.89 3152.76,1038.89 \"/>\n",
       "<polyline clip-path=\"url(#clip135)\" style=\"stroke:#000000; stroke-linecap:round; stroke-linejoin:round; stroke-width:2; stroke-opacity:0.1; fill:none\" points=\"1798.35,936.405 3152.76,936.405 \"/>\n",
       "<polyline clip-path=\"url(#clip130)\" style=\"stroke:#000000; stroke-linecap:round; stroke-linejoin:round; stroke-width:4; stroke-opacity:1; fill:none\" points=\"1798.35,1443.7 1798.35,847.244 \"/>\n",
       "<polyline clip-path=\"url(#clip130)\" style=\"stroke:#000000; stroke-linecap:round; stroke-linejoin:round; stroke-width:4; stroke-opacity:1; fill:none\" points=\"1798.35,1346.34 1817.25,1346.34 \"/>\n",
       "<polyline clip-path=\"url(#clip130)\" style=\"stroke:#000000; stroke-linecap:round; stroke-linejoin:round; stroke-width:4; stroke-opacity:1; fill:none\" points=\"1798.35,1243.86 1817.25,1243.86 \"/>\n",
       "<polyline clip-path=\"url(#clip130)\" style=\"stroke:#000000; stroke-linecap:round; stroke-linejoin:round; stroke-width:4; stroke-opacity:1; fill:none\" points=\"1798.35,1141.37 1817.25,1141.37 \"/>\n",
       "<polyline clip-path=\"url(#clip130)\" style=\"stroke:#000000; stroke-linecap:round; stroke-linejoin:round; stroke-width:4; stroke-opacity:1; fill:none\" points=\"1798.35,1038.89 1817.25,1038.89 \"/>\n",
       "<polyline clip-path=\"url(#clip130)\" style=\"stroke:#000000; stroke-linecap:round; stroke-linejoin:round; stroke-width:4; stroke-opacity:1; fill:none\" points=\"1798.35,936.405 1817.25,936.405 \"/>\n",
       "<path clip-path=\"url(#clip130)\" d=\"M1740.76 1333.13 L1728.96 1351.58 L1740.76 1351.58 L1740.76 1333.13 M1739.54 1329.06 L1745.42 1329.06 L1745.42 1351.58 L1750.35 1351.58 L1750.35 1355.47 L1745.42 1355.47 L1745.42 1363.62 L1740.76 1363.62 L1740.76 1355.47 L1725.16 1355.47 L1725.16 1350.96 L1739.54 1329.06 Z\" fill=\"#000000\" fill-rule=\"evenodd\" fill-opacity=\"1\" /><path clip-path=\"url(#clip130)\" d=\"M1738.82 1241.99 Q1735.67 1241.99 1733.82 1244.15 Q1731.99 1246.3 1731.99 1250.05 Q1731.99 1253.78 1733.82 1255.95 Q1735.67 1258.1 1738.82 1258.1 Q1741.97 1258.1 1743.8 1255.95 Q1745.65 1253.78 1745.65 1250.05 Q1745.65 1246.3 1743.8 1244.15 Q1741.97 1241.99 1738.82 1241.99 M1748.1 1227.34 L1748.1 1231.6 Q1746.34 1230.77 1744.54 1230.33 Q1742.75 1229.89 1741 1229.89 Q1736.37 1229.89 1733.91 1233.01 Q1731.48 1236.14 1731.13 1242.46 Q1732.5 1240.44 1734.56 1239.38 Q1736.62 1238.29 1739.1 1238.29 Q1744.31 1238.29 1747.32 1241.46 Q1750.35 1244.61 1750.35 1250.05 Q1750.35 1255.37 1747.2 1258.59 Q1744.05 1261.81 1738.82 1261.81 Q1732.82 1261.81 1729.65 1257.22 Q1726.48 1252.62 1726.48 1243.89 Q1726.48 1235.7 1730.37 1230.84 Q1734.26 1225.95 1740.81 1225.95 Q1742.57 1225.95 1744.35 1226.3 Q1746.16 1226.65 1748.1 1227.34 Z\" fill=\"#000000\" fill-rule=\"evenodd\" fill-opacity=\"1\" /><path clip-path=\"url(#clip130)\" d=\"M1738.5 1142.24 Q1735.16 1142.24 1733.24 1144.02 Q1731.34 1145.81 1731.34 1148.93 Q1731.34 1152.06 1733.24 1153.84 Q1735.16 1155.62 1738.5 1155.62 Q1741.83 1155.62 1743.75 1153.84 Q1745.67 1152.03 1745.67 1148.93 Q1745.67 1145.81 1743.75 1144.02 Q1741.85 1142.24 1738.5 1142.24 M1733.82 1140.25 Q1730.81 1139.51 1729.12 1137.45 Q1727.45 1135.39 1727.45 1132.43 Q1727.45 1128.28 1730.39 1125.88 Q1733.36 1123.47 1738.5 1123.47 Q1743.66 1123.47 1746.6 1125.88 Q1749.54 1128.28 1749.54 1132.43 Q1749.54 1135.39 1747.85 1137.45 Q1746.18 1139.51 1743.19 1140.25 Q1746.57 1141.04 1748.45 1143.33 Q1750.35 1145.62 1750.35 1148.93 Q1750.35 1153.95 1747.27 1156.64 Q1744.21 1159.32 1738.5 1159.32 Q1732.78 1159.32 1729.7 1156.64 Q1726.64 1153.95 1726.64 1148.93 Q1726.64 1145.62 1728.54 1143.33 Q1730.44 1141.04 1733.82 1140.25 M1732.11 1132.87 Q1732.11 1135.55 1733.77 1137.06 Q1735.46 1138.56 1738.5 1138.56 Q1741.5 1138.56 1743.19 1137.06 Q1744.91 1135.55 1744.91 1132.87 Q1744.91 1130.18 1743.19 1128.68 Q1741.5 1127.17 1738.5 1127.17 Q1735.46 1127.17 1733.77 1128.68 Q1732.11 1130.18 1732.11 1132.87 Z\" fill=\"#000000\" fill-rule=\"evenodd\" fill-opacity=\"1\" /><path clip-path=\"url(#clip130)\" d=\"M1699.05 1052.23 L1706.69 1052.23 L1706.69 1025.87 L1698.38 1027.53 L1698.38 1023.28 L1706.64 1021.61 L1711.32 1021.61 L1711.32 1052.23 L1718.96 1052.23 L1718.96 1056.17 L1699.05 1056.17 L1699.05 1052.23 Z\" fill=\"#000000\" fill-rule=\"evenodd\" fill-opacity=\"1\" /><path clip-path=\"url(#clip130)\" d=\"M1738.4 1024.69 Q1734.79 1024.69 1732.96 1028.25 Q1731.16 1031.79 1731.16 1038.92 Q1731.16 1046.03 1732.96 1049.59 Q1734.79 1053.14 1738.4 1053.14 Q1742.04 1053.14 1743.84 1049.59 Q1745.67 1046.03 1745.67 1038.92 Q1745.67 1031.79 1743.84 1028.25 Q1742.04 1024.69 1738.4 1024.69 M1738.4 1020.98 Q1744.21 1020.98 1747.27 1025.59 Q1750.35 1030.17 1750.35 1038.92 Q1750.35 1047.65 1747.27 1052.26 Q1744.21 1056.84 1738.4 1056.84 Q1732.59 1056.84 1729.51 1052.26 Q1726.46 1047.65 1726.46 1038.92 Q1726.46 1030.17 1729.51 1025.59 Q1732.59 1020.98 1738.4 1020.98 Z\" fill=\"#000000\" fill-rule=\"evenodd\" fill-opacity=\"1\" /><path clip-path=\"url(#clip130)\" d=\"M1700.65 949.75 L1708.29 949.75 L1708.29 923.384 L1699.98 925.051 L1699.98 920.792 L1708.24 919.125 L1712.92 919.125 L1712.92 949.75 L1720.56 949.75 L1720.56 953.685 L1700.65 953.685 L1700.65 949.75 Z\" fill=\"#000000\" fill-rule=\"evenodd\" fill-opacity=\"1\" /><path clip-path=\"url(#clip130)\" d=\"M1734.03 949.75 L1750.35 949.75 L1750.35 953.685 L1728.4 953.685 L1728.4 949.75 Q1731.07 946.995 1735.65 942.366 Q1740.25 937.713 1741.44 936.37 Q1743.68 933.847 1744.56 932.111 Q1745.46 930.352 1745.46 928.662 Q1745.46 925.907 1743.52 924.171 Q1741.6 922.435 1738.5 922.435 Q1736.3 922.435 1733.84 923.199 Q1731.41 923.963 1728.63 925.514 L1728.63 920.792 Q1731.46 919.657 1733.91 919.079 Q1736.37 918.5 1738.4 918.5 Q1743.77 918.5 1746.97 921.185 Q1750.16 923.87 1750.16 928.361 Q1750.16 930.491 1749.35 932.412 Q1748.57 934.31 1746.46 936.903 Q1745.88 937.574 1742.78 940.792 Q1739.68 943.986 1734.03 949.75 Z\" fill=\"#000000\" fill-rule=\"evenodd\" fill-opacity=\"1\" /><path clip-path=\"url(#clip130)\" d=\"M1639.43 1163.66 Q1645.8 1166.14 1647.74 1168.5 Q1649.68 1170.86 1649.68 1174.8 L1649.68 1179.48 L1644.78 1179.48 L1644.78 1176.04 Q1644.78 1173.62 1643.64 1172.29 Q1642.49 1170.95 1638.22 1169.33 L1635.55 1168.28 L1600.48 1182.7 L1600.48 1176.49 L1628.36 1165.35 L1600.48 1154.21 L1600.48 1148 L1639.43 1163.66 Z\" fill=\"#000000\" fill-rule=\"evenodd\" fill-opacity=\"1\" /><path clip-path=\"url(#clip130)\" d=\"M1594.21 1121.43 L1619.57 1137.66 L1619.57 1121.43 L1594.21 1121.43 M1588.6 1123.11 L1588.6 1115.03 L1619.57 1115.03 L1619.57 1108.25 L1624.92 1108.25 L1624.92 1115.03 L1636.12 1115.03 L1636.12 1121.43 L1624.92 1121.43 L1624.92 1142.88 L1618.71 1142.88 L1588.6 1123.11 Z\" fill=\"#000000\" fill-rule=\"evenodd\" fill-opacity=\"1\" /><circle clip-path=\"url(#clip135)\" cx=\"2196.7\" cy=\"1214.14\" r=\"14.4\" fill=\"#1b9e77\" fill-rule=\"evenodd\" fill-opacity=\"0.8\" stroke=\"#000000\" stroke-opacity=\"0.8\" stroke-width=\"3.2\"/>\n",
       "<circle clip-path=\"url(#clip135)\" cx=\"2196.7\" cy=\"1256.15\" r=\"14.4\" fill=\"#1b9e77\" fill-rule=\"evenodd\" fill-opacity=\"0.8\" stroke=\"#000000\" stroke-opacity=\"0.8\" stroke-width=\"3.2\"/>\n",
       "<circle clip-path=\"url(#clip135)\" cx=\"2196.7\" cy=\"1156.23\" r=\"14.4\" fill=\"#1b9e77\" fill-rule=\"evenodd\" fill-opacity=\"0.8\" stroke=\"#000000\" stroke-opacity=\"0.8\" stroke-width=\"3.2\"/>\n",
       "<circle clip-path=\"url(#clip135)\" cx=\"2196.7\" cy=\"1098.33\" r=\"14.4\" fill=\"#1b9e77\" fill-rule=\"evenodd\" fill-opacity=\"0.8\" stroke=\"#000000\" stroke-opacity=\"0.8\" stroke-width=\"3.2\"/>\n",
       "<circle clip-path=\"url(#clip135)\" cx=\"2196.7\" cy=\"1117.29\" r=\"14.4\" fill=\"#1b9e77\" fill-rule=\"evenodd\" fill-opacity=\"0.8\" stroke=\"#000000\" stroke-opacity=\"0.8\" stroke-width=\"3.2\"/>\n",
       "<circle clip-path=\"url(#clip135)\" cx=\"2196.7\" cy=\"1190.56\" r=\"14.4\" fill=\"#1b9e77\" fill-rule=\"evenodd\" fill-opacity=\"0.8\" stroke=\"#000000\" stroke-opacity=\"0.8\" stroke-width=\"3.2\"/>\n",
       "<circle clip-path=\"url(#clip135)\" cx=\"2196.7\" cy=\"1282.29\" r=\"14.4\" fill=\"#1b9e77\" fill-rule=\"evenodd\" fill-opacity=\"0.8\" stroke=\"#000000\" stroke-opacity=\"0.8\" stroke-width=\"3.2\"/>\n",
       "<circle clip-path=\"url(#clip135)\" cx=\"3073.08\" cy=\"910.784\" r=\"14.4\" fill=\"#1b9e77\" fill-rule=\"evenodd\" fill-opacity=\"0.8\" stroke=\"#000000\" stroke-opacity=\"0.8\" stroke-width=\"3.2\"/>\n",
       "<circle clip-path=\"url(#clip135)\" cx=\"2196.7\" cy=\"1266.4\" r=\"14.4\" fill=\"#1b9e77\" fill-rule=\"evenodd\" fill-opacity=\"0.8\" stroke=\"#000000\" stroke-opacity=\"0.8\" stroke-width=\"3.2\"/>\n",
       "<circle clip-path=\"url(#clip135)\" cx=\"2196.7\" cy=\"1145.98\" r=\"14.4\" fill=\"#1b9e77\" fill-rule=\"evenodd\" fill-opacity=\"0.8\" stroke=\"#000000\" stroke-opacity=\"0.8\" stroke-width=\"3.2\"/>\n",
       "<circle clip-path=\"url(#clip135)\" cx=\"2196.7\" cy=\"1198.25\" r=\"14.4\" fill=\"#1b9e77\" fill-rule=\"evenodd\" fill-opacity=\"0.8\" stroke=\"#000000\" stroke-opacity=\"0.8\" stroke-width=\"3.2\"/>\n",
       "<polyline clip-path=\"url(#clip135)\" style=\"stroke:#1b9e77; stroke-linecap:round; stroke-linejoin:round; stroke-width:4; stroke-opacity:0.8; fill:none\" points=\"2196.7,1192.56 3073.08,910.784 \"/>\n",
       "</svg>\n"
      ]
     },
     "execution_count": 13,
     "metadata": {},
     "output_type": "execute_result"
    }
   ],
   "source": [
    "# Plot V2\n",
    "\n",
    "plot_array = Any[]\n",
    "\n",
    "for i in 1:4    \n",
    "    x_vals = df[:, \"x$i\"]\n",
    "    y_vals = df[:, \"y$i\"]\n",
    "    \n",
    "    p = plot( x_vals, y_vals, \n",
    "              seriestype=:scatter, \n",
    "              xlabel=\"x$i\", ylabel=\"y$i\",\n",
    "              xlims=xlim, ylims=ylim, \n",
    "              smooth=true,\n",
    "              opacity=0.8, palette = :Dark2_5, \n",
    "            ) \n",
    "    \n",
    "    push!(plot_array, p)\n",
    "end\n",
    "\n",
    "plot(plot_array..., layout = (2, 2), legend = false, size = (800, 400))"
   ]
  },
  {
   "cell_type": "code",
   "execution_count": null,
   "id": "d2de2a3e-e241-4107-bffa-8cb602306d5a",
   "metadata": {},
   "outputs": [],
   "source": []
  }
 ],
 "metadata": {
  "kernelspec": {
   "display_name": "Julia 1.8.5",
   "language": "julia",
   "name": "julia-1.8"
  },
  "language_info": {
   "file_extension": ".jl",
   "mimetype": "application/julia",
   "name": "julia",
   "version": "1.8.5"
  }
 },
 "nbformat": 4,
 "nbformat_minor": 5
}
