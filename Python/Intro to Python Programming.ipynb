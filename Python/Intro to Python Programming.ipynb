{
 "cells":[
  {
   "cell_type":"markdown",
   "source":[
    "# Intro to Python Programming"
   ],
   "attachments":{
    
   },
   "metadata":{
    "datalore":{
     "node_id":"vJHGSeGOcpKTYCod0g7arP",
     "type":"MD",
     "hide_input_from_viewers":false,
     "hide_output_from_viewers":false
    }
   }
  },
  {
   "cell_type":"code",
   "source":[
    "# test\n",
    "print(1+1)\n",
    "print(2*2)\n",
    "print()\n",
    "print(10\/3)\n",
    "print(10\/\/3) #floor division\n",
    "print()\n",
    "print(5**4)"
   ],
   "execution_count":2,
   "outputs":[
    {
     "name":"stdout",
     "text":[
      "2\n",
      "4\n",
      "\n",
      "3.3333333333333335\n",
      "3\n",
      "\n",
      "625\n"
     ],
     "output_type":"stream"
    }
   ],
   "metadata":{
    "datalore":{
     "node_id":"sovYX6GsPbUHuFuspm80tF",
     "type":"CODE",
     "hide_input_from_viewers":false,
     "hide_output_from_viewers":false
    }
   }
  },
  {
   "cell_type":"markdown",
   "source":[
    "# Core concepts\n",
    "- variable\n",
    "- data types\n",
    "- data structures\n",
    "- function\n",
    "- control flow"
   ],
   "attachments":{
    
   },
   "metadata":{
    "datalore":{
     "node_id":"9uffYcQDYVmFlmLtNJUUEq",
     "type":"MD",
     "hide_input_from_viewers":false,
     "hide_output_from_viewers":false
    }
   }
  },
  {
   "cell_type":"code",
   "source":[
    "# type\n",
    "x=32\n",
    "type(x)"
   ],
   "execution_count":5,
   "outputs":[
    {
     "data":{
      "text\/plain":[
       "int"
      ]
     },
     "metadata":{
      
     },
     "output_type":"display_data"
    }
   ],
   "metadata":{
    "datalore":{
     "node_id":"RMswTv6OOS7cIS0aHmGsPR",
     "type":"CODE",
     "hide_input_from_viewers":false,
     "hide_output_from_viewers":false
    }
   }
  },
  {
   "cell_type":"markdown",
   "source":[
    "# Data types\n",
    "- int\n",
    "- float\n",
    "- str\n",
    "- bool"
   ],
   "attachments":{
    
   },
   "metadata":{
    "datalore":{
     "node_id":"nQd6AvXIfp9umqV2OUlxjX",
     "type":"MD",
     "hide_input_from_viewers":false,
     "hide_output_from_viewers":false
    }
   }
  },
  {
   "cell_type":"code",
   "source":[
    "x=\"100\"\n",
    "x=int(x)\n",
    "print(x, type(x))"
   ],
   "execution_count":6,
   "outputs":[
    {
     "name":"stdout",
     "text":[
      "100 <class 'int'>\n"
     ],
     "output_type":"stream"
    }
   ],
   "metadata":{
    "datalore":{
     "node_id":"KsZyou1Oc0c4Quu2QbyuXE",
     "type":"CODE",
     "hide_input_from_viewers":false,
     "hide_output_from_viewers":false
    }
   }
  },
  {
   "cell_type":"markdown",
   "source":[
    "# Type hint"
   ],
   "attachments":{
    
   },
   "metadata":{
    "datalore":{
     "node_id":"pNyyUwgDFMILOWjbHrDYci",
     "type":"MD",
     "hide_input_from_viewers":false,
     "hide_output_from_viewers":false
    }
   }
  },
  {
   "cell_type":"code",
   "source":[
    "name: str=\"Feem\"\n",
    "print(name)"
   ],
   "execution_count":7,
   "outputs":[
    {
     "name":"stdout",
     "text":[
      "Feem\n"
     ],
     "output_type":"stream"
    }
   ],
   "metadata":{
    "datalore":{
     "node_id":"NE35mXaSUPqaksIV5DM0gh",
     "type":"CODE",
     "hide_input_from_viewers":false,
     "hide_output_from_viewers":false
    }
   }
  },
  {
   "cell_type":"code",
   "source":[
    "gpa: float =3.45\n",
    "print(gpa)  "
   ],
   "execution_count":8,
   "outputs":[
    {
     "name":"stdout",
     "text":[
      "3.45\n"
     ],
     "output_type":"stream"
    }
   ],
   "metadata":{
    "datalore":{
     "node_id":"ZGYDCsbeg96Bgddbe8Y1jY",
     "type":"CODE",
     "hide_input_from_viewers":false,
     "hide_output_from_viewers":false
    }
   }
  },
  {
   "cell_type":"markdown",
   "source":[
    "# String Method"
   ],
   "attachments":{
    
   },
   "metadata":{
    "datalore":{
     "node_id":"iNENV8kkN40SYdbTYeTUfp",
     "type":"MD",
     "hide_input_from_viewers":false,
     "hide_output_from_viewers":false
    }
   }
  },
  {
   "cell_type":"code",
   "source":[
    "text= \"a duck walks into a bar\""
   ],
   "execution_count":10,
   "outputs":[
    
   ],
   "metadata":{
    "datalore":{
     "node_id":"Pue3fnAQ7nmL7TPGf6hhNU",
     "type":"CODE",
     "hide_input_from_viewers":false,
     "hide_output_from_viewers":false
    }
   }
  },
  {
   "cell_type":"code",
   "source":[
    "text.upper()"
   ],
   "execution_count":11,
   "outputs":[
    {
     "data":{
      "text\/plain":[
       "'A DUCK WALKS INTO A BAR'"
      ]
     },
     "metadata":{
      
     },
     "output_type":"display_data"
    }
   ],
   "metadata":{
    "datalore":{
     "node_id":"S4IoTM8seMWiwIqvrjY5WJ",
     "type":"CODE",
     "hide_input_from_viewers":false,
     "hide_output_from_viewers":false
    }
   }
  },
  {
   "cell_type":"code",
   "source":[
    "text.replace('duck','lion')                                                                                                                          "
   ],
   "execution_count":14,
   "outputs":[
    {
     "data":{
      "text\/plain":[
       "'a lion walks into a bar'"
      ]
     },
     "metadata":{
      
     },
     "output_type":"display_data"
    }
   ],
   "metadata":{
    "datalore":{
     "node_id":"R3srPLkS1ttqZuxvRkjiOS",
     "type":"CODE",
     "hide_input_from_viewers":false,
     "hide_output_from_viewers":false
    }
   }
  },
  {
   "cell_type":"code",
   "source":[
    "text.count(\" \")"
   ],
   "execution_count":15,
   "outputs":[
    {
     "data":{
      "text\/plain":[
       "5"
      ]
     },
     "metadata":{
      
     },
     "output_type":"display_data"
    }
   ],
   "metadata":{
    "datalore":{
     "node_id":"vcS25Rq7ONgB8EsdpuVbx7",
     "type":"CODE",
     "hide_input_from_viewers":false,
     "hide_output_from_viewers":false
    }
   }
  },
  {
   "cell_type":"code",
   "source":[
    " # number of char without whitespace\n",
    " len(text)-text.count(\" \")"
   ],
   "execution_count":16,
   "outputs":[
    {
     "data":{
      "text\/plain":[
       "18"
      ]
     },
     "metadata":{
      
     },
     "output_type":"display_data"
    }
   ],
   "metadata":{
    "datalore":{
     "node_id":"pF9p1SyXBWA5VWYDF0DvyO",
     "type":"CODE",
     "hide_input_from_viewers":false,
     "hide_output_from_viewers":false
    }
   }
  },
  {
   "cell_type":"code",
   "source":[
    "text_2=text.title\n",
    "print(text_2)"
   ],
   "execution_count":19,
   "outputs":[
    {
     "name":"stdout",
     "text":[
      "<built-in method title of str object at 0x7f50197654e0>\n"
     ],
     "output_type":"stream"
    }
   ],
   "metadata":{
    "datalore":{
     "node_id":"hiNJHXZgnf8A0iE4RUxSbB",
     "type":"CODE",
     "hide_input_from_viewers":false,
     "hide_output_from_viewers":false
    }
   }
  },
  {
   "cell_type":"code",
   "source":[
    "list_of_words= text.split(\" \")"
   ],
   "execution_count":20,
   "outputs":[
    
   ],
   "metadata":{
    "datalore":{
     "node_id":"djbns5PrCenojdp1X1SSif",
     "type":"CODE",
     "hide_input_from_viewers":false,
     "hide_output_from_viewers":false
    }
   }
  },
  {
   "cell_type":"code",
   "source":[
    "print(list_of_words)"
   ],
   "execution_count":21,
   "outputs":[
    {
     "name":"stdout",
     "text":[
      "['a', 'duck', 'walks', 'into', 'a', 'bar']\n"
     ],
     "output_type":"stream"
    }
   ],
   "metadata":{
    "datalore":{
     "node_id":"HpIamCMWsaiOIZl30GGtLy",
     "type":"CODE",
     "hide_input_from_viewers":false,
     "hide_output_from_viewers":false
    }
   }
  },
  {
   "cell_type":"code",
   "source":[
    "sentence=\"-\".join(list_of_words)"
   ],
   "execution_count":22,
   "outputs":[
    
   ],
   "metadata":{
    "datalore":{
     "node_id":"6LsAADVt9KqR37XNg3n6uY",
     "type":"CODE",
     "hide_input_from_viewers":false,
     "hide_output_from_viewers":false
    }
   }
  },
  {
   "cell_type":"code",
   "source":[
    "print(sentence)"
   ],
   "execution_count":23,
   "outputs":[
    {
     "name":"stdout",
     "text":[
      "a-duck-walks-into-a-bar\n"
     ],
     "output_type":"stream"
    }
   ],
   "metadata":{
    "datalore":{
     "node_id":"tapzqA3LSk9ADqbvTQzL91",
     "type":"CODE",
     "hide_input_from_viewers":false,
     "hide_output_from_viewers":false
    }
   }
  },
  {
   "cell_type":"code",
   "source":[
    "# Slicing information\n",
    "word=\"hello world\"\n",
    "word[0:3]+word[-1]"
   ],
   "execution_count":25,
   "outputs":[
    {
     "data":{
      "text\/plain":[
       "'held'"
      ]
     },
     "metadata":{
      
     },
     "output_type":"display_data"
    }
   ],
   "metadata":{
    "datalore":{
     "node_id":"ui9KjDdmkR05d3VfDj6AkF",
     "type":"CODE",
     "hide_input_from_viewers":false,
     "hide_output_from_viewers":false
    }
   }
  },
  {
   "cell_type":"code",
   "source":[
    "word.split(\" \")[1]"
   ],
   "execution_count":27,
   "outputs":[
    {
     "data":{
      "text\/plain":[
       "'world'"
      ]
     },
     "metadata":{
      
     },
     "output_type":"display_data"
    }
   ],
   "metadata":{
    "datalore":{
     "node_id":"GBqTj7WfkJ2MGkYxoMI5P4",
     "type":"CODE",
     "hide_input_from_viewers":false,
     "hide_output_from_viewers":false
    }
   }
  },
  {
   "cell_type":"code",
   "source":[
    "programming =\"Python\" # immutable\n",
    "cython =\"C\"+programming[1:]\n",
    "print(cython)"
   ],
   "execution_count":29,
   "outputs":[
    {
     "name":"stdout",
     "text":[
      "Cython\n"
     ],
     "output_type":"stream"
    }
   ],
   "metadata":{
    "datalore":{
     "node_id":"btljRBPmrFesYSqMPPu4se",
     "type":"CODE",
     "hide_input_from_viewers":false,
     "hide_output_from_viewers":false
    }
   }
  },
  {
   "cell_type":"markdown",
   "source":[
    "# Data structures\n",
    "- list []\n",
    "- tuple ()\n",
    "- dictionary {key: value}\n",
    "- set {}"
   ],
   "attachments":{
    
   },
   "metadata":{
    "datalore":{
     "node_id":"9vzeZP8oRgDb4Pp0zluFi8",
     "type":"MD",
     "hide_input_from_viewers":false,
     "hide_output_from_viewers":false
    }
   }
  },
  {
   "cell_type":"code",
   "source":[
    "shopping_items =['egg','milk','bread','noodle']"
   ],
   "execution_count":30,
   "outputs":[
    
   ],
   "metadata":{
    "datalore":{
     "node_id":"RnM07ZtUy5eU875fTJwwZ1",
     "type":"CODE",
     "hide_input_from_viewers":false,
     "hide_output_from_viewers":false
    }
   }
  },
  {
   "cell_type":"code",
   "source":[
    "shopping_items[0:3]"
   ],
   "execution_count":31,
   "outputs":[
    {
     "data":{
      "text\/plain":[
       "['egg', 'milk', 'bread']"
      ]
     },
     "metadata":{
      
     },
     "output_type":"display_data"
    }
   ],
   "metadata":{
    "datalore":{
     "node_id":"fakVpdYaEBzE8zORxzOjtK",
     "type":"CODE",
     "hide_input_from_viewers":false,
     "hide_output_from_viewers":false
    }
   }
  },
  {
   "cell_type":"code",
   "source":[
    "shopping_items[0]='banana'"
   ],
   "execution_count":32,
   "outputs":[
    
   ],
   "metadata":{
    "datalore":{
     "node_id":"09dJB6ieWNEpAawPDW8ItY",
     "type":"CODE",
     "hide_input_from_viewers":false,
     "hide_output_from_viewers":false
    }
   }
  },
  {
   "cell_type":"code",
   "source":[
    "print(shopping_items)"
   ],
   "execution_count":33,
   "outputs":[
    {
     "name":"stdout",
     "text":[
      "['banana', 'milk', 'bread', 'noodle']\n"
     ],
     "output_type":"stream"
    }
   ],
   "metadata":{
    "datalore":{
     "node_id":"6bIHU0h4vJkrPSUs1k9ws2",
     "type":"CODE",
     "hide_input_from_viewers":false,
     "hide_output_from_viewers":false
    }
   }
  },
  {
   "cell_type":"code",
   "source":[
    "# lsit methods (fucntions)\n",
    "shopping_items.append(\"jam\")\n",
    "print(shopping_items)"
   ],
   "execution_count":34,
   "outputs":[
    {
     "name":"stdout",
     "text":[
      "['banana', 'milk', 'bread', 'noodle', 'jam']\n"
     ],
     "output_type":"stream"
    }
   ],
   "metadata":{
    "datalore":{
     "node_id":"RgJlMSF4PeDnNz4r5EoAUc",
     "type":"CODE",
     "hide_input_from_viewers":false,
     "hide_output_from_viewers":false
    }
   }
  },
  {
   "cell_type":"code",
   "source":[
    "shopping_items.pop(3)"
   ],
   "execution_count":35,
   "outputs":[
    {
     "data":{
      "text\/plain":[
       "'noodle'"
      ]
     },
     "metadata":{
      
     },
     "output_type":"display_data"
    }
   ],
   "metadata":{
    "datalore":{
     "node_id":"8ihVACQ1e1N21mOdB199CW",
     "type":"CODE",
     "hide_input_from_viewers":false,
     "hide_output_from_viewers":false
    }
   }
  },
  {
   "cell_type":"code",
   "source":[
    "shopping_items"
   ],
   "execution_count":36,
   "outputs":[
    {
     "data":{
      "text\/plain":[
       "['banana', 'milk', 'bread', 'jam']"
      ]
     },
     "metadata":{
      
     },
     "output_type":"display_data"
    }
   ],
   "metadata":{
    "datalore":{
     "node_id":"VRjqjvM2Aqmk0q3hPEUMuJ",
     "type":"CODE",
     "hide_input_from_viewers":false,
     "hide_output_from_viewers":false
    }
   }
  },
  {
   "cell_type":"code",
   "source":[
    "shopping_items_2=shopping_items.copy()\n",
    "shopping_items_2[0]='APPLE'\n",
    "print(shopping_items)\n",
    "print(shopping_items_2)"
   ],
   "execution_count":37,
   "outputs":[
    {
     "name":"stdout",
     "text":[
      "['banana', 'milk', 'bread', 'jam']\n",
      "['APPLE', 'milk', 'bread', 'jam']\n"
     ],
     "output_type":"stream"
    }
   ],
   "metadata":{
    "datalore":{
     "node_id":"yF6zPHJnRbman1PASLcFqs",
     "type":"CODE",
     "hide_input_from_viewers":false,
     "hide_output_from_viewers":false
    }
   }
  },
  {
   "cell_type":"code",
   "source":[
    "# list can cantian anything\n",
    "student = [\n",
    "    ('toy',99),\n",
    "    ('mary',95),\n",
    "    ('Jonh',90)\n",
    "]\n",
    "print(student)"
   ],
   "execution_count":43,
   "outputs":[
    {
     "name":"stdout",
     "text":[
      "[('toy', 99), ('mary', 95), ('Jonh', 90)]\n"
     ],
     "output_type":"stream"
    }
   ],
   "metadata":{
    "datalore":{
     "node_id":"j53MYVsCwulvKr9CbexAdT",
     "type":"CODE",
     "hide_input_from_viewers":false,
     "hide_output_from_viewers":false
    }
   }
  },
  {
   "cell_type":"code",
   "source":[
    "# Tuple = immutable object\n",
    "data=(1,2,3,\"toy\",\"DS\",True)"
   ],
   "execution_count":44,
   "outputs":[
    
   ],
   "metadata":{
    "datalore":{
     "node_id":"5rSpmZmGvw2vcwncK2sN7V",
     "type":"CODE",
     "hide_input_from_viewers":false,
     "hide_output_from_viewers":false
    }
   }
  },
  {
   "cell_type":"code",
   "source":[
    "data[3]"
   ],
   "execution_count":45,
   "outputs":[
    {
     "data":{
      "text\/plain":[
       "'toy'"
      ]
     },
     "metadata":{
      
     },
     "output_type":"display_data"
    }
   ],
   "metadata":{
    "datalore":{
     "node_id":"Pjt5LXSZCZpuBWv7SayxHi",
     "type":"CODE",
     "hide_input_from_viewers":false,
     "hide_output_from_viewers":false
    }
   }
  },
  {
   "cell_type":"code",
   "source":[
    "#dictionary  (mutable)\n",
    "customer={\n",
    "    \"firstname\": \"kasidis\",\n",
    "    \"last_name\": \"toy\",\n",
    "    \"age\": 34,\n",
    "    \"love_hamberger\": True,\n",
    "    \"fav_movies\":['Thor','Dr.strange']\n",
    "}"
   ],
   "execution_count":4,
   "outputs":[
    
   ],
   "metadata":{
    "datalore":{
     "node_id":"CWXQB2d3UPWxjRHsEiTlav",
     "type":"CODE",
     "hide_input_from_viewers":false,
     "hide_output_from_viewers":false
    }
   }
  },
  {
   "cell_type":"code",
   "source":[
    "customer['fav_movies'][1]\n",
    "customer[\"age\"]=25\n",
    "customer"
   ],
   "execution_count":5,
   "outputs":[
    {
     "data":{
      "text\/plain":[
       "{'firstname': 'kasidis',\n",
       " 'last_name': 'toy',\n",
       " 'age': 25,\n",
       " 'love_hamberger': True,\n",
       " 'fav_movies': ['Thor', 'Dr.strange']}"
      ]
     },
     "metadata":{
      
     },
     "output_type":"display_data"
    }
   ],
   "metadata":{
    "datalore":{
     "node_id":"f1JEyArpJT497E20pxWGla",
     "type":"CODE",
     "hide_input_from_viewers":false,
     "hide_output_from_viewers":false
    }
   }
  },
  {
   "cell_type":"code",
   "source":[
    "del customer['last_name']\n",
    "customer"
   ],
   "execution_count":6,
   "outputs":[
    {
     "data":{
      "text\/plain":[
       "{'firstname': 'kasidis',\n",
       " 'age': 25,\n",
       " 'love_hamberger': True,\n",
       " 'fav_movies': ['Thor', 'Dr.strange']}"
      ]
     },
     "metadata":{
      
     },
     "output_type":"display_data"
    }
   ],
   "metadata":{
    "datalore":{
     "node_id":"bKhrKL1Dc0kJMElMYoKRgW",
     "type":"CODE",
     "hide_input_from_viewers":false,
     "hide_output_from_viewers":false
    }
   }
  },
  {
   "cell_type":"code",
   "source":[
    "list(customer.items())"
   ],
   "execution_count":7,
   "outputs":[
    {
     "data":{
      "text\/plain":[
       "[('firstname', 'kasidis'),\n",
       " ('age', 25),\n",
       " ('love_hamberger', True),\n",
       " ('fav_movies', ['Thor', 'Dr.strange'])]"
      ]
     },
     "metadata":{
      
     },
     "output_type":"display_data"
    }
   ],
   "metadata":{
    "datalore":{
     "node_id":"EYKZIDUV2E0V6q9hZdVTjT",
     "type":"CODE",
     "hide_input_from_viewers":false,
     "hide_output_from_viewers":false
    }
   }
  },
  {
   "cell_type":"code",
   "source":[
    "#Set\n",
    "\n",
    "fruit=['banana', 'apple','grape', 'lemon', 'grape']\n",
    "unique_fruit=set(fruit)\n",
    "unique_fruit.add('orange')\n",
    "unique_fruit    "
   ],
   "execution_count":4,
   "outputs":[
    {
     "data":{
      "text\/plain":[
       "{'apple', 'banana', 'grape', 'lemon', 'orange'}"
      ]
     },
     "metadata":{
      
     },
     "output_type":"display_data"
    }
   ],
   "metadata":{
    "datalore":{
     "node_id":"zOdTJfNnN2wxhQvDqdweq3",
     "type":"CODE",
     "hide_input_from_viewers":false,
     "hide_output_from_viewers":false
    }
   }
  },
  {
   "cell_type":"code",
   "source":[
    "# fucntion\n",
    "# control flow\n",
    "# OPP"
   ],
   "execution_count":null,
   "outputs":[
    
   ],
   "metadata":{
    "datalore":{
     "node_id":"Qm2xc0k81i2f33NTT0kolZ",
     "type":"CODE",
     "hide_input_from_viewers":false,
     "hide_output_from_viewers":false
    }
   }
  },
  {
   "cell_type":"code",
   "source":[
    "# creat our own fucntions \n",
    "def greeting(name):\n",
    "    print(f\"hello {name}!\")"
   ],
   "execution_count":13,
   "outputs":[
    
   ],
   "metadata":{
    "datalore":{
     "node_id":"55tYW7ou56YDxU3cqLbav6",
     "type":"CODE",
     "hide_input_from_viewers":false,
     "hide_output_from_viewers":false
    }
   }
  },
  {
   "cell_type":"code",
   "source":[
    "greeting(\"Anna\")"
   ],
   "execution_count":14,
   "outputs":[
    {
     "name":"stdout",
     "text":[
      "hello Anna!\n"
     ],
     "output_type":"stream"
    }
   ],
   "metadata":{
    "datalore":{
     "node_id":"CDBBYfSJc0qmQANDdGH5lv",
     "type":"CODE",
     "hide_input_from_viewers":false,
     "hide_output_from_viewers":false
    }
   }
  },
  {
   "cell_type":"code",
   "source":[
    "def add_two_nums(a,b):\n",
    "    \"\"\"\n",
    "    input: two integer nubmers\n",
    "    output: sum fo two numbers\n",
    "    \"\"\"\n",
    "    \n",
    "    return a+b"
   ],
   "execution_count":21,
   "outputs":[
    
   ],
   "metadata":{
    "datalore":{
     "node_id":"XEo01vMwHY0O2BZc4nE7Ap",
     "type":"CODE",
     "hide_input_from_viewers":false,
     "hide_output_from_viewers":false
    }
   }
  },
  {
   "cell_type":"code",
   "source":[
    "result=add_two_nums(10,160)\n",
    "print(result)"
   ],
   "execution_count":22,
   "outputs":[
    {
     "name":"stdout",
     "text":[
      "170\n"
     ],
     "output_type":"stream"
    }
   ],
   "metadata":{
    "datalore":{
     "node_id":"TcKQoLxNvJ1X3MADkNYjI7",
     "type":"CODE",
     "hide_input_from_viewers":false,
     "hide_output_from_viewers":false
    }
   }
  },
  {
   "cell_type":"code",
   "source":[
    "# lambda function\n",
    "#def greeting():\n",
    " #   print(\"Helllo!\")\n",
    "\n",
    "\n",
    "greeting = lambda name:print(f\"Hello {name}!\")"
   ],
   "execution_count":26,
   "outputs":[
    
   ],
   "metadata":{
    "datalore":{
     "node_id":"iemg4PNt3vIFyZKHiESDrq",
     "type":"CODE",
     "hide_input_from_viewers":false,
     "hide_output_from_viewers":false
    }
   }
  },
  {
   "cell_type":"code",
   "source":[
    "greeting(\"Anna\")    "
   ],
   "execution_count":27,
   "outputs":[
    {
     "name":"stdout",
     "text":[
      "Hello Anna!\n"
     ],
     "output_type":"stream"
    }
   ],
   "metadata":{
    "datalore":{
     "node_id":"YQurnB5DvroQ1Q0Z82C5PA",
     "type":"CODE",
     "hide_input_from_viewers":false,
     "hide_output_from_viewers":false
    }
   }
  },
  {
   "cell_type":"code",
   "source":[
    "def cube(base=10, pow=3):\n",
    "    return base**pow    "
   ],
   "execution_count":28,
   "outputs":[
    
   ],
   "metadata":{
    "datalore":{
     "node_id":"NwYNkA42WDrmTqZe4B8BSw",
     "type":"CODE",
     "hide_input_from_viewers":false,
     "hide_output_from_viewers":false
    }
   }
  },
  {
   "cell_type":"code",
   "source":[
    "cube (pow=6,base=2)"
   ],
   "execution_count":29,
   "outputs":[
    {
     "data":{
      "text\/plain":[
       "64"
      ]
     },
     "metadata":{
      
     },
     "output_type":"display_data"
    }
   ],
   "metadata":{
    "datalore":{
     "node_id":"cFt65h0zVbwudAuoCXIpuc",
     "type":"CODE",
     "hide_input_from_viewers":false,
     "hide_output_from_viewers":false
    }
   }
  },
  {
   "cell_type":"markdown",
   "source":[
    "# Control flow\n",
    "\n",
    "- if\n",
    "- for\n",
    "- while"
   ],
   "attachments":{
    
   },
   "metadata":{
    "datalore":{
     "node_id":"6TPuwnFESjNsVGBEObHk5d",
     "type":"MD",
     "hide_input_from_viewers":false,
     "hide_output_from_viewers":false
    }
   }
  },
  {
   "cell_type":"code",
   "source":[
    "def grading(score: int) -> None:\n",
    "\n",
    "    if score >=80:\n",
    "        print(\"Distinction\")\n",
    "    elif score  >=50:\n",
    "        print(\"Passed\")\n",
    "    else:\n",
    "        print(\"Failed\")"
   ],
   "execution_count":41,
   "outputs":[
    
   ],
   "metadata":{
    "datalore":{
     "node_id":"xodTcZwibXy9MKmuIlrAk2",
     "type":"CODE",
     "hide_input_from_viewers":false,
     "hide_output_from_viewers":false
    }
   }
  },
  {
   "cell_type":"code",
   "source":[
    "grading(62)"
   ],
   "execution_count":42,
   "outputs":[
    {
     "name":"stdout",
     "text":[
      "Passed\n"
     ],
     "output_type":"stream"
    }
   ],
   "metadata":{
    "datalore":{
     "node_id":"xcXW9C1akWMH117vL4SR0T",
     "type":"CODE",
     "hide_input_from_viewers":false,
     "hide_output_from_viewers":false
    }
   }
  },
  {
   "cell_type":"code",
   "source":[
    "# get input from a user\n",
    "username = input(\"what is your name:\")"
   ],
   "execution_count":36,
   "outputs":[
    {
     "name":"stdout",
     "text":[
      "what is your name: toy\n"
     ],
     "output_type":"stream"
    }
   ],
   "metadata":{
    "datalore":{
     "node_id":"aG0K3wf4hZ8d3tiX5y8Qpl",
     "type":"CODE",
     "hide_input_from_viewers":false,
     "hide_output_from_viewers":false
    }
   }
  },
  {
   "cell_type":"code",
   "source":[
    "username"
   ],
   "execution_count":37,
   "outputs":[
    {
     "data":{
      "text\/plain":[
       "'toy'"
      ]
     },
     "metadata":{
      
     },
     "output_type":"display_data"
    }
   ],
   "metadata":{
    "datalore":{
     "node_id":"3Df58TkmGaLIB68Hb28cEv",
     "type":"CODE",
     "hide_input_from_viewers":false,
     "hide_output_from_viewers":false
    }
   }
  },
  {
   "cell_type":"code",
   "source":[
    "# for loop\n",
    "\n",
    "shopping_list=['egg', 'milk', 'bread']\n",
    "\n",
    "new_list =[]\n",
    "for item in shopping_list:\n",
    "    # print(f\"I have to bub {item.upper()}\")\n",
    "    new_list.append(f\"I have to bub {item.upper()}\")\n",
    "print(new_list)"
   ],
   "execution_count":46,
   "outputs":[
    {
     "name":"stdout",
     "text":[
      "['I have to bub EGG', 'I have to bub MILK', 'I have to bub BREAD']\n"
     ],
     "output_type":"stream"
    }
   ],
   "metadata":{
    "datalore":{
     "node_id":"R5vv8aL47MlDF4ilHK8D1O",
     "type":"CODE",
     "hide_input_from_viewers":false,
     "hide_output_from_viewers":false
    }
   }
  },
  {
   "cell_type":"code",
   "source":[
    "# list comprehension \n",
    "new_list=[item.upper() for item in shopping_list]\n",
    "print(new_list)"
   ],
   "execution_count":49,
   "outputs":[
    {
     "name":"stdout",
     "text":[
      "['EGG', 'MILK', 'BREAD']\n"
     ],
     "output_type":"stream"
    }
   ],
   "metadata":{
    "datalore":{
     "node_id":"p9HkuQ2ZT2MaVh4cjYYwFj",
     "type":"CODE",
     "hide_input_from_viewers":false,
     "hide_output_from_viewers":false
    }
   }
  },
  {
   "cell_type":"code",
   "source":[
    "# if-else + for loop\n",
    "\n",
    "scores=[95, 90, 75, 79, 82]\n",
    "grades=[]\n",
    "\n",
    "for score in scores:\n",
    "    if score >=80:\n",
    "        grades.append(\"Passed\")\n",
    "    else:\n",
    "        grades.append(\"Failed\")\n",
    "print(grades)"
   ],
   "execution_count":50,
   "outputs":[
    {
     "name":"stdout",
     "text":[
      "['Passed', 'Passed', 'Failed', 'Failed', 'Passed']\n"
     ],
     "output_type":"stream"
    }
   ],
   "metadata":{
    "datalore":{
     "node_id":"bnLqOlu86i2Sd3xPsojGf8",
     "type":"CODE",
     "hide_input_from_viewers":false,
     "hide_output_from_viewers":false
    }
   }
  },
  {
   "cell_type":"code",
   "source":[
    "# while loop\n",
    "\n",
    "count=0\n",
    "\n",
    "while count<5:\n",
    "    print(\"hello\",count)\n",
    "    count+=1"
   ],
   "execution_count":52,
   "outputs":[
    {
     "name":"stdout",
     "text":[
      "hello 0\n",
      "hello 1\n",
      "hello 2\n",
      "hello 3\n",
      "hello 4\n"
     ],
     "output_type":"stream"
    }
   ],
   "metadata":{
    "datalore":{
     "node_id":"cNJqqwFrGEtLYDomFd60ls",
     "type":"CODE",
     "hide_input_from_viewers":false,
     "hide_output_from_viewers":false
    }
   }
  },
  {
   "cell_type":"code",
   "source":[
    "# multiple conditons\n",
    "print(True and True)\n",
    "print(True and False)"
   ],
   "execution_count":53,
   "outputs":[
    {
     "name":"stdout",
     "text":[
      "True\n",
      "False\n"
     ],
     "output_type":"stream"
    }
   ],
   "metadata":{
    "datalore":{
     "node_id":"bMY9K1SrdQf7hZ7d5MBsM4",
     "type":"CODE",
     "hide_input_from_viewers":false,
     "hide_output_from_viewers":false
    }
   }
  },
  {
   "cell_type":"code",
   "source":[
    "\"hello\"==\"Hello\""
   ],
   "execution_count":54,
   "outputs":[
    {
     "data":{
      "text\/plain":[
       "False"
      ]
     },
     "metadata":{
      
     },
     "output_type":"display_data"
    }
   ],
   "metadata":{
    "datalore":{
     "node_id":"zVFB6NkfAfPnJoMRaLMBae",
     "type":"CODE",
     "hide_input_from_viewers":false,
     "hide_output_from_viewers":false
    }
   }
  },
  {
   "cell_type":"code",
   "source":[
    "# while loop\n",
    "count=0\n",
    "while True:\n",
    "    print(count)\n",
    "    count+=1\n",
    "    if count ==10:\n",
    "        print(\"Program End\")\n",
    "        break "
   ],
   "execution_count":55,
   "outputs":[
    {
     "name":"stdout",
     "text":[
      "0\n",
      "1\n",
      "2\n",
      "3\n",
      "4\n",
      "5\n",
      "6\n",
      "7\n",
      "8\n",
      "9\n",
      "Program End\n"
     ],
     "output_type":"stream"
    }
   ],
   "metadata":{
    "datalore":{
     "node_id":"6hRTJiehNVQm7xeGG2zdC8",
     "type":"CODE",
     "hide_input_from_viewers":false,
     "hide_output_from_viewers":false
    }
   }
  },
  {
   "cell_type":"markdown",
   "source":[
    "# OOP\n",
    "Object Oriented Programming"
   ],
   "attachments":{
    
   },
   "metadata":{
    "datalore":{
     "node_id":"u8pr3kKD2wqPLBfcrrlagj",
     "type":"MD",
     "hide_input_from_viewers":false,
     "hide_output_from_viewers":false
    }
   }
  },
  {
   "cell_type":"code",
   "source":[
    "class Dog:\n",
    "    def __init__(self, name, age):\n",
    "        self.name=name\n",
    "        self.age=age\n",
    "    def hello(self):\n",
    "        print(f\"Hi my name is {self.name}!\")\n",
    "    def get_older(self):\n",
    "        self.age+=1\n",
    "        print(f\"I'm geeting older one year. I'm now {self.age} years old\")"
   ],
   "execution_count":68,
   "outputs":[
    
   ],
   "metadata":{
    "datalore":{
     "node_id":"rxOp7AkG89Yz9tMrDkmkpR",
     "type":"CODE",
     "hide_input_from_viewers":false,
     "hide_output_from_viewers":false
    }
   }
  },
  {
   "cell_type":"code",
   "source":[
    "dog1= Dog(\"milo\",2)\n",
    "dog2= Dog(\"rambo\",3)\n",
    "dog1.hello()\n",
    "dog2.hello()\n",
    "dog1.get_older()"
   ],
   "execution_count":69,
   "outputs":[
    {
     "name":"stdout",
     "text":[
      "Hi my name is milo!\n",
      "Hi my name is rambo!\n",
      "I'm geeting older one year. I'm now 3 years old\n"
     ],
     "output_type":"stream"
    }
   ],
   "metadata":{
    "datalore":{
     "node_id":"dcILS1Pq8zlUrSvu7U5i7H",
     "type":"CODE",
     "hide_input_from_viewers":false,
     "hide_output_from_viewers":false
    }
   }
  },
  {
   "cell_type":"code",
   "source":[
    "print(dog1.name, dog1.age)"
   ],
   "execution_count":60,
   "outputs":[
    {
     "name":"stdout",
     "text":[
      "milo 2\n"
     ],
     "output_type":"stream"
    }
   ],
   "metadata":{
    "datalore":{
     "node_id":"97uHgbXNiTFONtP00su4QP",
     "type":"CODE",
     "hide_input_from_viewers":false,
     "hide_output_from_viewers":false
    }
   }
  },
  {
   "cell_type":"code",
   "source":[
    "# ATM\n",
    "\n",
    "class ATM:\n",
    "    def __init__(self, name, balance):\n",
    "        self.name = name\n",
    "        self.balance= balance\n",
    "\n",
    "    def check_balance(self):\n",
    "        message = f\"Account: {self.name}, Balance: {self.balance}\"\n",
    "        print(message)\n",
    "        \n",
    "    def deposit(self, money):\n",
    "        self.balance += money\n",
    "        print(f\"New balance: {self.balance}\")\n",
    "        print(\"Deposit Successfully\")\n",
    "\n",
    "    def change_name(self, new_acc_name):\n",
    "        self.name=new_acc_name\n",
    "        print(f\"New Name: {self.name}\")"
   ],
   "execution_count":80,
   "outputs":[
    
   ],
   "metadata":{
    "datalore":{
     "node_id":"p5jKNJu32wO9eEr6zu5aBz",
     "type":"CODE",
     "hide_input_from_viewers":false,
     "hide_output_from_viewers":false
    }
   }
  },
  {
   "cell_type":"code",
   "source":[
    "scb = ATM(\"Anna\", 500)"
   ],
   "execution_count":85,
   "outputs":[
    
   ],
   "metadata":{
    "datalore":{
     "node_id":"YJTMRbLdsAMMff9zDJmvZB",
     "type":"CODE",
     "hide_input_from_viewers":false,
     "hide_output_from_viewers":false
    }
   }
  },
  {
   "cell_type":"code",
   "source":[
    "scb.check_balance()"
   ],
   "execution_count":86,
   "outputs":[
    {
     "name":"stdout",
     "text":[
      "Account: Anna, Balance: 500\n"
     ],
     "output_type":"stream"
    }
   ],
   "metadata":{
    "datalore":{
     "node_id":"pRrSWOQDDav1fRv69axSEw",
     "type":"CODE",
     "hide_input_from_viewers":false,
     "hide_output_from_viewers":false
    }
   }
  },
  {
   "cell_type":"code",
   "source":[
    "scb.deposit(900)"
   ],
   "execution_count":87,
   "outputs":[
    {
     "name":"stdout",
     "text":[
      "New balance: 1400\n",
      "Deposit Successfully\n"
     ],
     "output_type":"stream"
    }
   ],
   "metadata":{
    "datalore":{
     "node_id":"pwUnqwz1OQh5BxoGbdZSwp",
     "type":"CODE",
     "hide_input_from_viewers":false,
     "hide_output_from_viewers":false
    }
   }
  },
  {
   "cell_type":"code",
   "source":[
    "scb.change_name(\"Marie\")"
   ],
   "execution_count":89,
   "outputs":[
    {
     "name":"stdout",
     "text":[
      "New Name: Marie\n"
     ],
     "output_type":"stream"
    }
   ],
   "metadata":{
    "datalore":{
     "node_id":"5lkNLH1zVmDiYrJUTqa7ij",
     "type":"CODE",
     "hide_input_from_viewers":false,
     "hide_output_from_viewers":false
    }
   }
  }
 ],
 "metadata":{
  "kernelspec":{
   "display_name":"Python",
   "language":"python",
   "name":"python"
  },
  "datalore":{
   "version":1,
   "computation_mode":"JUPYTER",
   "package_manager":"pip",
   "base_environment":"default",
   "packages":[
    
   ]
  }
 },
 "nbformat":4,
 "nbformat_minor":4
}