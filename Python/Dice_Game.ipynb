{
 "cells":[
  {
   "cell_type":"code",
   "source":[
    "import random\n",
    "\n",
    "def roll_dice():\n",
    "    dice_total = random.randint(1,6) + random.randint(1,6)\n",
    "    return dice_total\n",
    "\n",
    "def main():\n",
    "    player1 = input(\"Enter player 1's name: \")\n",
    "    player2 = input(\"Enter player 2's name: \")\n",
    "\n",
    "    roll1 = roll_dice()\n",
    "    roll2 = roll_dice()\n",
    "\n",
    "    print(player1, 'rolled', roll1)\n",
    "    print(player2, 'rolled', roll2)\n",
    "\n",
    "    if roll1 > roll2:\n",
    "        print(player1, 'wins!')\n",
    "    elif roll2 > roll1:\n",
    "        print(player2, 'wins!')\n",
    "    else:\n",
    "        print('You tie!')\n",
    "\n",
    "main()"
   ],
   "execution_count":1,
   "outputs":[
    {
     "name":"stdout",
     "text":[
      "Enter player 1's name:  A\n",
      "Enter player 2's name:  B\n",
      "A rolled 9\n",
      "B rolled 5\n",
      "A wins!\n"
     ],
     "output_type":"stream"
    }
   ],
   "metadata":{
    "datalore":{
     "node_id":"N0xECr9sC41in0zcdNRbzm",
     "type":"CODE",
     "hide_input_from_viewers":false,
     "hide_output_from_viewers":false
    }
   }
  }
 ],
 "metadata":{
  "kernelspec":{
   "display_name":"Python",
   "language":"python",
   "name":"python"
  },
  "datalore":{
   "version":1,
   "computation_mode":"JUPYTER",
   "package_manager":"pip",
   "base_environment":"default",
   "packages":[
    
   ]
  }
 },
 "nbformat":4,
 "nbformat_minor":4
}