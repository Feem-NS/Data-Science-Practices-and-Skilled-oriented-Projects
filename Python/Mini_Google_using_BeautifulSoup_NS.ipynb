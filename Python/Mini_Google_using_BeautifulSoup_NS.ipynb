{
  "nbformat": 4,
  "nbformat_minor": 0,
  "metadata": {
    "colab": {
      "provenance": []
    },
    "kernelspec": {
      "name": "python3",
      "display_name": "Python 3"
    },
    "language_info": {
      "name": "python"
    }
  },
  "cells": [
    {
      "cell_type": "code",
      "execution_count": null,
      "metadata": {
        "id": "UwfAM1bBh_mR"
      },
      "outputs": [],
      "source": [
        "import requests\n",
        "from bs4 import BeautifulSoup\n",
        "\n",
        "urls = ['https://editorial.rottentomatoes.com']\n",
        "\n",
        "\n",
        "\n",
        "keywords = ['Marvel','Avatar','Box office']\n",
        "\n",
        "def find_keywords(keywords,txt):\n",
        "  for keyword in keywords:\n",
        "    if keyword in txt:\n",
        "      return True\n",
        "    return False\n"
      ]
    },
    {
      "cell_type": "code",
      "source": [
        "for url in urls:\n",
        "  res =requests.get(url)\n",
        "  html_page = res.content\n",
        "  soup = BeautifulSoup(html_page,'html.parser')\n",
        "  txts=soup.find_all(text=True)\n",
        "  txts=[txt.strip() for txt in txts if find_keywords(keywords,txt)]\n",
        "\n",
        "  if len(txts)>0:\n",
        "    print(url)\n",
        "    print('\\n'.join(txts))"
      ],
      "metadata": {
        "colab": {
          "base_uri": "https://localhost:8080/"
        },
        "id": "rJSxVqUsoMsE",
        "outputId": "e34e6349-c658-45b1-bf5e-675401e5386e"
      },
      "execution_count": null,
      "outputs": [
        {
          "output_type": "stream",
          "name": "stdout",
          "text": [
            "https://editorial.rottentomatoes.com\n",
            "Marvel TV Ranked by Tomatometer\n",
            "Captain Marvel\n",
            "Marvel Movies Ranked Worst to Best by Tomatometer\n"
          ]
        }
      ]
    }
  ]
}