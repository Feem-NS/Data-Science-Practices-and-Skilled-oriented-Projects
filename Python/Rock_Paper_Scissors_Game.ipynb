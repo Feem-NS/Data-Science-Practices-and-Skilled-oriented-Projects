{
 "cells":[
  {
   "cell_type":"code",
   "source":[
    "import random\n",
    "\n",
    "computer_choice = random.choice(['scissors', 'rock', 'paper'])\n",
    "user_choice = input(\"Do you want - rock, paper, or scissors?\\n\")\n",
    "\n",
    "if computer_choice == user_choice:\n",
    "    print('TIE')\n",
    "elif user_choice == 'rock' and computer_choice == 'scissors':\n",
    "    print('WIN, the computer had ' + computer_choice)\n",
    "elif user_choice == 'paper' and computer_choice == 'rock':\n",
    "    print('WIN, the computer had ' + computer_choice)\n",
    "elif user_choice == 'scissors' and computer_choice == 'paper':\n",
    "    print('WIN, the computer had ' + computer_choice)\n",
    "else:\n",
    "    print('You lose :( Computer wins :D')"
   ],
   "execution_count":2,
   "outputs":[
    {
     "name":"stdout",
     "text":[
      "Do you want - rock, paper, or scissors?\n",
      " paper\n",
      "You lose :( Computer wins :D\n"
     ],
     "output_type":"stream"
    }
   ],
   "metadata":{
    "datalore":{
     "node_id":"f3SQhgt6CtmvRxvNUZFRUW",
     "type":"CODE",
     "hide_input_from_viewers":false,
     "hide_output_from_viewers":false
    }
   }
  }
 ],
 "metadata":{
  "kernelspec":{
   "display_name":"Python",
   "language":"python",
   "name":"python"
  },
  "datalore":{
   "version":1,
   "computation_mode":"JUPYTER",
   "package_manager":"pip",
   "base_environment":"default",
   "packages":[
    
   ]
  }
 },
 "nbformat":4,
 "nbformat_minor":4
}