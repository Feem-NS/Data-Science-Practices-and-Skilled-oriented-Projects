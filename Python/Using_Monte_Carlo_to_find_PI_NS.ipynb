{
  "nbformat": 4,
  "nbformat_minor": 0,
  "metadata": {
    "colab": {
      "provenance": []
    },
    "kernelspec": {
      "name": "python3",
      "display_name": "Python 3"
    }
  },
  "cells": [
    {
      "cell_type": "code",
      "metadata": {
        "id": "xfaCFMC0Xme4",
        "colab": {
          "base_uri": "https://localhost:8080/"
        },
        "outputId": "8db59e1b-26ff-454a-f540-77cc74786cf9"
      },
      "source": [
        "import random\n",
        "\n",
        "total_points = 1000000\n",
        "total_point_in_circle = 0\n",
        "\n",
        "for i in range(total_points):\n",
        "  \n",
        "  x=random.random()*2-1\n",
        "  y=random.random()*2-1\n",
        "\n",
        "  if x**2 + y**2 <=1.0:\n",
        "      total_point_in_circle += 1\n",
        "  if i%100000==0:\n",
        "    print(i,'Approximation of Pi:', total_point_in_circle*4/(i+1))\n",
        "print('Final approximation of Pi is', total_point_in_circle*4/total_points)\n",
        "\n"
      ],
      "execution_count": null,
      "outputs": [
        {
          "output_type": "stream",
          "name": "stdout",
          "text": [
            "0 Approximation of Pi: 4.0\n",
            "100000 Approximation of Pi: 3.143608563914361\n",
            "200000 Approximation of Pi: 3.146184269078655\n",
            "300000 Approximation of Pi: 3.142042859857134\n",
            "400000 Approximation of Pi: 3.140932147669631\n",
            "500000 Approximation of Pi: 3.140769718460563\n",
            "600000 Approximation of Pi: 3.1424747625420624\n",
            "700000 Approximation of Pi: 3.142104082708453\n",
            "800000 Approximation of Pi: 3.1431810710236614\n",
            "900000 Approximation of Pi: 3.1419209534211627\n",
            "Final approximation of Pi is 3.141608\n"
          ]
        }
      ]
    }
  ]
}